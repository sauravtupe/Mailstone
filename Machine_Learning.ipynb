{
  "nbformat": 4,
  "nbformat_minor": 0,
  "metadata": {
    "colab": {
      "provenance": []
    },
    "kernelspec": {
      "name": "python3",
      "display_name": "Python 3"
    },
    "language_info": {
      "name": "python"
    }
  },
  "cells": [
    {
      "cell_type": "markdown",
      "source": [
        "# Create a database named Travel_Planner in MySQL, and create a table named bookings in it with the following attributes: user_id INT, flight_id INT, hotel_id INT, city_id INT, booking_date DATE. Insert some dummy values. Now you have to read the contents of this table using Pandas and DataFrames. Show the output."
      ],
      "metadata": {
        "id": "sENBU4diuyvX"
      }
    },
    {
      "cell_type": "code",
      "source": [
        "!pip install mysql-connector-python\n"
      ],
      "metadata": {
        "colab": {
          "base_uri": "https://localhost:8080/"
        },
        "id": "5JNTWUXjvDnx",
        "outputId": "dded27b1-30f1-4f73-a673-218f2d7f7099"
      },
      "execution_count": null,
      "outputs": [
        {
          "output_type": "stream",
          "name": "stdout",
          "text": [
            "Collecting mysql-connector-python\n",
            "  Downloading mysql_connector_python-9.0.0-cp310-cp310-manylinux_2_17_x86_64.whl.metadata (2.0 kB)\n",
            "Downloading mysql_connector_python-9.0.0-cp310-cp310-manylinux_2_17_x86_64.whl (19.3 MB)\n",
            "\u001b[2K   \u001b[90m━━━━━━━━━━━━━━━━━━━━━━━━━━━━━━━━━━━━━━━━\u001b[0m \u001b[32m19.3/19.3 MB\u001b[0m \u001b[31m49.2 MB/s\u001b[0m eta \u001b[36m0:00:00\u001b[0m\n",
            "\u001b[?25hInstalling collected packages: mysql-connector-python\n",
            "Successfully installed mysql-connector-python-9.0.0\n"
          ]
        }
      ]
    },
    {
      "cell_type": "code",
      "execution_count": null,
      "metadata": {
        "colab": {
          "base_uri": "https://localhost:8080/"
        },
        "id": "UCPvqqxntdvh",
        "outputId": "f9e73ca4-0241-4b65-da6a-673535a2bd71"
      },
      "outputs": [
        {
          "output_type": "stream",
          "name": "stdout",
          "text": [
            "Error: 2003 (HY000): Can't connect to MySQL server on 'localhost:3306' (99)\n",
            "Failed to connect to the database.\n"
          ]
        }
      ],
      "source": [
        "import pandas as pd\n",
        "import mysql.connector\n",
        "from mysql.connector import Error\n",
        "\n",
        "# Function to connect to the database\n",
        "def create_connection():\n",
        "    try:\n",
        "        conn = mysql.connector.connect(\n",
        "            host='localhost',\n",
        "            user='your_username',      # Replace with your MySQL username\n",
        "            password='your_password',  # Replace with your MySQL password\n",
        "            database='Travel_Planner'\n",
        "        )\n",
        "        if conn.is_connected():\n",
        "            print(\"Successfully connected to the database\")\n",
        "            return conn\n",
        "    except Error as e:\n",
        "        print(f\"Error: {e}\")\n",
        "        return None\n",
        "\n",
        "# Establish a connection to the database\n",
        "conn = create_connection()\n",
        "\n",
        "if conn is not None:\n",
        "    try:\n",
        "        # Query the table and read it into a DataFrame\n",
        "        query = \"SELECT * FROM bookings\"\n",
        "        df = pd.read_sql(query, conn)\n",
        "\n",
        "        # Display the DataFrame\n",
        "        print(df)\n",
        "    except Exception as e:\n",
        "        print(f\"Error querying the database: {e}\")\n",
        "    finally:\n",
        "        # Close the connection\n",
        "        conn.close()\n",
        "else:\n",
        "    print(\"Failed to connect to the database.\")\n"
      ]
    },
    {
      "cell_type": "markdown",
      "source": [
        "**What is the difference between a classification and a regression problem**"
      ],
      "metadata": {
        "id": "eEn-TDvN0Ez3"
      }
    },
    {
      "cell_type": "markdown",
      "source": [
        "Classification"
      ],
      "metadata": {
        "id": "eizvettF06TC"
      }
    },
    {
      "cell_type": "code",
      "source": [
        "from sklearn.datasets import load_iris\n",
        "from sklearn.model_selection import train_test_split\n",
        "from sklearn.ensemble import RandomForestClassifier\n",
        "from sklearn.metrics import accuracy_score\n",
        "\n",
        "# Load dataset\n",
        "iris = load_iris()\n",
        "X = iris.data\n",
        "y = iris.target\n",
        "\n",
        "# Split data\n",
        "X_train, X_test, y_train, y_test = train_test_split(X, y, test_size=0.3, random_state=42)\n",
        "\n",
        "# Train model\n",
        "model = RandomForestClassifier()\n",
        "model.fit(X_train, y_train)\n",
        "\n",
        "# Predict\n",
        "predictions = model.predict(X_test)\n",
        "\n",
        "# Evaluate\n",
        "print(accuracy_score(y_test, predictions))\n"
      ],
      "metadata": {
        "colab": {
          "base_uri": "https://localhost:8080/"
        },
        "id": "BRH4IyBZu8Sv",
        "outputId": "66cc1a47-ecd7-4ed3-fd63-d2cf4319d205"
      },
      "execution_count": null,
      "outputs": [
        {
          "output_type": "stream",
          "name": "stdout",
          "text": [
            "1.0\n"
          ]
        }
      ]
    },
    {
      "cell_type": "markdown",
      "source": [
        "Regression"
      ],
      "metadata": {
        "id": "NDAiCYjw1J2F"
      }
    },
    {
      "cell_type": "code",
      "source": [
        "from sklearn.datasets import load_breast_cancer\n",
        "from sklearn.model_selection import train_test_split\n",
        "from sklearn.linear_model import LinearRegression\n",
        "from sklearn.metrics import mean_squared_error\n",
        "\n",
        "# Load dataset\n",
        "boston = load_breast_cancer()\n",
        "X = boston.data\n",
        "y = boston.target\n",
        "\n",
        "# Split data\n",
        "X_train, X_test, y_train, y_test = train_test_split(X, y, test_size=0.3, random_state=42)\n",
        "\n",
        "# Train model\n",
        "model = LinearRegression()\n",
        "model.fit(X_train, y_train)\n",
        "\n",
        "# Predict\n",
        "predictions = model.predict(X_test)\n",
        "\n",
        "# Evaluate\n",
        "print(mean_squared_error(y_test, predictions))\n"
      ],
      "metadata": {
        "colab": {
          "base_uri": "https://localhost:8080/"
        },
        "id": "EcvOhSm50-J6",
        "outputId": "76e11ac9-e6a4-41dd-a4f9-1438a154aad2"
      },
      "execution_count": null,
      "outputs": [
        {
          "output_type": "stream",
          "name": "stdout",
          "text": [
            "0.06728376859363107\n"
          ]
        }
      ]
    },
    {
      "cell_type": "code",
      "source": [],
      "metadata": {
        "id": "RVs9yaR02zQR"
      },
      "execution_count": null,
      "outputs": []
    }
  ]
}