{
  "nbformat": 4,
  "nbformat_minor": 0,
  "metadata": {
    "colab": {
      "provenance": []
    },
    "kernelspec": {
      "name": "python3",
      "display_name": "Python 3"
    },
    "language_info": {
      "name": "python"
    }
  },
  "cells": [
    {
      "cell_type": "markdown",
      "source": [
        "#Question 1.1: Write the answer to these questions.\n",
        "Note: Give at least one example for each of the questions\n"
      ],
      "metadata": {
        "id": "rLEOz8njCEl1"
      }
    },
    {
      "cell_type": "markdown",
      "source": [
        "***What is the difference between static and dynamic variables in Python***"
      ],
      "metadata": {
        "id": "wk9nr4JKAnOU"
      }
    },
    {
      "cell_type": "code",
      "execution_count": null,
      "metadata": {
        "colab": {
          "base_uri": "https://localhost:8080/"
        },
        "id": "ll9PU1r5_zjF",
        "outputId": "4c990ba5-85f8-4bf6-b10d-58b159d4ed0c"
      },
      "outputs": [
        {
          "output_type": "stream",
          "name": "stdout",
          "text": [
            "Car1: Red Toyota, Wheels: 4\n",
            "Car2: Blue Honda, Wheels: 4\n",
            "Car1: Red Toyota, Wheels: 6\n",
            "Car2: Blue Honda, Wheels: 6\n",
            "Car1: Green Toyota, Wheels: 6\n",
            "Car2: Blue Honda, Wheels: 6\n"
          ]
        }
      ],
      "source": [
        "class Car:\n",
        "    # Static variable\n",
        "    wheels = 4  # All cars generally have 4 wheels, so this is shared by all instances\n",
        "\n",
        "    def __init__(self, color, brand):\n",
        "        # Dynamic variables\n",
        "        self.color = color  # Each car can have a different color\n",
        "        self.brand = brand  # Each car can be of a different brand\n",
        "\n",
        "# Create instances of Car\n",
        "car1 = Car(\"Red\", \"Toyota\")\n",
        "car2 = Car(\"Blue\", \"Honda\")\n",
        "\n",
        "# Access static and dynamic variables\n",
        "print(f\"Car1: {car1.color} {car1.brand}, Wheels: {car1.wheels}\")  # Output: Car1: Red Toyota, Wheels: 4\n",
        "print(f\"Car2: {car2.color} {car2.brand}, Wheels: {car2.wheels}\")  # Output: Car2: Blue Honda, Wheels: 4\n",
        "\n",
        "# Modify the static variable\n",
        "Car.wheels = 6\n",
        "\n",
        "# The change in the static variable affects all instances\n",
        "print(f\"Car1: {car1.color} {car1.brand}, Wheels: {car1.wheels}\")  # Output: Car1: Red Toyota, Wheels: 6\n",
        "print(f\"Car2: {car2.color} {car2.brand}, Wheels: {car2.wheels}\")  # Output: Car2: Blue Honda, Wheels: 6\n",
        "\n",
        "# Modify a dynamic variable for car1\n",
        "car1.color = \"Green\"\n",
        "\n",
        "# The change in the dynamic variable affects only car1\n",
        "print(f\"Car1: {car1.color} {car1.brand}, Wheels: {car1.wheels}\")  # Output: Car1: Green Toyota, Wheels: 6\n",
        "print(f\"Car2: {car2.color} {car2.brand}, Wheels: {car2.wheels}\")  # Output: Car2: Blue Honda, Wheels: 6"
      ]
    },
    {
      "cell_type": "markdown",
      "source": [
        "**explain the purpose of pop, popitem, and clear() in a dictionary with suitable examples**"
      ],
      "metadata": {
        "id": "mouBDCAxGA_t"
      }
    },
    {
      "cell_type": "code",
      "source": [
        "# Dictionary initialization\n",
        "student = {'name': 'Sourav', 'age': 25, 'course': 'Data Science', 'grade': 'A'}\n",
        "\n",
        "# 1. pop() - Remove a specific key\n",
        "popped_value = student.pop('age')\n",
        "print(\"Popped Value:\", popped_value)  # Output: 25\n",
        "print(\"Dictionary after pop():\", student)  # Output: {'name': 'Sourav', 'course': 'Data Science', 'grade': 'A'}\n",
        "\n",
        "# 2. popitem() - Remove the last inserted key-value pair\n",
        "popped_item = student.popitem()\n",
        "print(\"Popped Item:\", popped_item)  # Output: ('grade', 'A')\n",
        "print(\"Dictionary after popitem():\", student)  # Output: {'name': 'Sourav', 'course': 'Data Science'}\n",
        "\n",
        "# 3. clear() - Clear the entire dictionary\n",
        "student.clear()\n",
        "print(\"Dictionary after clear():\", student)  # Output: {}\n"
      ],
      "metadata": {
        "colab": {
          "base_uri": "https://localhost:8080/"
        },
        "id": "g0kns6mtEPqd",
        "outputId": "fc1040aa-c265-4f0d-8f9d-dfc632507733"
      },
      "execution_count": null,
      "outputs": [
        {
          "output_type": "stream",
          "name": "stdout",
          "text": [
            "Popped Value: 25\n",
            "Dictionary after pop(): {'name': 'Sourav', 'course': 'Data Science', 'grade': 'A'}\n",
            "Popped Item: ('grade', 'A')\n",
            "Dictionary after popitem(): {'name': 'Sourav', 'course': 'Data Science'}\n",
            "Dictionary after clear(): {}\n"
          ]
        }
      ]
    },
    {
      "cell_type": "markdown",
      "source": [
        "**What do you mean by frozenset? Explain it with suitable examples.**\n"
      ],
      "metadata": {
        "id": "WQXbGRwWH7e_"
      }
    },
    {
      "cell_type": "code",
      "source": [
        "# Creating a frozenset\n",
        "my_frozenset = frozenset([1, 2, 3, 4])\n",
        "\n",
        "# Printing the frozenset\n",
        "print(\"Frozenset:\", my_frozenset)  # Output: Frozenset: frozenset({1, 2, 3, 4})\n",
        "\n",
        "# Trying to add an element (will raise an AttributeError)\n",
        "try:\n",
        "    my_frozenset.add(5)\n",
        "except AttributeError as e:\n",
        "    print(\"Error:\", e)  # Output: Error: 'frozenset' object has no attribute 'add'\n",
        "\n",
        "# Checking membership\n",
        "print(\"Is 2 in frozenset?\", 2 in my_frozenset)  # Output: Is 2 in frozenset? True\n",
        "\n",
        "# Performing set operations\n",
        "another_frozenset = frozenset([3, 4, 5, 6])\n",
        "union_set = my_frozenset.union(another_frozenset)\n",
        "print(\"Union of frozensets:\", union_set)  # Output: Union of frozensets: frozenset({1, 2, 3, 4, 5, 6})\n"
      ],
      "metadata": {
        "colab": {
          "base_uri": "https://localhost:8080/"
        },
        "id": "UCKfEuOAG00e",
        "outputId": "f4d09d6a-53da-4aae-b101-5e0b54c421d8"
      },
      "execution_count": null,
      "outputs": [
        {
          "output_type": "stream",
          "name": "stdout",
          "text": [
            "Frozenset: frozenset({1, 2, 3, 4})\n",
            "Error: 'frozenset' object has no attribute 'add'\n",
            "Is 2 in frozenset? True\n",
            "Union of frozensets: frozenset({1, 2, 3, 4, 5, 6})\n"
          ]
        }
      ]
    },
    {
      "cell_type": "markdown",
      "source": [
        "**Differentiate between mutable and immutable data types in Python and give examples of mutable and immutable data types.**"
      ],
      "metadata": {
        "id": "VPGolz3RIp55"
      }
    },
    {
      "cell_type": "markdown",
      "source": [
        " Mutable Example (List):"
      ],
      "metadata": {
        "id": "vqcFykXHLWPZ"
      }
    },
    {
      "cell_type": "code",
      "source": [
        "# Creating a mutable data type (list)\n",
        "my_list = [1, 2, 3]\n",
        "\n",
        "# Modifying the list\n",
        "my_list[1] = 4  # Changing the second element\n",
        "\n",
        "# Printing the updated list\n",
        "print(\"Updated List:\", my_list)  # Output: Updated List: [1, 4, 3]\n"
      ],
      "metadata": {
        "colab": {
          "base_uri": "https://localhost:8080/"
        },
        "id": "4Lg6SJhUIrft",
        "outputId": "59ee572e-f651-4029-fa47-7f94f994bfc3"
      },
      "execution_count": null,
      "outputs": [
        {
          "output_type": "stream",
          "name": "stdout",
          "text": [
            "Updated List: [1, 4, 3]\n"
          ]
        }
      ]
    },
    {
      "cell_type": "markdown",
      "source": [
        "Immutable Example (Tuple):"
      ],
      "metadata": {
        "id": "2N8dNKnGLZPa"
      }
    },
    {
      "cell_type": "code",
      "source": [
        "# Creating an immutable data type (tuple)\n",
        "my_tuple = (1, 2, 3)\n",
        "\n",
        "# Trying to modify the tuple (will raise an error)\n",
        "try:\n",
        "    my_tuple[1] = 4  # This will cause a TypeError\n",
        "except TypeError as e:\n",
        "    print(\"Error:\", e)  # Output: Error: 'tuple' object does not support item assignment\n",
        "\n",
        "# Printing the tuple (it remains unchanged)\n",
        "print(\"Tuple:\", my_tuple)  # Output: Tuple: (1, 2, 3)\n"
      ],
      "metadata": {
        "colab": {
          "base_uri": "https://localhost:8080/"
        },
        "id": "CSXYeDcTLbwC",
        "outputId": "50b23431-f05b-40d4-c82a-f1e7ab2957e6"
      },
      "execution_count": null,
      "outputs": [
        {
          "output_type": "stream",
          "name": "stdout",
          "text": [
            "Error: 'tuple' object does not support item assignment\n",
            "Tuple: (1, 2, 3)\n"
          ]
        }
      ]
    },
    {
      "cell_type": "markdown",
      "source": [
        "**What is __init__?Explain wit an example**"
      ],
      "metadata": {
        "id": "fEv1EbnSMBpR"
      }
    },
    {
      "cell_type": "code",
      "source": [
        "class Person:\n",
        "    def __init__(self, name, age):\n",
        "        # Initialize instance attributes\n",
        "        self.name = name\n",
        "        self.age = age\n",
        "\n",
        "    def greet(self):\n",
        "        return f\"Hello, my name is {self.name} and I am {self.age} years old.\"\n",
        "\n",
        "# Creating an instance of Person\n",
        "person1 = Person(\"Alice\", 30)\n",
        "\n",
        "# Using the greet method\n",
        "print(person1.greet())  # Output: Hello, my name is Alice and I am 30 years old.\n"
      ],
      "metadata": {
        "colab": {
          "base_uri": "https://localhost:8080/"
        },
        "id": "j-qo6NKSLeMu",
        "outputId": "8bf958cd-4dd6-4557-b88b-4325d2d88c49"
      },
      "execution_count": null,
      "outputs": [
        {
          "output_type": "stream",
          "name": "stdout",
          "text": [
            "Hello, my name is Alice and I am 30 years old.\n"
          ]
        }
      ]
    },
    {
      "cell_type": "markdown",
      "source": [
        "**What is a docstring in Python? Explain with an example.**"
      ],
      "metadata": {
        "id": "HMz4hWhjMEEP"
      }
    },
    {
      "cell_type": "code",
      "source": [
        "def add_numbers(a, b):\n",
        "\n",
        "    return a + b\n",
        "\n",
        "class Calculator:\n",
        "    def add(self, a, b):\n",
        "\n",
        "        return a + b\n",
        "\n",
        "# Using the function and class\n",
        "print(add_numbers.__doc__)\n",
        "\n",
        "\n",
        "calc = Calculator()\n",
        "print(calc.add.__doc__)\n",
        "\n",
        "# Returns:\n",
        "# int or float: The sum of a and b.\n"
      ],
      "metadata": {
        "colab": {
          "base_uri": "https://localhost:8080/"
        },
        "id": "bbhHttR3MCpd",
        "outputId": "dedeb91a-f5fd-43e7-9e19-bb6bbd30fb73"
      },
      "execution_count": null,
      "outputs": [
        {
          "output_type": "stream",
          "name": "stdout",
          "text": [
            "None\n",
            "None\n"
          ]
        }
      ]
    },
    {
      "cell_type": "markdown",
      "source": [
        "**What are unit tests in Python**"
      ],
      "metadata": {
        "id": "y3XbZK3bO82m"
      }
    },
    {
      "cell_type": "code",
      "source": [
        "import unittest\n",
        "\n",
        "def add_numbers(a, b):\n",
        "    return a + b\n",
        "\n",
        "class TestMathFunctions(unittest.TestCase):\n",
        "    def test_add_numbers(self):\n",
        "        self.assertEqual(add_numbers(2, 3), 5)\n",
        "        self.assertEqual(add_numbers(-1, 1), 0)\n",
        "        self.assertEqual(add_numbers(0, 0), 0)\n",
        "\n",
        "if __name__ == '__main__':\n",
        "    unittest.main(argv=[''], verbosity=2, exit=False)\n",
        "\n"
      ],
      "metadata": {
        "colab": {
          "base_uri": "https://localhost:8080/"
        },
        "id": "t5wzG9HXOePJ",
        "outputId": "e44829be-3a82-407b-eda0-19a0c5fb2d2a"
      },
      "execution_count": null,
      "outputs": [
        {
          "output_type": "stream",
          "name": "stderr",
          "text": [
            "test_add_numbers (__main__.TestMathFunctions) ... ok\n",
            "\n",
            "----------------------------------------------------------------------\n",
            "Ran 1 test in 0.005s\n",
            "\n",
            "OK\n"
          ]
        }
      ]
    },
    {
      "cell_type": "markdown",
      "source": [
        "**What is break, continue and pass in Phyton**"
      ],
      "metadata": {
        "id": "z7hUsMX1RhLD"
      }
    },
    {
      "cell_type": "markdown",
      "source": [
        "break"
      ],
      "metadata": {
        "id": "-qRD0_w0RosF"
      }
    },
    {
      "cell_type": "code",
      "source": [
        "for num in range(1, 10):\n",
        "    if num == 5:\n",
        "        break  # Exit the loop when num is 5\n",
        "    print(num)"
      ],
      "metadata": {
        "colab": {
          "base_uri": "https://localhost:8080/"
        },
        "id": "uRQVVerVPLa2",
        "outputId": "b9f293ac-9117-44b5-c177-d3393a99a317"
      },
      "execution_count": null,
      "outputs": [
        {
          "output_type": "stream",
          "name": "stdout",
          "text": [
            "1\n",
            "2\n",
            "3\n",
            "4\n"
          ]
        }
      ]
    },
    {
      "cell_type": "markdown",
      "source": [
        "continue"
      ],
      "metadata": {
        "id": "xVd_NlgpRtF9"
      }
    },
    {
      "cell_type": "code",
      "source": [
        "for num in range(1, 10):\n",
        "    if num == 5:\n",
        "        continue  # Skip the rest of the loop when num is 5\n",
        "    print(num)"
      ],
      "metadata": {
        "colab": {
          "base_uri": "https://localhost:8080/"
        },
        "id": "kHGduleeRsCm",
        "outputId": "0b8c76c1-2a1e-4684-c03a-7cdaae8bcc88"
      },
      "execution_count": null,
      "outputs": [
        {
          "output_type": "stream",
          "name": "stdout",
          "text": [
            "1\n",
            "2\n",
            "3\n",
            "4\n",
            "6\n",
            "7\n",
            "8\n",
            "9\n"
          ]
        }
      ]
    },
    {
      "cell_type": "markdown",
      "source": [
        "pass"
      ],
      "metadata": {
        "id": "jimuqq2gR1Wv"
      }
    },
    {
      "cell_type": "code",
      "source": [
        "def some_function():\n",
        "    pass  # This function does nothing for now\n",
        "\n",
        "for num in range(1, 5):\n",
        "    if num == 3:\n",
        "        pass  # Do nothing for num == 3\n",
        "    print(num)"
      ],
      "metadata": {
        "colab": {
          "base_uri": "https://localhost:8080/"
        },
        "id": "J5ge5NslRyp7",
        "outputId": "63d05573-b5d5-4067-dc19-4babc5513338"
      },
      "execution_count": null,
      "outputs": [
        {
          "output_type": "stream",
          "name": "stdout",
          "text": [
            "1\n",
            "2\n",
            "3\n",
            "4\n"
          ]
        }
      ]
    },
    {
      "cell_type": "markdown",
      "source": [
        "**What is the use of self in Python**"
      ],
      "metadata": {
        "id": "8rQh1psPThjb"
      }
    },
    {
      "cell_type": "code",
      "source": [
        "class Dog:\n",
        "    def __init__(self, name, breed):\n",
        "        self.name = name  # 'self.name' refers to the instance attribute 'name'\n",
        "        self.breed = breed  # 'self.breed' refers to the instance attribute 'breed'\n",
        "\n",
        "    def bark(self):\n",
        "        print(f\"{self.name} says woof!\")\n",
        "\n",
        "# Creating instances of the Dog class\n",
        "dog1 = Dog(\"Buddy\", \"Golden Retriever\")\n",
        "dog2 = Dog(\"Daisy\", \"Beagle\")\n",
        "\n",
        "# Calling methods on instances\n",
        "dog1.bark()  # Output: Buddy says woof!\n",
        "dog2.bark()  # Output: Daisy says woof!\n"
      ],
      "metadata": {
        "colab": {
          "base_uri": "https://localhost:8080/"
        },
        "id": "zRZ8dDhqR5yc",
        "outputId": "35eb1d99-0ece-4851-8c0e-b9945389a545"
      },
      "execution_count": null,
      "outputs": [
        {
          "output_type": "stream",
          "name": "stdout",
          "text": [
            "Buddy says woof!\n",
            "Daisy says woof!\n"
          ]
        }
      ]
    },
    {
      "cell_type": "markdown",
      "source": [
        "**9.What are global, protected, and private attributes in Python**\n"
      ],
      "metadata": {
        "id": "FSU4Mz1lVVbj"
      }
    },
    {
      "cell_type": "markdown",
      "source": [
        "1. Global Attributes"
      ],
      "metadata": {
        "id": "jachXW40VcVd"
      }
    },
    {
      "cell_type": "code",
      "source": [
        "global_variable = 100  # This is a global attribute\n",
        "\n",
        "class MyClass:\n",
        "    def show_global(self):\n",
        "        print(global_variable)\n",
        "\n",
        "obj = MyClass()\n",
        "obj.show_global()  # Output: 100\n"
      ],
      "metadata": {
        "colab": {
          "base_uri": "https://localhost:8080/"
        },
        "id": "uSHuiH7STsfs",
        "outputId": "695b23d6-8432-44b9-ad0f-71558785b141"
      },
      "execution_count": null,
      "outputs": [
        {
          "output_type": "stream",
          "name": "stdout",
          "text": [
            "100\n"
          ]
        }
      ]
    },
    {
      "cell_type": "markdown",
      "source": [
        "2. Protected Attributes"
      ],
      "metadata": {
        "id": "i4B1nRjtVlkt"
      }
    },
    {
      "cell_type": "code",
      "source": [
        "class MyClass:\n",
        "    def __init__(self):\n",
        "        self._protected_attribute = \"Protected\"\n",
        "\n",
        "class SubClass(MyClass):\n",
        "    def show_protected(self):\n",
        "        return self._protected_attribute\n",
        "\n",
        "obj = SubClass()\n",
        "print(obj.show_protected())  # Output: Protected\n"
      ],
      "metadata": {
        "colab": {
          "base_uri": "https://localhost:8080/"
        },
        "id": "QqjXcGo7Vkqd",
        "outputId": "ffe181cc-d82e-4285-e5dc-5bb75c6b84d1"
      },
      "execution_count": null,
      "outputs": [
        {
          "output_type": "stream",
          "name": "stdout",
          "text": [
            "Protected\n"
          ]
        }
      ]
    },
    {
      "cell_type": "markdown",
      "source": [
        "3. Private Attributes"
      ],
      "metadata": {
        "id": "z8evVweRVpi6"
      }
    },
    {
      "cell_type": "code",
      "source": [
        "class MyClass:\n",
        "    def __init__(self):\n",
        "        self.__private_attribute = \"Private\"\n",
        "\n",
        "    def show_private(self):\n",
        "        return self.__private_attribute\n",
        "\n",
        "obj = MyClass()\n",
        "print(obj.show_private())  # Output: Private\n",
        "\n",
        "# Direct access will raise an AttributeError\n",
        "# print(obj.__private_attribute)  # Uncommenting this will cause an error\n"
      ],
      "metadata": {
        "colab": {
          "base_uri": "https://localhost:8080/"
        },
        "id": "lRXD2pt9VoHs",
        "outputId": "05c5be9b-5a58-4138-c7cd-a38bfa906ae2"
      },
      "execution_count": null,
      "outputs": [
        {
          "output_type": "stream",
          "name": "stdout",
          "text": [
            "Private\n"
          ]
        }
      ]
    },
    {
      "cell_type": "markdown",
      "source": [
        "**What are modules and packages in Python?**"
      ],
      "metadata": {
        "id": "-c81pQ6RWIiv"
      }
    },
    {
      "cell_type": "code",
      "source": [
        "import sys\n",
        "import os\n",
        "\n",
        "# Add the parent directory to the PYTHONPATH\n",
        "sys.path.append(os.path.abspath('path/to/your/parent_directory'))\n",
        "\n",
        "from myapp.math_utils import operations\n",
        "from myapp.string_utils import manipulations\n",
        "\n",
        "def main():\n",
        "    # Using functions from operations module\n",
        "    sum_result = operations.add(5, 3)\n",
        "    difference = operations.subtract(10, 4)\n",
        "\n",
        "    print(f\"Sum: {sum_result}\")         # Output: Sum: 8\n",
        "    print(f\"Difference: {difference}\")  # Output: Difference: 6\n",
        "\n",
        "    # Using functions from manipulations module\n",
        "    combined_str = manipulations.concatenate(\"Hello\", \" World\")\n",
        "    upper_str = manipulations.uppercase(\"python\")\n",
        "\n",
        "    print(f\"Combined String: {combined_str}\")  # Output: Combined String: Hello World\n",
        "    print(f\"Uppercase String: {upper_str}\")    # Output: Uppercase String: PYTHON\n",
        "\n",
        "if __name__ == \"__main__\":\n",
        "    main()\n"
      ],
      "metadata": {
        "id": "YdyEHDX6Vraz"
      },
      "execution_count": null,
      "outputs": []
    },
    {
      "cell_type": "markdown",
      "source": [
        "**What are lists and tuples? What is the key difference between the two**"
      ],
      "metadata": {
        "id": "zSY_7GdWXeyS"
      }
    },
    {
      "cell_type": "code",
      "source": [
        "# List example\n",
        "my_list = [1, 2, 3]\n",
        "my_list[0] = 10  # You can change the first element to 10\n",
        "\n",
        "# Tuple example\n",
        "my_tuple = (1, 2, 3)\n",
        "# my_tuple[0] = 10  # This would raise an error because tuples are immutable\n"
      ],
      "metadata": {
        "id": "oqjnBRpaXHwN"
      },
      "execution_count": null,
      "outputs": []
    },
    {
      "cell_type": "markdown",
      "source": [
        "**13. What are dictionary and list comprehensions**"
      ],
      "metadata": {
        "id": "5PK8tHT3F8If"
      }
    },
    {
      "cell_type": "markdown",
      "source": [
        "List Comprehension Example:\n"
      ],
      "metadata": {
        "id": "Kur_87YxGBoC"
      }
    },
    {
      "cell_type": "code",
      "source": [
        "numbers = [1, 2, 3, 4, 5, 6, 7, 8, 9, 10]\n",
        "\n",
        "# List of squares of even numbers\n",
        "even_squares = [x ** 2 for x in numbers if x % 2 == 0]\n",
        "\n",
        "print(even_squares)\n"
      ],
      "metadata": {
        "colab": {
          "base_uri": "https://localhost:8080/"
        },
        "id": "lUNE0INKDo_K",
        "outputId": "93974d67-24a8-4fa0-abb6-82e22bb468fc"
      },
      "execution_count": null,
      "outputs": [
        {
          "output_type": "stream",
          "name": "stdout",
          "text": [
            "[4, 16, 36, 64, 100]\n"
          ]
        }
      ]
    },
    {
      "cell_type": "markdown",
      "source": [
        "Dictionary Comprehension Example:"
      ],
      "metadata": {
        "id": "QSS4trGiGITv"
      }
    },
    {
      "cell_type": "code",
      "source": [
        "# Dictionary with numbers as keys and their squares as values\n",
        "squares_dict = {x: x ** 2 for x in numbers}\n",
        "\n",
        "print(squares_dict)\n"
      ],
      "metadata": {
        "colab": {
          "base_uri": "https://localhost:8080/"
        },
        "id": "9o01HuOyGHox",
        "outputId": "1070b6a7-5798-4915-86e4-44700c8ec299"
      },
      "execution_count": null,
      "outputs": [
        {
          "output_type": "stream",
          "name": "stdout",
          "text": [
            "{1: 1, 2: 4, 3: 9, 4: 16, 5: 25, 6: 36, 7: 49, 8: 64, 9: 81, 10: 100}\n"
          ]
        }
      ]
    },
    {
      "cell_type": "markdown",
      "source": [
        "**14. What are decorators in Python? Explain it with an example. Write down its use cases.**\n"
      ],
      "metadata": {
        "id": "xmYJiqMYNtwN"
      }
    },
    {
      "cell_type": "code",
      "source": [
        "def my_decorator(func):\n",
        "    def wrapper():\n",
        "        print(\"Something is happening before the function is called.\")\n",
        "        func()\n",
        "        print(\"Something is happening after the function is called.\")\n",
        "    return wrapper\n",
        "\n",
        "@my_decorator\n",
        "def say_hello():\n",
        "    print(\"Hello!\")\n",
        "\n",
        "say_hello()\n"
      ],
      "metadata": {
        "id": "n3bEEFjuGOak"
      },
      "execution_count": null,
      "outputs": []
    },
    {
      "cell_type": "markdown",
      "source": [
        "**How is memory managed in Python?**"
      ],
      "metadata": {
        "id": "DGh-iZgUPDF5"
      }
    },
    {
      "cell_type": "code",
      "source": [
        "import sys\n",
        "\n",
        "# Create an object (a simple list)\n",
        "my_list = [1, 2, 3]\n",
        "\n",
        "# Check the reference count of the object\n",
        "print(f\"Reference count: {sys.getrefcount(my_list)}\")  # Outputs 2\n",
        "\n",
        "# Create another reference to the same object\n",
        "another_ref = my_list\n",
        "\n",
        "# Check the reference count again\n",
        "print(f\"Reference count after another reference: {sys.getrefcount(my_list)}\")  # Outputs 3\n",
        "\n",
        "# Delete one reference\n",
        "del another_ref\n",
        "\n",
        "# Check the reference count again\n",
        "print(f\"Reference count after deleting a reference: {sys.getrefcount(my_list)}\")  # Outputs 2\n"
      ],
      "metadata": {
        "colab": {
          "base_uri": "https://localhost:8080/"
        },
        "id": "l0yTiSHSNtnM",
        "outputId": "51b495b0-aca8-46cc-e540-23c24f3536df"
      },
      "execution_count": null,
      "outputs": [
        {
          "output_type": "stream",
          "name": "stdout",
          "text": [
            "Reference count: 2\n",
            "Reference count after another reference: 3\n",
            "Reference count after deleting a reference: 2\n"
          ]
        }
      ]
    },
    {
      "cell_type": "markdown",
      "source": [
        "What is a lambda in Python? Why is it used?\n",
        "\n"
      ],
      "metadata": {
        "id": "IEXDR6a-Pvpa"
      }
    },
    {
      "cell_type": "code",
      "source": [
        "# A lambda function that adds 10 to a given number\n",
        "add_10 = lambda x: x + 10\n",
        "\n",
        "# Using the lambda function\n",
        "result = add_10(5)\n",
        "print(result)  # Outputs 15\n"
      ],
      "metadata": {
        "colab": {
          "base_uri": "https://localhost:8080/"
        },
        "id": "V-avnVzNPGY6",
        "outputId": "6ce0043d-880d-4271-89f1-e2af7eac1532"
      },
      "execution_count": null,
      "outputs": [
        {
          "output_type": "stream",
          "name": "stdout",
          "text": [
            "15\n"
          ]
        }
      ]
    },
    {
      "cell_type": "markdown",
      "source": [
        "**Explain split() and join() functions in Python.**\n",
        "\n"
      ],
      "metadata": {
        "id": "H5Ed6hWVPzap"
      }
    },
    {
      "cell_type": "markdown",
      "source": [
        "split()"
      ],
      "metadata": {
        "id": "mR8O-C_SQOHd"
      }
    },
    {
      "cell_type": "code",
      "source": [
        "text = \"Hello world, how are you?\"\n",
        "words = text.split()  # Splits at spaces\n",
        "print(words)  # Outputs ['Hello', 'world,', 'how', 'are', 'you?']\n",
        "\n",
        "# Split using a comma\n",
        "phrases = text.split(', ')\n",
        "print(phrases)  # Outputs ['Hello world', 'how are you?']\n"
      ],
      "metadata": {
        "colab": {
          "base_uri": "https://localhost:8080/"
        },
        "id": "at6mGTJKPzFx",
        "outputId": "50231e6d-8b1f-48c3-c6e1-ce7ddfcf3a82"
      },
      "execution_count": null,
      "outputs": [
        {
          "output_type": "stream",
          "name": "stdout",
          "text": [
            "['Hello', 'world,', 'how', 'are', 'you?']\n",
            "['Hello world', 'how are you?']\n"
          ]
        }
      ]
    },
    {
      "cell_type": "markdown",
      "source": [
        " join()"
      ],
      "metadata": {
        "id": "CJ_DxKAMQPOb"
      }
    },
    {
      "cell_type": "code",
      "source": [
        "words = ['Hello', 'world', 'how', 'are', 'you?']\n",
        "sentence = ' '.join(words)\n",
        "print(sentence)  # Outputs \"Hello world how are you?\"\n",
        "\n",
        "# Join with a comma\n",
        "csv_format = ', '.join(words)\n",
        "print(csv_format)  # Outputs \"Hello, world, how, are, you?\"\n"
      ],
      "metadata": {
        "colab": {
          "base_uri": "https://localhost:8080/"
        },
        "id": "-OMZHmktQRQS",
        "outputId": "95604cb3-fdcc-40b3-8fee-67929d1326af"
      },
      "execution_count": null,
      "outputs": [
        {
          "output_type": "stream",
          "name": "stdout",
          "text": [
            "Hello world how are you?\n",
            "Hello, world, how, are, you?\n"
          ]
        }
      ]
    },
    {
      "cell_type": "markdown",
      "source": [
        "**What are iterators, iterables, and generators in Python?**\n",
        "\n"
      ],
      "metadata": {
        "id": "RSbHTybqQqzk"
      }
    },
    {
      "cell_type": "code",
      "source": [
        "def my_generator(start, end):\n",
        "    while start <= end:\n",
        "        yield start\n",
        "        start += 1\n",
        "\n",
        "gen = my_generator(1, 3)\n",
        "for value in gen:\n",
        "    print(value)\n"
      ],
      "metadata": {
        "colab": {
          "base_uri": "https://localhost:8080/"
        },
        "id": "SRDnzPO1QWDi",
        "outputId": "338c741c-76c8-41d7-b6c9-8de1257d23f2"
      },
      "execution_count": null,
      "outputs": [
        {
          "output_type": "stream",
          "name": "stdout",
          "text": [
            "1\n",
            "2\n",
            "3\n"
          ]
        }
      ]
    },
    {
      "cell_type": "markdown",
      "source": [
        "**What is the difference between xrange and range in Python?**"
      ],
      "metadata": {
        "id": "4sllbR-vRl8k"
      }
    },
    {
      "cell_type": "code",
      "source": [
        "# Python 2 code\n",
        "for i in range(5):\n",
        "    print(i)\n"
      ],
      "metadata": {
        "colab": {
          "base_uri": "https://localhost:8080/"
        },
        "id": "z8KPOw3iR05k",
        "outputId": "af8a0418-b7b9-49da-cba7-4f8e3a8c4e48"
      },
      "execution_count": null,
      "outputs": [
        {
          "output_type": "stream",
          "name": "stdout",
          "text": [
            "0\n",
            "1\n",
            "2\n",
            "3\n",
            "4\n"
          ]
        }
      ]
    },
    {
      "cell_type": "markdown",
      "source": [
        "**19. What are the pillars of OOP**\n"
      ],
      "metadata": {
        "id": "GW6-J_xuS9EB"
      }
    },
    {
      "cell_type": "code",
      "source": [
        "class Example:\n",
        "    def __init__(self, value):\n",
        "        self.__value = value  # Private variable\n",
        "\n",
        "    def get_value(self):\n",
        "        return self.__value\n",
        "\n",
        "    def set_value(self, value):\n",
        "        self.__value = value\n",
        "\n",
        "obj = Example(10)\n",
        "print(obj.get_value())\n"
      ],
      "metadata": {
        "colab": {
          "base_uri": "https://localhost:8080/"
        },
        "id": "gTD1KBBvRzzJ",
        "outputId": "6c0d767d-1002-4868-e312-4b2fb136fde4"
      },
      "execution_count": null,
      "outputs": [
        {
          "output_type": "stream",
          "name": "stdout",
          "text": [
            "10\n"
          ]
        }
      ]
    },
    {
      "cell_type": "markdown",
      "source": [
        "**How will you check if a class is a child of another class?**"
      ],
      "metadata": {
        "id": "zQNeOFe8T10w"
      }
    },
    {
      "cell_type": "code",
      "source": [
        "# Define a parent class\n",
        "class Animal:\n",
        "    pass\n",
        "\n",
        "# Define a child class\n",
        "class Dog(Animal):\n",
        "    pass\n",
        "\n",
        "# Define another class that is not related\n",
        "class Car:\n",
        "    pass\n",
        "\n",
        "# Check if Dog is a subclass of Animal\n",
        "print(issubclass(Dog, Animal))  # Outputs: True\n",
        "\n",
        "# Check if Animal is a subclass of Dog\n",
        "print(issubclass(Animal, Dog))  # Outputs: False\n",
        "\n",
        "# Check if Dog is a subclass of Car\n",
        "print(issubclass(Dog, Car))     # Outputs: False\n",
        "\n",
        "# Create an instance of Dog\n",
        "my_dog = Dog()\n",
        "print(isinstance(my_dog, Dog))\n",
        "print(isinstance(my_dog, Animal))\n",
        "print(isinstance(my_dog, Car))\n"
      ],
      "metadata": {
        "colab": {
          "base_uri": "https://localhost:8080/"
        },
        "id": "fqp2fkRsTCzD",
        "outputId": "799c896f-acd7-434d-aa21-93ed28ac4ff5"
      },
      "execution_count": null,
      "outputs": [
        {
          "output_type": "stream",
          "name": "stdout",
          "text": [
            "True\n",
            "False\n",
            "False\n",
            "True\n",
            "True\n",
            "False\n"
          ]
        }
      ]
    },
    {
      "cell_type": "markdown",
      "source": [
        "**20. How does inheritance work in Python? Explain all types of inheritance with an example.**\n"
      ],
      "metadata": {
        "id": "6ySzL3cqUEfn"
      }
    },
    {
      "cell_type": "code",
      "source": [
        "# Base class (Parent class)\n",
        "class Animal:\n",
        "    def breathe(self):\n",
        "        return \"Animal breathes\"\n",
        "\n",
        "# Intermediate class (Child class of Animal and Parent class of Dog)\n",
        "class Mammal(Animal):\n",
        "    def feed_milk(self):\n",
        "        return \"Mammal feeds milk\"\n",
        "\n",
        "# Derived class (Child class of Mammal)\n",
        "class Dog(Mammal):\n",
        "    def bark(self):\n",
        "        return \"Dog barks\"\n",
        "\n",
        "# Creating an instance of the Dog class\n",
        "my_dog = Dog()\n",
        "\n",
        "# Accessing methods from all three classes\n",
        "print(my_dog.breathe())   # Outputs: Animal breathes\n",
        "print(my_dog.feed_milk()) # Outputs: Mammal feeds milk\n",
        "print(my_dog.bark())      # Outputs: Dog barks\n"
      ],
      "metadata": {
        "colab": {
          "base_uri": "https://localhost:8080/"
        },
        "id": "wA5ggzKLT2kJ",
        "outputId": "3a8bba49-33ca-4fda-f8e6-da9899fceffc"
      },
      "execution_count": null,
      "outputs": [
        {
          "output_type": "stream",
          "name": "stdout",
          "text": [
            "Animal breathes\n",
            "Mammal feeds milk\n",
            "Dog barks\n"
          ]
        }
      ]
    },
    {
      "cell_type": "markdown",
      "source": [
        "**21. What is encapsulation? Explain it with an example.**\n"
      ],
      "metadata": {
        "id": "5fZ_RZU-Vkph"
      }
    },
    {
      "cell_type": "code",
      "source": [
        "class Person:\n",
        "    def __init__(self, name, age):\n",
        "        self.__name = name  # Private attribute\n",
        "        self.__age = age    # Private attribute\n",
        "\n",
        "    # Public method to access the private attribute name\n",
        "    def get_name(self):\n",
        "        return self.__name\n",
        "\n",
        "    # Public method to modify the private attribute name\n",
        "    def set_name(self, name):\n",
        "        self.__name = name\n",
        "\n",
        "    # Public method to access the private attribute age\n",
        "    def get_age(self):\n",
        "        return self.__age\n",
        "\n",
        "    # Public method to modify the private attribute age\n",
        "    def set_age(self, age):\n",
        "        if age > 0:  # Simple validation\n",
        "            self.__age = age\n",
        "\n",
        "# Creating an instance of the Person class\n",
        "person = Person(\"Alice\", 30)\n",
        "\n",
        "# Accessing and modifying the private attributes using public methods\n",
        "print(person.get_name())  # Outputs: Alice\n",
        "print(person.get_age())   # Outputs: 30\n",
        "\n",
        "person.set_name(\"Bob\")\n",
        "person.set_age(25)\n",
        "\n",
        "print(person.get_name())  # Outputs: Bob\n",
        "print(person.get_age())   # Outputs: 25\n"
      ],
      "metadata": {
        "colab": {
          "base_uri": "https://localhost:8080/"
        },
        "id": "y72mD9-RVIq_",
        "outputId": "8b6d6bc4-662d-4eab-d1d9-f34d8cba56f4"
      },
      "execution_count": null,
      "outputs": [
        {
          "output_type": "stream",
          "name": "stdout",
          "text": [
            "Alice\n",
            "30\n",
            "Bob\n",
            "25\n"
          ]
        }
      ]
    },
    {
      "cell_type": "markdown",
      "source": [
        "**22. What is Polymorphism? Explain it with an example.**"
      ],
      "metadata": {
        "id": "4BGahgsAV9BX"
      }
    },
    {
      "cell_type": "code",
      "source": [
        "class Dog:\n",
        "    def sound(self):\n",
        "        return \"Bark\"\n",
        "\n",
        "class Cat:\n",
        "    def sound(self):\n",
        "        return \"Meow\"\n",
        "\n",
        "class Cow:\n",
        "    def sound(self):\n",
        "        return \"Moo\"\n",
        "\n",
        "# Function that demonstrates polymorphism\n",
        "def make_sound(animal):\n",
        "    print(animal.sound())\n",
        "\n",
        "# Creating instances of each class\n",
        "dog = Dog()\n",
        "cat = Cat()\n",
        "cow = Cow()\n",
        "\n",
        "# Calling the same function with different objects\n",
        "make_sound(dog)  # Outputs: Bark\n",
        "make_sound(cat)  # Outputs: Meow\n",
        "make_sound(cow)  # Outputs: Moo\n"
      ],
      "metadata": {
        "colab": {
          "base_uri": "https://localhost:8080/"
        },
        "id": "SCrZbH_gVnkH",
        "outputId": "c2d0a1ff-09fa-4f82-b0da-6fa0772d8925"
      },
      "execution_count": null,
      "outputs": [
        {
          "output_type": "stream",
          "name": "stdout",
          "text": [
            "Bark\n",
            "Meow\n",
            "Moo\n"
          ]
        }
      ]
    },
    {
      "cell_type": "markdown",
      "source": [
        "#Question 1.3.\n",
        "name = [\"Mohan\", \"dash\", \"karam\", \"chandra\",\"gandhi\",\"Bapu\"]\n",
        "do the following operations in this list"
      ],
      "metadata": {
        "id": "lyANt16oaUHH"
      }
    },
    {
      "cell_type": "markdown",
      "source": [
        "**a) add an element \"freedom_fighter\" in this list at the 0th index.**"
      ],
      "metadata": {
        "id": "UzvaI1R9bRjJ"
      }
    },
    {
      "cell_type": "code",
      "source": [
        "# Initial list\n",
        "name = [\"Mohan\", \"dash\", \"karam\", \"chandra\", \"gandhi\", \"Bapu\"]\n",
        "\n",
        "# Add \"freedom_fighter\" at the 0th index\n",
        "name.insert(0, \"freedom_fighter\")\n",
        "\n",
        "# Print the updated list\n",
        "print(name)\n"
      ],
      "metadata": {
        "colab": {
          "base_uri": "https://localhost:8080/"
        },
        "id": "VPQFTI56WCD3",
        "outputId": "8f56e8dd-a726-4fbf-c1cd-b4e4f35c2639"
      },
      "execution_count": null,
      "outputs": [
        {
          "output_type": "stream",
          "name": "stdout",
          "text": [
            "['freedom_fighter', 'Mohan', 'dash', 'karam', 'chandra', 'gandhi', 'Bapu']\n"
          ]
        }
      ]
    },
    {
      "cell_type": "markdown",
      "source": [
        "**b) find the output of the following ,and explain how?**\n",
        "\n",
        "name = [“freedomFighter”,\"Bapuji\",\"MOhan\" \"dash\", \"karam\",\n",
        "\"chandra\",\"gandhi\"]\n",
        "length1=len((name[-len(name)+1:-1:2]))\n",
        "length2=len((name[-len(name)+1:-1]))\n",
        "print(length1+length2)"
      ],
      "metadata": {
        "id": "TcZrSshNbohf"
      }
    },
    {
      "cell_type": "code",
      "source": [
        "name = [\"freedomFighter\", \"Bapuji\", \"MOhan\", \"dash\", \"karam\", \"chandra\", \"gandhi\"]\n",
        "length1 = len(name[-len(name)+1:-1:2])\n",
        "length2 = len(name[-len(name)+1:-1])\n",
        "print(length1 + length2)\n"
      ],
      "metadata": {
        "colab": {
          "base_uri": "https://localhost:8080/"
        },
        "id": "UfgtbnjJbkgM",
        "outputId": "b2be4c0d-3f8e-4518-e0d7-ccbd8beb23c1"
      },
      "execution_count": null,
      "outputs": [
        {
          "output_type": "stream",
          "name": "stdout",
          "text": [
            "8\n"
          ]
        }
      ]
    },
    {
      "cell_type": "markdown",
      "source": [
        "**c) add two more elements in the name [\"NetaJi\",\"Bose\"] at the end of the list.\n",
        "**"
      ],
      "metadata": {
        "id": "7wLn2GADc4Rc"
      }
    },
    {
      "cell_type": "markdown",
      "source": [
        "Using append()"
      ],
      "metadata": {
        "id": "pCO8qbANdDBe"
      }
    },
    {
      "cell_type": "code",
      "source": [
        "# Initial list\n",
        "name = [\"freedomFighter\", \"Bapuji\", \"MOhan\", \"dash\", \"karam\", \"chandra\", \"gandhi\"]\n",
        "\n",
        "# Adding elements using append()\n",
        "name.append(\"NetaJi\")\n",
        "name.append(\"Bose\")\n",
        "\n",
        "# Print the updated list\n",
        "print(name)\n"
      ],
      "metadata": {
        "colab": {
          "base_uri": "https://localhost:8080/"
        },
        "id": "0Rfs_TWVcHMd",
        "outputId": "f4f9f4c5-cfea-46bd-b3e8-765f6e10a710"
      },
      "execution_count": null,
      "outputs": [
        {
          "output_type": "stream",
          "name": "stdout",
          "text": [
            "['freedomFighter', 'Bapuji', 'MOhan', 'dash', 'karam', 'chandra', 'gandhi', 'NetaJi', 'Bose']\n"
          ]
        }
      ]
    },
    {
      "cell_type": "markdown",
      "source": [
        "Using extend()"
      ],
      "metadata": {
        "id": "zTi-08ANdL5L"
      }
    },
    {
      "cell_type": "code",
      "source": [
        "# Initial list\n",
        "name = [\"freedomFighter\", \"Bapuji\", \"MOhan\", \"dash\", \"karam\", \"chandra\", \"gandhi\"]\n",
        "\n",
        "# Adding elements using extend()\n",
        "name.extend([\"NetaJi\", \"Bose\"])\n",
        "\n",
        "# Print the updated list\n",
        "print(name)\n"
      ],
      "metadata": {
        "colab": {
          "base_uri": "https://localhost:8080/"
        },
        "id": "-zr1_6BxdHBU",
        "outputId": "695efbba-fdad-4f1b-9352-0e30242053b7"
      },
      "execution_count": null,
      "outputs": [
        {
          "output_type": "stream",
          "name": "stdout",
          "text": [
            "['freedomFighter', 'Bapuji', 'MOhan', 'dash', 'karam', 'chandra', 'gandhi', 'NetaJi', 'Bose']\n"
          ]
        }
      ]
    },
    {
      "cell_type": "markdown",
      "source": [
        " **d) what will be the value of temp**\n",
        "\n",
        "name = [\"Bapuji\", \"dash\", \"karam\", \"chandra\",\"gandi\",\"Mohan\"]\n",
        "temp=name[-1]\n",
        "name[-1]=name[0]\n",
        "name[0]=temp\n",
        "print(name)"
      ],
      "metadata": {
        "id": "aTP7KnjGdXYB"
      }
    },
    {
      "cell_type": "code",
      "source": [
        "name = [\"Bapuji\", \"dash\", \"karam\", \"chandra\", \"gandi\", \"Mohan\"]\n",
        "\n",
        "# Step 1: Assign the last element of the list to temp\n",
        "temp = name[-1]\n",
        "\n",
        "# Step 2: Set the last element of the list to the first element\n",
        "name[-1] = name[0]\n",
        "\n",
        "# Step 3: Set the first element of the list to the value stored in temp\n",
        "name[0] = temp\n",
        "\n",
        "# Print the updated list\n",
        "print(name)\n"
      ],
      "metadata": {
        "colab": {
          "base_uri": "https://localhost:8080/"
        },
        "id": "iOYmkSfxdOEE",
        "outputId": "09fa3b75-aa32-4b82-c080-4ee5a588ba67"
      },
      "execution_count": null,
      "outputs": [
        {
          "output_type": "stream",
          "name": "stdout",
          "text": [
            "['Mohan', 'dash', 'karam', 'chandra', 'gandi', 'Bapuji']\n"
          ]
        }
      ]
    },
    {
      "cell_type": "markdown",
      "source": [
        "**Question 1.4.Find the output of the following.**\n",
        "\n",
        "animal = ['Human','cat','mat','cat','rat','Human', 'Lion']\n",
        "print(animal.count('Human'))\n",
        "print(animal.index('rat'))\n",
        "print(len(animal))"
      ],
      "metadata": {
        "id": "o2_MA2vfd_hH"
      }
    },
    {
      "cell_type": "code",
      "source": [
        "animal = ['Human', 'cat', 'mat', 'cat', 'rat', 'Human', 'Lion']\n",
        "print(animal.count('Human'))\n",
        "print(animal.index('rat'))\n",
        "print(len(animal))\n"
      ],
      "metadata": {
        "colab": {
          "base_uri": "https://localhost:8080/"
        },
        "id": "P9S3_pppdx5U",
        "outputId": "fecefe57-1d1c-4e68-dd8d-659c6535994f"
      },
      "execution_count": null,
      "outputs": [
        {
          "output_type": "stream",
          "name": "stdout",
          "text": [
            "2\n",
            "4\n",
            "7\n"
          ]
        }
      ]
    },
    {
      "cell_type": "markdown",
      "source": [
        "# Question 1.5. tuple1=(10,20,\"Apple\",3.4,'a',[\"master\",\"ji\"],(\"sita\",\"geeta\",22),[{\"roll_no\"q1}, {\"name\"q\"Navneet\"}])"
      ],
      "metadata": {
        "id": "Cnq8Lcmhev-r"
      }
    },
    {
      "cell_type": "markdown",
      "source": [
        "#  a) print(len(tuple1))"
      ],
      "metadata": {
        "id": "dNznavDNe3Ma"
      }
    },
    {
      "cell_type": "code",
      "source": [
        "tuple1 = (10, 20, \"Apple\", 3.4, 'a', [\"master\", \"ji\"], (\"sita\", \"geeta\", 22), [{\"roll_no\": \"q1\"}, {\"name\": \"Navneet\"}])\n",
        "print(len(tuple1))"
      ],
      "metadata": {
        "colab": {
          "base_uri": "https://localhost:8080/"
        },
        "id": "JUwedWI7eEdE",
        "outputId": "3cab293e-1349-439e-92a1-044d4e5f5967"
      },
      "execution_count": null,
      "outputs": [
        {
          "output_type": "stream",
          "name": "stdout",
          "text": [
            "8\n"
          ]
        }
      ]
    },
    {
      "cell_type": "markdown",
      "source": [
        "**b) print(tuple1[-1][-1][\"name\"])**"
      ],
      "metadata": {
        "id": "UVOr5q9WgpOd"
      }
    },
    {
      "cell_type": "code",
      "source": [
        "tuple1 = (10, 20, \"Apple\", 3.4, 'a', [\"master\", \"ji\"], (\"sita\", \"geeta\", 22), [{\"roll_no\": \"q1\"}, {\"name\": \"Navneet\"}])\n",
        "print(tuple1[-1][-1][\"name\"])\n"
      ],
      "metadata": {
        "colab": {
          "base_uri": "https://localhost:8080/"
        },
        "id": "O6ASDWyufOVL",
        "outputId": "fe1b343a-85a0-4ad0-f5d4-ea1bf09bdc0a"
      },
      "execution_count": null,
      "outputs": [
        {
          "output_type": "stream",
          "name": "stdout",
          "text": [
            "Navneet\n"
          ]
        }
      ]
    },
    {
      "cell_type": "markdown",
      "source": [
        "**c) fetch the value of roll_no from this tuple.**"
      ],
      "metadata": {
        "id": "DjP5g5-WhYlq"
      }
    },
    {
      "cell_type": "code",
      "source": [
        "tuple1 = (10, 20, \"Apple\", 3.4, 'a', [\"master\", \"ji\"], (\"sita\", \"geeta\", 22), [{\"roll_no\": \"q1\"}, {\"name\": \"Navneet\"}])\n",
        "# Fetching the value of roll_no\n",
        "roll_no = tuple1[-1][0][\"roll_no\"]\n",
        "\n",
        "# Printing the value of roll_no\n",
        "print(roll_no)\n"
      ],
      "metadata": {
        "colab": {
          "base_uri": "https://localhost:8080/"
        },
        "id": "KaOzD17jg3Dr",
        "outputId": "15c9bfd6-5de1-4be0-f2de-99bc67b59ba0"
      },
      "execution_count": null,
      "outputs": [
        {
          "output_type": "stream",
          "name": "stdout",
          "text": [
            "q1\n"
          ]
        }
      ]
    },
    {
      "cell_type": "markdown",
      "source": [
        "**d)print(tuple1[-3][1])**"
      ],
      "metadata": {
        "id": "KYQXdtNxhm-7"
      }
    },
    {
      "cell_type": "code",
      "source": [
        "tuple1 = (10, 20, \"Apple\", 3.4, 'a', [\"master\", \"ji\"], (\"sita\", \"geeta\", 22), [{\"roll_no\": \"q1\"}, {\"name\": \"Navneet\"}])\n",
        "print(tuple1[-3][1])\n"
      ],
      "metadata": {
        "colab": {
          "base_uri": "https://localhost:8080/"
        },
        "id": "C1narvxlhfeY",
        "outputId": "fc7e6635-a9e0-4cc5-ca80-3db7058fd0a4"
      },
      "execution_count": null,
      "outputs": [
        {
          "output_type": "stream",
          "name": "stdout",
          "text": [
            "ji\n"
          ]
        }
      ]
    },
    {
      "cell_type": "markdown",
      "source": [
        "**e)fetch the element \"22\" from this tuple@**"
      ],
      "metadata": {
        "id": "q2UnEtNmh1Wx"
      }
    },
    {
      "cell_type": "code",
      "source": [
        "tuple1 = (10, 20, \"Apple\", 3.4, 'a', [\"master\", \"ji\"], (\"sita\", \"geeta\", 22), [{\"roll_no\": \"q1\"}, {\"name\": \"Navneet\"}])\n",
        "\n",
        "# Print the element at -3 index to verify the content\n",
        "print(tuple1[-3])  # Should output: ('sita', 'geeta', 22)\n",
        "\n",
        "# Fetching the element 22\n",
        "element_22 = tuple1[-3][2]\n",
        "\n",
        "# Print the element 22\n",
        "print(element_22)\n",
        "\n"
      ],
      "metadata": {
        "colab": {
          "base_uri": "https://localhost:8080/",
          "height": 228
        },
        "id": "z1ej_Tglhuax",
        "outputId": "06bbf4d0-0948-45fd-9d9d-8178c989c5d2"
      },
      "execution_count": null,
      "outputs": [
        {
          "output_type": "stream",
          "name": "stdout",
          "text": [
            "['master', 'ji']\n"
          ]
        },
        {
          "output_type": "error",
          "ename": "IndexError",
          "evalue": "list index out of range",
          "traceback": [
            "\u001b[0;31m---------------------------------------------------------------------------\u001b[0m",
            "\u001b[0;31mIndexError\u001b[0m                                Traceback (most recent call last)",
            "\u001b[0;32m<ipython-input-31-8c0a8be9ee35>\u001b[0m in \u001b[0;36m<cell line: 7>\u001b[0;34m()\u001b[0m\n\u001b[1;32m      5\u001b[0m \u001b[0;34m\u001b[0m\u001b[0m\n\u001b[1;32m      6\u001b[0m \u001b[0;31m# Fetching the element 22\u001b[0m\u001b[0;34m\u001b[0m\u001b[0;34m\u001b[0m\u001b[0m\n\u001b[0;32m----> 7\u001b[0;31m \u001b[0melement_22\u001b[0m \u001b[0;34m=\u001b[0m \u001b[0mtuple1\u001b[0m\u001b[0;34m[\u001b[0m\u001b[0;34m-\u001b[0m\u001b[0;36m3\u001b[0m\u001b[0;34m]\u001b[0m\u001b[0;34m[\u001b[0m\u001b[0;36m2\u001b[0m\u001b[0;34m]\u001b[0m\u001b[0;34m\u001b[0m\u001b[0;34m\u001b[0m\u001b[0m\n\u001b[0m\u001b[1;32m      8\u001b[0m \u001b[0;34m\u001b[0m\u001b[0m\n\u001b[1;32m      9\u001b[0m \u001b[0;31m# Print the element 22\u001b[0m\u001b[0;34m\u001b[0m\u001b[0;34m\u001b[0m\u001b[0m\n",
            "\u001b[0;31mIndexError\u001b[0m: list index out of range"
          ]
        }
      ]
    },
    {
      "cell_type": "markdown",
      "source": [
        "# **1.6. Write a program to display the appropriate message as per the color of signal(RED-Stop/Yellow-Stay/Green-Go) at the road crossing.**"
      ],
      "metadata": {
        "id": "pyPW-1dni8tB"
      }
    },
    {
      "cell_type": "code",
      "source": [
        "# Function to display the message based on the color of the signal\n",
        "def display_signal_message(signal_color):\n",
        "    if signal_color == \"RED\":\n",
        "        print(\"Stop\")\n",
        "    elif signal_color == \"YELLOW\":\n",
        "        print(\"Stay\")\n",
        "    elif signal_color == \"GREEN\":\n",
        "        print(\"Go\")\n",
        "    else:\n",
        "        print(\"Invalid color\")\n",
        "\n",
        "# Example usage\n",
        "signal_color = input(\"Enter the color of the signal (RED, YELLOW, GREEN): \").upper()\n",
        "display_signal_message(signal_color)\n"
      ],
      "metadata": {
        "colab": {
          "base_uri": "https://localhost:8080/"
        },
        "id": "cGgGdHssh8wJ",
        "outputId": "d8c49a50-1bfc-4dec-f7ff-a08afb6d0ce7"
      },
      "execution_count": null,
      "outputs": [
        {
          "output_type": "stream",
          "name": "stdout",
          "text": [
            "Enter the color of the signal (RED, YELLOW, GREEN): YELLOW\n",
            "Stay\n"
          ]
        }
      ]
    },
    {
      "cell_type": "markdown",
      "source": [
        "# 1.7. Write a program to create a simple calculator performing only four basic operations(+,-,/,*) ."
      ],
      "metadata": {
        "id": "VkAA6BzujpCK"
      }
    },
    {
      "cell_type": "code",
      "source": [
        "# Function to perform the desired arithmetic operation\n",
        "def calculator():\n",
        "    try:\n",
        "        # Input the first number\n",
        "        num1 = float(input(\"Enter the first number: \"))\n",
        "\n",
        "        # Input the second number\n",
        "        num2 = float(input(\"Enter the second number: \"))\n",
        "\n",
        "        # Input the operation\n",
        "        operation = input(\"Enter the operation (+, -, *, /): \")\n",
        "\n",
        "        # Perform the operation\n",
        "        if operation == '+':\n",
        "            result = num1 + num2\n",
        "            print(f\"The result of {num1} + {num2} is {result}\")\n",
        "        elif operation == '-':\n",
        "            result = num1 - num2\n",
        "            print(f\"The result of {num1} - {num2} is {result}\")\n",
        "        elif operation == '*':\n",
        "            result = num1 * num2\n",
        "            print(f\"The result of {num1} * {num2} is {result}\")\n",
        "        elif operation == '/':\n",
        "            if num2 != 0:\n",
        "                result = num1 / num2\n",
        "                print(f\"The result of {num1} / {num2} is {result}\")\n",
        "            else:\n",
        "                print(\"Error: Division by zero is not allowed.\")\n",
        "        else:\n",
        "            print(\"Invalid operation. Please enter one of +, -, *, /.\")\n",
        "    except ValueError:\n",
        "        print(\"Invalid input. Please enter numeric values.\")\n",
        "\n",
        "# Call the calculator function\n",
        "calculator()\n",
        "\n"
      ],
      "metadata": {
        "colab": {
          "base_uri": "https://localhost:8080/"
        },
        "id": "J6eKny3PjF-m",
        "outputId": "31909714-52a0-4f06-c832-e470e1ddbee3"
      },
      "execution_count": null,
      "outputs": [
        {
          "output_type": "stream",
          "name": "stdout",
          "text": [
            "Enter the first number: 10\n",
            "Enter the second number: 5\n",
            "Enter the operation (+, -, *, /): +\n",
            "The result of 10.0 + 5.0 is 15.0\n"
          ]
        }
      ]
    },
    {
      "cell_type": "markdown",
      "source": [
        "# 1.8. Write a program to find the larger of the three pre-specified numbers using ternary operators."
      ],
      "metadata": {
        "id": "hn7GtZi-kdFI"
      }
    },
    {
      "cell_type": "code",
      "source": [
        "# Pre-specified numbers\n",
        "num1 = 10\n",
        "num2 = 25\n",
        "num3 = 15\n",
        "\n",
        "# Find the largest number using nested ternary operators\n",
        "largest = num1 if (num1 > num2 and num1 > num3) else (num2 if num2 > num3 else num3)\n",
        "\n",
        "# Print the largest number\n",
        "print(\"The largest number is:\", largest)\n"
      ],
      "metadata": {
        "colab": {
          "base_uri": "https://localhost:8080/"
        },
        "id": "F3Bokn_IjvYQ",
        "outputId": "42dcefe2-908a-4ffb-a49b-4f8fed517670"
      },
      "execution_count": null,
      "outputs": [
        {
          "output_type": "stream",
          "name": "stdout",
          "text": [
            "The largest number is: 25\n"
          ]
        }
      ]
    },
    {
      "cell_type": "markdown",
      "source": [
        "# 1.9. Write a program to find the factors of a whole number using a while loop."
      ],
      "metadata": {
        "id": "DH7ZmY4UkpBB"
      }
    },
    {
      "cell_type": "code",
      "source": [
        "# Function to find and print factors of a given number\n",
        "def find_factors(number):\n",
        "    # Initialize a variable to start from 1\n",
        "    i = 1\n",
        "\n",
        "    # While loop to check all numbers from 1 to the given number\n",
        "    while i <= number:\n",
        "        if number % i == 0:  # Check if i is a factor of number\n",
        "            print(i)  # Print the factor\n",
        "        i += 1  # Increment i to check the next number\n",
        "\n",
        "# Example usage\n",
        "try:\n",
        "    num = int(input(\"Enter a whole number: \"))\n",
        "    if num < 0:\n",
        "        print(\"Please enter a non-negative whole number.\")\n",
        "    else:\n",
        "        print(f\"Factors of {num} are:\")\n",
        "        find_factors(num)\n",
        "except ValueError:\n",
        "    print(\"Invalid input. Please enter an integer.\")\n"
      ],
      "metadata": {
        "colab": {
          "base_uri": "https://localhost:8080/"
        },
        "id": "qR-3hvIykhYT",
        "outputId": "bf73d638-6ba8-44ee-90ff-fd78ac472d4c"
      },
      "execution_count": null,
      "outputs": [
        {
          "output_type": "stream",
          "name": "stdout",
          "text": [
            "Enter a whole number: 12\n",
            "Factors of 12 are:\n",
            "1\n",
            "2\n",
            "3\n",
            "4\n",
            "6\n",
            "12\n"
          ]
        }
      ]
    },
    {
      "cell_type": "markdown",
      "source": [
        "# 1.10. 1.10. Write a program to find the sum of all the positive numbers entered by the user. As soon as the user enters a negative number, stop taking in any further input from the user and display the sum .\n"
      ],
      "metadata": {
        "id": "N2RA18GQk72I"
      }
    },
    {
      "cell_type": "code",
      "source": [
        "def sum_positive_numbers():\n",
        "    total_sum = 0  # Initialize the sum to 0\n",
        "\n",
        "    while True:\n",
        "        try:\n",
        "            # Prompt the user for input\n",
        "            number = float(input(\"Enter a positive number (or a negative number to stop): \"))\n",
        "\n",
        "            if number < 0:\n",
        "                # Stop the loop if a negative number is entered\n",
        "                break\n",
        "            elif number > 0:\n",
        "                # Add the positive number to the total sum\n",
        "                total_sum += number\n",
        "            else:\n",
        "                print(\"Zero is not a positive number. Please enter a positive number or a negative number to stop.\")\n",
        "        except ValueError:\n",
        "            print(\"Invalid input. Please enter a numeric value.\")\n",
        "\n",
        "    # Display the total sum of positive numbers\n",
        "    print(f\"The sum of all positive numbers entered is: {total_sum}\")\n",
        "\n",
        "# Call the function\n",
        "sum_positive_numbers()\n",
        "\n"
      ],
      "metadata": {
        "colab": {
          "base_uri": "https://localhost:8080/"
        },
        "id": "agj6PHASkyBP",
        "outputId": "8e7e6fa4-729e-4c67-8aa8-f242c84876bb"
      },
      "execution_count": null,
      "outputs": [
        {
          "output_type": "stream",
          "name": "stdout",
          "text": [
            "Enter a positive number (or a negative number to stop): 5\n",
            "Enter a positive number (or a negative number to stop): 10\n",
            "Enter a positive number (or a negative number to stop): -3\n",
            "The sum of all positive numbers entered is: 15.0\n"
          ]
        }
      ]
    },
    {
      "cell_type": "markdown",
      "source": [
        "# 1.11. Write a program to find prime numbers between 2 to 100 using nested for loops."
      ],
      "metadata": {
        "id": "ih_2a8I-lnNh"
      }
    },
    {
      "cell_type": "code",
      "source": [
        "def is_prime(n):\n",
        "    \"\"\"Function to check if a number is prime.\"\"\"\n",
        "    if n <= 1:\n",
        "        return False\n",
        "    for i in range(2, int(n**0.5) + 1):\n",
        "        if n % i == 0:\n",
        "            return False\n",
        "    return True\n",
        "\n",
        "def find_primes(start, end):\n",
        "    \"\"\"Function to find and print prime numbers in a given range.\"\"\"\n",
        "    print(f\"Prime numbers between {start} and {end}:\")\n",
        "    for num in range(start, end + 1):\n",
        "        if is_prime(num):\n",
        "            print(num, end=' ')\n",
        "\n",
        "# Find prime numbers between 2 and 100\n",
        "find_primes(2, 100)\n"
      ],
      "metadata": {
        "colab": {
          "base_uri": "https://localhost:8080/"
        },
        "id": "xsDn0L6NlA5P",
        "outputId": "0cedd4b7-9608-4876-cc41-c050f0f6ea0c"
      },
      "execution_count": null,
      "outputs": [
        {
          "output_type": "stream",
          "name": "stdout",
          "text": [
            "Prime numbers between 2 and 100:\n",
            "2 3 5 7 11 13 17 19 23 29 31 37 41 43 47 53 59 61 67 71 73 79 83 89 97 "
          ]
        }
      ]
    },
    {
      "cell_type": "markdown",
      "source": [
        "# 1.12. Write the programs for the following\n",
        "Accept the marks of the student in five major subjects and display the same?\n",
        "Calculate the sum of the marks of all subjects.Divide the total marks by number of subjects (i.e. 5), calculate\n",
        "percentage = total marks/5 and display the percentage?\n",
        "Find the grade of the student as per the following criteria . Hint: Use Match & case for this.:"
      ],
      "metadata": {
        "id": "jI3E3_fkvqV9"
      }
    },
    {
      "cell_type": "code",
      "source": [
        "# Accepting marks for five subjects from the user\n",
        "subject1 = int(input(\"Enter marks for Subject 1: \"))\n",
        "subject2 = int(input(\"Enter marks for Subject 2: \"))\n",
        "subject3 = int(input(\"Enter marks for Subject 3: \"))\n",
        "subject4 = int(input(\"Enter marks for Subject 4: \"))\n",
        "subject5 = int(input(\"Enter marks for Subject 5: \"))\n",
        "\n",
        "# Calculating total marks and percentage\n",
        "total_marks = subject1 + subject2 + subject3 + subject4 + subject5\n",
        "percentage = total_marks / 5\n",
        "\n",
        "# Displaying the marks and percentage\n",
        "print(\"\\nMarks in each subject:\")\n",
        "print(f\"Subject 1: {subject1}\")\n",
        "print(f\"Subject 2: {subject2}\")\n",
        "print(f\"Subject 3: {subject3}\")\n",
        "print(f\"Subject 4: {subject4}\")\n",
        "print(f\"Subject 5: {subject5}\")\n",
        "print(f\"\\nTotal Marks: {total_marks}\")\n",
        "print(f\"Percentage: {percentage:.2f}%\")\n",
        "\n",
        "# Determining the grade using match-case (Python 3.10+)\n",
        "match percentage:\n",
        "    case p if p > 85:\n",
        "        grade = 'A'\n",
        "    case p if 75 <= p <= 85:\n",
        "        grade = 'B'\n",
        "    case p if 50 <= p < 75:\n",
        "        grade = 'C'\n",
        "    case p if 30 <= p < 50:\n",
        "        grade = 'D'\n",
        "    case p if p < 30:\n",
        "        grade = 'Reappear'\n",
        "\n",
        "# Displaying the grade\n",
        "print(f\"Grade: {grade}\")\n"
      ],
      "metadata": {
        "id": "RnH__oNiluDF",
        "colab": {
          "base_uri": "https://localhost:8080/"
        },
        "outputId": "d00a646a-38d3-46cb-f6a5-afcde7fc0ae5"
      },
      "execution_count": null,
      "outputs": [
        {
          "output_type": "stream",
          "name": "stdout",
          "text": [
            "Enter marks for Subject 1: 85\n",
            "Enter marks for Subject 2: 75\n",
            "Enter marks for Subject 3: 50\n",
            "Enter marks for Subject 4: 50\n",
            "Enter marks for Subject 5: 30\n",
            "\n",
            "Marks in each subject:\n",
            "Subject 1: 85\n",
            "Subject 2: 75\n",
            "Subject 3: 50\n",
            "Subject 4: 50\n",
            "Subject 5: 30\n",
            "\n",
            "Total Marks: 290\n",
            "Percentage: 58.00%\n",
            "Grade: C\n"
          ]
        }
      ]
    },
    {
      "cell_type": "markdown",
      "source": [
        "# 1.13. Write a program for VIBGYOR Spectrum base+ on their Wavelength using.Wavelength Range:"
      ],
      "metadata": {
        "id": "Dvfc3Hjjwkws"
      }
    },
    {
      "cell_type": "code",
      "source": [
        "# Accepting wavelength from the user\n",
        "wavelength = float(input(\"Enter the wavelength (in nm): \"))\n",
        "\n",
        "# Determining the color based on wavelength\n",
        "match wavelength:\n",
        "    case w if 400.0 <= w <= 440.0:\n",
        "        color = \"Violet\"\n",
        "    case w if 440.0 < w <= 460.0:\n",
        "        color = \"Indigo\"\n",
        "    case w if 460.0 < w <= 500.0:\n",
        "        color = \"Blue\"\n",
        "    case w if 500.0 < w <= 570.0:\n",
        "        color = \"Green\"\n",
        "    case w if 570.0 < w <= 590.0:\n",
        "        color = \"Yellow\"\n",
        "    case w if 590.0 < w <= 620.0:\n",
        "        color = \"Orange\"\n",
        "    case w if 620.0 < w <= 720.0:\n",
        "        color = \"Red\"\n",
        "    case _:\n",
        "        color = \"Wavelength out of visible range!\"\n",
        "\n",
        "# Displaying the color\n",
        "print(f\"The color corresponding to wavelength {wavelength} nm is: {color}\")\n"
      ],
      "metadata": {
        "colab": {
          "base_uri": "https://localhost:8080/"
        },
        "id": "24KauMYivxSr",
        "outputId": "1f196dc3-dfb2-42db-959b-e9d3cc83be53"
      },
      "execution_count": null,
      "outputs": [
        {
          "output_type": "stream",
          "name": "stdout",
          "text": [
            "Enter the wavelength (in nm): 430\n",
            "The color corresponding to wavelength 430.0 nm is: Violet\n"
          ]
        }
      ]
    },
    {
      "cell_type": "markdown",
      "source": [
        "# 4. Design and implement a Python program for managing student information using object-oriented principles. Create a class called Student with encapsulated attributes for name, age, and roll number. Implement getter and setter methods for these attributes. Additionally, provide methods to display student information and update student details."
      ],
      "metadata": {
        "id": "fOO1Bktnyp0b"
      }
    },
    {
      "cell_type": "markdown",
      "source": [
        "**\n",
        "1: Define the Student class with encapsulated attributes.\n",
        "\n",
        "2: Implement getter and setter methods for the attributes.\n",
        "\n",
        "3: Write methods to display student information and update details.\n",
        "\n",
        "4: Create instances of the Student class and test the implemented functionality.**"
      ],
      "metadata": {
        "id": "7msb9byQyz2I"
      }
    },
    {
      "cell_type": "code",
      "source": [
        "class Student:\n",
        "    def __init__(self, name, age, roll_number):\n",
        "        # Encapsulated attributes (private)\n",
        "        self.__name = name\n",
        "        self.__age = age\n",
        "        self.__roll_number = roll_number\n",
        "\n",
        "    # Getter for name\n",
        "    def get_name(self):\n",
        "        return self.__name\n",
        "\n",
        "    # Setter for name\n",
        "    def set_name(self, name):\n",
        "        self.__name = name\n",
        "\n",
        "    # Getter for age\n",
        "    def get_age(self):\n",
        "        return self.__age\n",
        "\n",
        "    # Setter for age\n",
        "    def set_age(self, age):\n",
        "        if age > 0:  # Basic validation to ensure age is positive\n",
        "            self.__age = age\n",
        "        else:\n",
        "            print(\"Please enter a valid age.\")\n",
        "\n",
        "    # Getter for roll number\n",
        "    def get_roll_number(self):\n",
        "        return self.__roll_number\n",
        "\n",
        "    # Setter for roll number\n",
        "    def set_roll_number(self, roll_number):\n",
        "        self.__roll_number = roll_number\n",
        "\n",
        "    # Method to display student information\n",
        "    def display_info(self):\n",
        "        print(f\"Name: {self.__name}\")\n",
        "        print(f\"Age: {self.__age}\")\n",
        "        print(f\"Roll Number: {self.__roll_number}\")\n",
        "\n",
        "    # Method to update student details\n",
        "    def update_details(self, name=None, age=None, roll_number=None):\n",
        "        if name is not None:\n",
        "            self.set_name(name)\n",
        "        if age is not None:\n",
        "            self.set_age(age)\n",
        "        if roll_number is not None:\n",
        "            self.set_roll_number(roll_number)\n",
        "        print(\"Details updated successfully!\")\n",
        "\n",
        "\n",
        "# Creating instances of the Student class and testing functionality\n",
        "\n",
        "# Create an instance of the Student class\n",
        "student1 = Student(\"Sourav\", 18, \"101A\")\n",
        "\n",
        "# Display initial information\n",
        "student1.display_info()\n",
        "\n",
        "# Update student details\n",
        "student1.update_details(name=\"Amit\", age=19, roll_number=\"101B\")\n",
        "\n",
        "# Display updated information\n",
        "student1.display_info()\n"
      ],
      "metadata": {
        "colab": {
          "base_uri": "https://localhost:8080/"
        },
        "id": "KogQklEwzZuX",
        "outputId": "05a873cf-c724-45c0-8ddd-5360e88c1c4e"
      },
      "execution_count": null,
      "outputs": [
        {
          "output_type": "stream",
          "name": "stdout",
          "text": [
            "Name: Sourav\n",
            "Age: 18\n",
            "Roll Number: 101A\n",
            "Details updated successfully!\n",
            "Name: Amit\n",
            "Age: 19\n",
            "Roll Number: 101B\n"
          ]
        }
      ]
    },
    {
      "cell_type": "markdown",
      "source": [
        "# 3.Develop a Python program for managing library resources efficiently. Design a class named LibraryBook with attributes like book name, author, and availability status. Implement methods for borrowing and returning books while ensuring proper encapsulation of attributes.\n"
      ],
      "metadata": {
        "id": "Oalxk4w_1KiT"
      }
    },
    {
      "cell_type": "markdown",
      "source": [
        "**Create the LibraryBook class with encapsulated attributes.**"
      ],
      "metadata": {
        "id": "mHkuv1vY1xVG"
      }
    },
    {
      "cell_type": "code",
      "source": [
        "class LibraryBook:\n",
        "    def __init__(self, book_name, author):\n",
        "        # Private attributes\n",
        "        self.__book_name = book_name\n",
        "        self.__author = author\n",
        "        self.__available = True\n",
        "\n",
        "    # Method to borrow the book\n",
        "    def borrow_book(self):\n",
        "        if self.__available:\n",
        "            self.__available = False\n",
        "            print(f\"You have borrowed '{self.__book_name}' by {self.__author}.\")\n",
        "        else:\n",
        "            print(f\"'{self.__book_name}' is currently not available for borrowing.\")\n",
        "\n",
        "    # Method to return the book\n",
        "    def return_book(self):\n",
        "        if not self.__available:\n",
        "            self.__available = True\n",
        "            print(f\"'{self.__book_name}' by {self.__author} has been returned.\")\n",
        "        else:\n",
        "            print(f\"'{self.__book_name}' was not borrowed and cannot be returned.\")\n",
        "\n",
        "    # Method to get book details\n",
        "    def get_book_details(self):\n",
        "        return {\n",
        "            'Book Name': self.__book_name,\n",
        "            'Author': self.__author,\n",
        "            'Available': self.__available\n",
        "        }\n",
        "\n",
        "# Example usage\n",
        "if __name__ == \"__main__\":\n",
        "    # Create a LibraryBook object\n",
        "    book1 = LibraryBook(\"To Kill a Mockingbird\", \"Harper Lee\")\n",
        "\n",
        "    # Print initial details\n",
        "    print(\"Initial Book Details:\")\n",
        "    print(book1.get_book_details())\n",
        "\n",
        "    # Borrow the book\n",
        "    book1.borrow_book()\n",
        "\n",
        "    # Try borrowing the book again\n",
        "    book1.borrow_book()\n",
        "\n",
        "    # Return the book\n",
        "    book1.return_book()\n",
        "\n",
        "    # Print final details\n",
        "    print(\"\\nFinal Book Details:\")\n",
        "    print(book1.get_book_details())\n"
      ],
      "metadata": {
        "colab": {
          "base_uri": "https://localhost:8080/"
        },
        "id": "4iJ_VDEAz78Y",
        "outputId": "95f54c4c-d91f-4a46-8d6d-be3c38bbbdf6"
      },
      "execution_count": null,
      "outputs": [
        {
          "output_type": "stream",
          "name": "stdout",
          "text": [
            "Initial Book Details:\n",
            "{'Book Name': 'To Kill a Mockingbird', 'Author': 'Harper Lee', 'Available': True}\n",
            "You have borrowed 'To Kill a Mockingbird' by Harper Lee.\n",
            "'To Kill a Mockingbird' is currently not available for borrowing.\n",
            "'To Kill a Mockingbird' by Harper Lee has been returned.\n",
            "\n",
            "Final Book Details:\n",
            "{'Book Name': 'To Kill a Mockingbird', 'Author': 'Harper Lee', 'Available': True}\n"
          ]
        }
      ]
    },
    {
      "cell_type": "markdown",
      "source": [
        "**Implement methods for borrowing and returning books.**"
      ],
      "metadata": {
        "id": "lKsTnK3R2Bwf"
      }
    },
    {
      "cell_type": "code",
      "source": [
        "class LibraryBook:\n",
        "    def __init__(self, book_name, author):\n",
        "        # Private attributes\n",
        "        self.__book_name = book_name\n",
        "        self.__author = author\n",
        "        self.__available = True\n",
        "\n",
        "    # Method to borrow the book\n",
        "    def borrow_book(self):\n",
        "        if self.__available:\n",
        "            self.__available = False\n",
        "            print(f\"You have borrowed '{self.__book_name}' by {self.__author}.\")\n",
        "        else:\n",
        "            print(f\"'{self.__book_name}' is currently not available for borrowing.\")\n",
        "\n",
        "    # Method to return the book\n",
        "    def return_book(self):\n",
        "        if not self.__available:\n",
        "            self.__available = True\n",
        "            print(f\"'{self.__book_name}' by {self.__author} has been returned.\")\n",
        "        else:\n",
        "            print(f\"'{self.__book_name}' was not borrowed and cannot be returned.\")\n",
        "\n",
        "    # Method to get book details\n",
        "    def get_book_details(self):\n",
        "        return {\n",
        "            'Book Name': self.__book_name,\n",
        "            'Author': self.__author,\n",
        "            'Available': self.__available\n",
        "        }\n",
        "\n",
        "# Example usage\n",
        "if __name__ == \"__main__\":\n",
        "    # Create a LibraryBook object\n",
        "    book1 = LibraryBook(\"1984\", \"George Orwell\")\n",
        "\n",
        "    # Print initial details\n",
        "    print(\"Initial Book Details:\")\n",
        "    print(book1.get_book_details())\n",
        "\n",
        "    # Borrow the book\n",
        "    book1.borrow_book()\n",
        "\n",
        "    # Try borrowing the book again\n",
        "    book1.borrow_book()\n",
        "\n",
        "    # Return the book\n",
        "    book1.return_book()\n",
        "\n",
        "    # Print final details\n",
        "    print(\"\\nFinal Book Details:\")\n",
        "    print(book1.get_book_details())\n"
      ],
      "metadata": {
        "colab": {
          "base_uri": "https://localhost:8080/"
        },
        "id": "MxC9rZpw05g9",
        "outputId": "10f7fa0d-3a72-4f32-addb-ba8d4d0a7f52"
      },
      "execution_count": null,
      "outputs": [
        {
          "output_type": "stream",
          "name": "stdout",
          "text": [
            "Initial Book Details:\n",
            "{'Book Name': '1984', 'Author': 'George Orwell', 'Available': True}\n",
            "You have borrowed '1984' by George Orwell.\n",
            "'1984' is currently not available for borrowing.\n",
            "'1984' by George Orwell has been returned.\n",
            "\n",
            "Final Book Details:\n",
            "{'Book Name': '1984', 'Author': 'George Orwell', 'Available': True}\n"
          ]
        }
      ]
    },
    {
      "cell_type": "markdown",
      "source": [
        "**Ensure proper encapsulation to protect book details.**"
      ],
      "metadata": {
        "id": "m-ktVw2U2HGf"
      }
    },
    {
      "cell_type": "code",
      "source": [
        "class LibraryBook:\n",
        "    def __init__(self, book_name, author):\n",
        "        # Private attributes\n",
        "        self.__book_name = book_name\n",
        "        self.__author = author\n",
        "        self.__available = True\n",
        "\n",
        "    # Method to borrow the book\n",
        "    def borrow_book(self):\n",
        "        if self.__available:\n",
        "            self.__available = False\n",
        "            print(f\"You have borrowed '{self.__book_name}' by {self.__author}.\")\n",
        "        else:\n",
        "            print(f\"'{self.__book_name}' is currently not available for borrowing.\")\n",
        "\n",
        "    # Method to return the book\n",
        "    def return_book(self):\n",
        "        if not self.__available:\n",
        "            self.__available = True\n",
        "            print(f\"'{self.__book_name}' by {self.__author} has been returned.\")\n",
        "        else:\n",
        "            print(f\"'{self.__book_name}' was not borrowed and cannot be returned.\")\n",
        "\n",
        "    # Method to get book details\n",
        "    def get_book_details(self):\n",
        "        return {\n",
        "            'Book Name': self.__book_name,\n",
        "            'Author': self.__author,\n",
        "            'Available': self.__available\n",
        "        }\n",
        "\n",
        "# Example usage\n",
        "if __name__ == \"__main__\":\n",
        "    # Create a LibraryBook object\n",
        "    book1 = LibraryBook(\"To Kill a Mockingbird\", \"Harper Lee\")\n",
        "\n",
        "    # Print initial details\n",
        "    print(\"Initial Book Details:\")\n",
        "    print(book1.get_book_details())\n",
        "\n",
        "    # Borrow the book\n",
        "    book1.borrow_book()\n",
        "\n",
        "    # Try borrowing the book again\n",
        "    book1.borrow_book()\n",
        "\n",
        "    # Return the book\n",
        "    book1.return_book()\n",
        "\n",
        "    # Print final details\n",
        "    print(\"\\nFinal Book Details:\")\n",
        "    print(book1.get_book_details())\n"
      ],
      "metadata": {
        "colab": {
          "base_uri": "https://localhost:8080/"
        },
        "id": "Jj63i5nV1FWY",
        "outputId": "fb175193-365c-4cdb-9bb4-ae439c46ba4c"
      },
      "execution_count": null,
      "outputs": [
        {
          "output_type": "stream",
          "name": "stdout",
          "text": [
            "Initial Book Details:\n",
            "{'Book Name': 'To Kill a Mockingbird', 'Author': 'Harper Lee', 'Available': True}\n",
            "You have borrowed 'To Kill a Mockingbird' by Harper Lee.\n",
            "'To Kill a Mockingbird' is currently not available for borrowing.\n",
            "'To Kill a Mockingbird' by Harper Lee has been returned.\n",
            "\n",
            "Final Book Details:\n",
            "{'Book Name': 'To Kill a Mockingbird', 'Author': 'Harper Lee', 'Available': True}\n"
          ]
        }
      ]
    },
    {
      "cell_type": "markdown",
      "source": [
        "**Test the borrowing and returning functionality with sample data.**"
      ],
      "metadata": {
        "id": "gEqZoiR_2KHX"
      }
    },
    {
      "cell_type": "code",
      "source": [
        "class LibraryBook:\n",
        "    def __init__(self, book_name, author):\n",
        "        # Private attributes\n",
        "        self.__book_name = book_name\n",
        "        self.__author = author\n",
        "        self.__available = True\n",
        "\n",
        "    # Method to borrow the book\n",
        "    def borrow_book(self):\n",
        "        if self.__available:\n",
        "            self.__available = False\n",
        "            print(f\"You have borrowed '{self.__book_name}' by {self.__author}.\")\n",
        "        else:\n",
        "            print(f\"'{self.__book_name}' is currently not available for borrowing.\")\n",
        "\n",
        "    # Method to return the book\n",
        "    def return_book(self):\n",
        "        if not self.__available:\n",
        "            self.__available = True\n",
        "            print(f\"'{self.__book_name}' by {self.__author} has been returned.\")\n",
        "        else:\n",
        "            print(f\"'{self.__book_name}' was not borrowed and cannot be returned.\")\n",
        "\n",
        "    # Method to get book details\n",
        "    def get_book_details(self):\n",
        "        return {\n",
        "            'Book Name': self.__book_name,\n",
        "            'Author': self.__author,\n",
        "            'Available': self.__available\n",
        "        }\n",
        "\n",
        "# Testing the LibraryBook class\n",
        "if __name__ == \"__main__\":\n",
        "    # Create LibraryBook objects\n",
        "    book1 = LibraryBook(\"1984\", \"George Orwell\")\n",
        "    book2 = LibraryBook(\"To Kill a Mockingbird\", \"Harper Lee\")\n",
        "\n",
        "    # Print initial details\n",
        "    print(\"Initial Book Details:\")\n",
        "    print(book1.get_book_details())\n",
        "    print(book2.get_book_details())\n",
        "\n",
        "    # Borrow the first book\n",
        "    book1.borrow_book()\n",
        "\n",
        "    # Try to borrow the first book again\n",
        "    book1.borrow_book()\n",
        "\n",
        "    # Borrow the second book\n",
        "    book2.borrow_book()\n",
        "\n",
        "    # Return the first book\n",
        "    book1.return_book()\n",
        "\n",
        "    # Return the second book\n",
        "    book2.return_book()\n",
        "\n",
        "    # Print final details\n",
        "    print(\"\\nFinal Book Details:\")\n",
        "    print(book1.get_book_details())\n",
        "    print(book2.get_book_details())\n"
      ],
      "metadata": {
        "colab": {
          "base_uri": "https://localhost:8080/"
        },
        "id": "QNHZbLCC1gaH",
        "outputId": "3fca9862-31e9-4fb2-b559-c331775c3c7d"
      },
      "execution_count": null,
      "outputs": [
        {
          "output_type": "stream",
          "name": "stdout",
          "text": [
            "Initial Book Details:\n",
            "{'Book Name': '1984', 'Author': 'George Orwell', 'Available': True}\n",
            "{'Book Name': 'To Kill a Mockingbird', 'Author': 'Harper Lee', 'Available': True}\n",
            "You have borrowed '1984' by George Orwell.\n",
            "'1984' is currently not available for borrowing.\n",
            "You have borrowed 'To Kill a Mockingbird' by Harper Lee.\n",
            "'1984' by George Orwell has been returned.\n",
            "'To Kill a Mockingbird' by Harper Lee has been returned.\n",
            "\n",
            "Final Book Details:\n",
            "{'Book Name': '1984', 'Author': 'George Orwell', 'Available': True}\n",
            "{'Book Name': 'To Kill a Mockingbird', 'Author': 'Harper Lee', 'Available': True}\n"
          ]
        }
      ]
    },
    {
      "cell_type": "markdown",
      "source": [
        "# 4.Create a simple banking system using object-oriented concepts in Python. Design classes representing different types of bank accounts such as savings and checking. Implement methods for deposit, withdraw, and balance inquiry. Utilize inheritance to manage different account types efficiently."
      ],
      "metadata": {
        "id": "zVpJUxZo2SIe"
      }
    },
    {
      "cell_type": "code",
      "source": [
        "class BankAccount:\n",
        "    def __init__(self, account_number, account_holder):\n",
        "        self.__account_number = account_number\n",
        "        self.__account_holder = account_holder\n",
        "        self.__balance = 0\n",
        "\n",
        "    def deposit(self, amount):\n",
        "        if amount > 0:\n",
        "            self.__balance += amount\n",
        "            print(f\"Deposited ${amount}. New balance is ${self.__balance}.\")\n",
        "        else:\n",
        "            print(\"Deposit amount must be positive.\")\n",
        "\n",
        "    def withdraw(self, amount):\n",
        "        if amount > 0:\n",
        "            if amount <= self.__balance:\n",
        "                self.__balance -= amount\n",
        "                print(f\"Withdrew ${amount}. New balance is ${self.__balance}.\")\n",
        "            else:\n",
        "                print(\"Insufficient funds.\")\n",
        "        else:\n",
        "            print(\"Withdrawal amount must be positive.\")\n",
        "\n",
        "    def get_balance(self):\n",
        "        return self.__balance\n",
        "\n",
        "    def get_account_details(self):\n",
        "        return {\n",
        "            'Account Number': self.__account_number,\n",
        "            'Account Holder': self.__account_holder,\n",
        "            'Balance': self.__balance\n",
        "        }\n"
      ],
      "metadata": {
        "id": "dLBHBf6x1uWO"
      },
      "execution_count": null,
      "outputs": []
    },
    {
      "cell_type": "code",
      "source": [
        "class SavingsAccount(BankAccount):\n",
        "    def __init__(self, account_number, account_holder, interest_rate):\n",
        "        super().__init__(account_number, account_holder)\n",
        "        self.__interest_rate = interest_rate\n",
        "\n",
        "    def apply_interest(self):\n",
        "        interest = self.get_balance() * (self.__interest_rate / 100)\n",
        "        self.deposit(interest)\n",
        "        print(f\"Applied interest: ${interest}. New balance is ${self.get_balance()}.\")\n"
      ],
      "metadata": {
        "id": "YjIhUmXI24Ln",
        "colab": {
          "base_uri": "https://localhost:8080/",
          "height": 222
        },
        "outputId": "4d00afa1-34e3-4971-f582-4166eb63da9e"
      },
      "execution_count": null,
      "outputs": [
        {
          "output_type": "error",
          "ename": "NameError",
          "evalue": "name 'BankAccount' is not defined",
          "traceback": [
            "\u001b[0;31m---------------------------------------------------------------------------\u001b[0m",
            "\u001b[0;31mNameError\u001b[0m                                 Traceback (most recent call last)",
            "\u001b[0;32m<ipython-input-1-4c0c0f1dda11>\u001b[0m in \u001b[0;36m<cell line: 1>\u001b[0;34m()\u001b[0m\n\u001b[0;32m----> 1\u001b[0;31m \u001b[0;32mclass\u001b[0m \u001b[0mSavingsAccount\u001b[0m\u001b[0;34m(\u001b[0m\u001b[0mBankAccount\u001b[0m\u001b[0;34m)\u001b[0m\u001b[0;34m:\u001b[0m\u001b[0;34m\u001b[0m\u001b[0;34m\u001b[0m\u001b[0m\n\u001b[0m\u001b[1;32m      2\u001b[0m     \u001b[0;32mdef\u001b[0m \u001b[0m__init__\u001b[0m\u001b[0;34m(\u001b[0m\u001b[0mself\u001b[0m\u001b[0;34m,\u001b[0m \u001b[0maccount_number\u001b[0m\u001b[0;34m,\u001b[0m \u001b[0maccount_holder\u001b[0m\u001b[0;34m,\u001b[0m \u001b[0minterest_rate\u001b[0m\u001b[0;34m)\u001b[0m\u001b[0;34m:\u001b[0m\u001b[0;34m\u001b[0m\u001b[0;34m\u001b[0m\u001b[0m\n\u001b[1;32m      3\u001b[0m         \u001b[0msuper\u001b[0m\u001b[0;34m(\u001b[0m\u001b[0;34m)\u001b[0m\u001b[0;34m.\u001b[0m\u001b[0m__init__\u001b[0m\u001b[0;34m(\u001b[0m\u001b[0maccount_number\u001b[0m\u001b[0;34m,\u001b[0m \u001b[0maccount_holder\u001b[0m\u001b[0;34m)\u001b[0m\u001b[0;34m\u001b[0m\u001b[0;34m\u001b[0m\u001b[0m\n\u001b[1;32m      4\u001b[0m         \u001b[0mself\u001b[0m\u001b[0;34m.\u001b[0m\u001b[0m__interest_rate\u001b[0m \u001b[0;34m=\u001b[0m \u001b[0minterest_rate\u001b[0m\u001b[0;34m\u001b[0m\u001b[0;34m\u001b[0m\u001b[0m\n\u001b[1;32m      5\u001b[0m \u001b[0;34m\u001b[0m\u001b[0m\n",
            "\u001b[0;31mNameError\u001b[0m: name 'BankAccount' is not defined"
          ]
        }
      ]
    },
    {
      "cell_type": "code",
      "source": [
        "if __name__ == \"__main__\":\n",
        "    # Create SavingsAccount and CheckingAccount objects\n",
        "    savings = SavingsAccount(\"123456\", \"Alice\", 2.5)\n",
        "    checking = CheckingAccount(\"654321\", \"Bob\", 500)\n",
        "\n",
        "    # Perform operations on SavingsAccount\n",
        "    print(\"Testing Savings Account:\")\n",
        "    savings.deposit(1000)\n",
        "    savings.withdraw(200)\n",
        "    savings.apply_interest()\n",
        "    print(savings.get_account_details())\n",
        "\n",
        "    print(\"\\nTesting Checking Account:\")\n",
        "    checking.deposit(500)\n",
        "    checking.withdraw(600)\n",
        "    checking.withdraw(200)  # This should show an error because it exceeds the overdraft limit\n",
        "    print(checking.get_account_details())\n"
      ],
      "metadata": {
        "id": "HAFQN1S4260n"
      },
      "execution_count": null,
      "outputs": []
    },
    {
      "cell_type": "markdown",
      "source": [
        "# 5.Write a Python program that models different animals and their sounds. Design a base class called `Animal` with a method `make_sound()`. Create subclasses like `Dog` and `Cat` that override the make_sound() method to produce appropriate sounds\n"
      ],
      "metadata": {
        "id": "yse1Xryeuyqc"
      }
    },
    {
      "cell_type": "markdown",
      "source": [
        "**Define the Animal class with a method make_sound()**"
      ],
      "metadata": {
        "id": "g5rYa6cpwRAK"
      }
    },
    {
      "cell_type": "code",
      "source": [
        "# Define the base class Animal\n",
        "class Animal:\n",
        "    def make_sound(self):\n",
        "        raise NotImplementedError(\"Subclasses should implement this method.\")"
      ],
      "metadata": {
        "id": "8A0CWlYTuYCd"
      },
      "execution_count": null,
      "outputs": []
    },
    {
      "cell_type": "markdown",
      "source": [
        "**Create subclasses Dog and Cat that override the make_sound() method**"
      ],
      "metadata": {
        "id": "iCE65Sl9wjtY"
      }
    },
    {
      "cell_type": "code",
      "source": [
        "# Define the base class Animal\n",
        "class Animal:\n",
        "    def make_sound(self):\n",
        "        raise NotImplementedError(\"Subclasses should implement this method.\")\n",
        "\n",
        "# Define the Dog subclass\n",
        "class Dog(Animal):\n",
        "\n",
        "\n",
        "# Define the Cat subclass\n",
        "class Cat(Animal):\n"
      ],
      "metadata": {
        "id": "wlRvi_mkwEjh"
      },
      "execution_count": null,
      "outputs": []
    },
    {
      "cell_type": "markdown",
      "source": [
        "**Implement the sound generation logic for each subclass**"
      ],
      "metadata": {
        "id": "EguplYPpxzGU"
      }
    },
    {
      "cell_type": "code",
      "source": [
        "# Define the base class Animal\n",
        "class Animal:\n",
        "    def make_sound(self):\n",
        "        raise NotImplementedError(\"Subclasses should implement this method.\")\n",
        "\n",
        "# Define the Dog subclass\n",
        "class Dog(Animal):\n",
        "    def make_sound(self):\n",
        "        return \"Woof Woof!\"\n",
        "\n",
        "# Define the Cat subclass\n",
        "class Cat(Animal):\n",
        "    def make_sound(self):\n",
        "        return \"Meow!\"\n",
        "\n"
      ],
      "metadata": {
        "id": "j0DjgVfGwlHl"
      },
      "execution_count": null,
      "outputs": []
    },
    {
      "cell_type": "markdown",
      "source": [
        "**Test the program by creating instances of Dog and Cat and calling the make_sound()**"
      ],
      "metadata": {
        "id": "VT3ZzLy8yADf"
      }
    },
    {
      "cell_type": "code",
      "source": [
        "# Define the base class Animal\n",
        "class Animal:\n",
        "    def make_sound(self):\n",
        "        raise NotImplementedError(\"Subclasses should implement this method.\")\n",
        "\n",
        "# Define the Dog subclass\n",
        "class Dog(Animal):\n",
        "    def make_sound(self):\n",
        "        return \"Woof Woof!\"\n",
        "\n",
        "# Define the Cat subclass\n",
        "class Cat(Animal):\n",
        "    def make_sound(self):\n",
        "        return \"Meow!\"\n",
        "\n",
        "# Example usage:\n",
        "if __name__ == \"__main__\":\n",
        "    dog = Dog()\n",
        "    cat = Cat()\n",
        "\n",
        "    print(\"Dog:\", dog.make_sound())\n",
        "    print(\"Cat:\", cat.make_sound())\n"
      ],
      "metadata": {
        "colab": {
          "base_uri": "https://localhost:8080/"
        },
        "id": "f9wuDwQ5x4JR",
        "outputId": "bb89b30b-65c3-4c57-c2eb-b5d4c095da82"
      },
      "execution_count": null,
      "outputs": [
        {
          "output_type": "stream",
          "name": "stdout",
          "text": [
            "Dog: Woof Woof!\n",
            "Cat: Meow!\n"
          ]
        }
      ]
    },
    {
      "cell_type": "markdown",
      "source": [
        "#6. Write code for a Restaurant Management System using OOP:"
      ],
      "metadata": {
        "id": "S10dtlGzyymI"
      }
    },
    {
      "cell_type": "markdown",
      "source": [
        "**Create a MenuItem class that has attributes such as name, description, price, and category**"
      ],
      "metadata": {
        "id": "9WHth_Tsy14T"
      }
    },
    {
      "cell_type": "code",
      "source": [
        "# Define the MenuItem class\n",
        "class MenuItem:\n",
        "    __id_counter = 1  # Private class attribute to track unique ID\n",
        "\n",
        "    def __init__(self, name, description, price, category):\n",
        "        self.__id = MenuItem.__id_counter  # Private instance attribute for ID\n",
        "        MenuItem.__id_counter += 1\n",
        "        self.name = name\n",
        "        self.description = description\n",
        "        self.price = price\n",
        "        self.category = category"
      ],
      "metadata": {
        "id": "AKc7R_wlyM7P"
      },
      "execution_count": null,
      "outputs": []
    },
    {
      "cell_type": "markdown",
      "source": [
        "**Implement methods to add a new menu item, update menu item information, and remove a menu item from the menu.**"
      ],
      "metadata": {
        "id": "6RdypKHjzE1s"
      }
    },
    {
      "cell_type": "code",
      "source": [
        "# Define the MenuItem class\n",
        "class MenuItem:\n",
        "    __id_counter = 1  # Private class attribute to track unique ID\n",
        "\n",
        "    def __init__(self, name, description, price, category):\n",
        "        self.__id = MenuItem.__id_counter  # Private instance attribute for ID\n",
        "        MenuItem.__id_counter += 1\n",
        "        self.name = name\n",
        "        self.description = description\n",
        "        self.price = price\n",
        "        self.category = category\n",
        "\n",
        "    def update_info(self, name=None, description=None, price=None, category=None):\n",
        "        if name:\n",
        "            self.name = name\n",
        "        if description:\n",
        "            self.description = description\n",
        "        if price:\n",
        "            self.price = price\n",
        "        if category:\n",
        "            self.category = category"
      ],
      "metadata": {
        "id": "h_N0Ue0Ky8ec"
      },
      "execution_count": null,
      "outputs": []
    },
    {
      "cell_type": "markdown",
      "source": [
        "**Inherit from the MenuItem class to create a FoodItem class and a BeverageItem class, each with their own specific attributes and methods.\"**"
      ],
      "metadata": {
        "id": "y82sqjXczERm"
      }
    },
    {
      "cell_type": "code",
      "source": [
        "# Define the MenuItem class\n",
        "class MenuItem:\n",
        "    __id_counter = 1  # Private class attribute to track unique ID\n",
        "\n",
        "    def __init__(self, name, description, price, category):\n",
        "        self.__id = MenuItem.__id_counter  # Private instance attribute for ID\n",
        "        MenuItem.__id_counter += 1\n",
        "        self.name = name\n",
        "        self.description = description\n",
        "        self.price = price\n",
        "        self.category = category\n",
        "\n",
        "    def update_info(self, name=None, description=None, price=None, category=None):\n",
        "        if name:\n",
        "            self.name = name\n",
        "        if description:\n",
        "            self.description = description\n",
        "        if price:\n",
        "            self.price = price\n",
        "        if category:\n",
        "            self.category = category\n",
        "\n",
        "    def __str__(self):\n",
        "        return f\"{self.name} - {self.category}: {self.description} | Price: ${self.price:.2f} | ID: {self.__id}\"\n",
        "\n",
        "    def get_id(self):\n",
        "        return self.__id\n",
        "\n",
        "# Define the FoodItem class inheriting from MenuItem\n",
        "class FoodItem(MenuItem):\n",
        "    def __init__(self, name, description, price, cuisine_type):\n",
        "        super().__init__(name, description, price, \"Food\")\n",
        "        self.cuisine_type = cuisine_type\n",
        "\n",
        "    def __str__(self):\n",
        "        return super().__str__() + f\" | Cuisine Type: {self.cuisine_type}\"\n",
        "\n",
        "# Define the BeverageItem class inheriting from MenuItem\n",
        "class BeverageItem(MenuItem):\n",
        "    def __init__(self, name, description, price, beverage_type):\n",
        "        super().__init__(name, description, price, \"Beverage\")\n",
        "        self.beverage_type = beverage_type\n",
        "\n",
        "    def __str__(self):\n",
        "        return super().__str__() + f\" | Beverage Type: {self.beverage_type}\"\n",
        "\n"
      ],
      "metadata": {
        "id": "Ggof6Mqm007c"
      },
      "execution_count": null,
      "outputs": []
    },
    {
      "cell_type": "markdown",
      "source": [
        "**Use encapsulation to hide the menu item's unique identification number.**"
      ],
      "metadata": {
        "id": "H8cucQ1A1D8q"
      }
    },
    {
      "cell_type": "code",
      "source": [
        "# Define the MenuItem class\n",
        "class MenuItem:\n",
        "    __id_counter = 1  # Private class attribute to track unique ID\n",
        "\n",
        "    def __init__(self, name, description, price, category):\n",
        "        self.__id = MenuItem.__id_counter  # Private instance attribute for ID\n",
        "        MenuItem.__id_counter += 1\n",
        "        self.name = name\n",
        "        self.description = description\n",
        "        self.price = price\n",
        "        self.category = category\n",
        "\n",
        "    def update_info(self, name=None, description=None, price=None, category=None):\n",
        "        if name:\n",
        "            self.name = name\n",
        "        if description:\n",
        "            self.description = description\n",
        "        if price:\n",
        "            self.price = price\n",
        "        if category:\n",
        "            self.category = category\n",
        "\n",
        "    def __str__(self):\n",
        "        return f\"{self.name} - {self.category}: {self.description} | Price: ${self.price:.2f} | ID: {self.__id}\"\n",
        "\n",
        "    def get_id(self):\n",
        "        return self.__id\n",
        "\n",
        "# Define the FoodItem class inheriting from MenuItem\n",
        "class FoodItem(MenuItem):\n",
        "    def __init__(self, name, description, price, cuisine_type):\n",
        "        super().__init__(name, description, price, \"Food\")\n",
        "        self.cuisine_type = cuisine_type\n",
        "\n",
        "    def __str__(self):\n",
        "        return super().__str__() + f\" | Cuisine Type: {self.cuisine_type}\"\n",
        "\n",
        "# Define the BeverageItem class inheriting from MenuItem\n",
        "class BeverageItem(MenuItem):\n",
        "    def __init__(self, name, description, price, beverage_type):\n",
        "        super().__init__(name, description, price, \"Beverage\")\n",
        "        self.beverage_type = beverage_type\n",
        "\n",
        "    def __str__(self):\n",
        "        return super().__str__() + f\" | Beverage Type: {self.beverage_type}\"\n",
        "\n",
        "# Managing the menu\n",
        "class Menu:\n",
        "    def __init__(self):\n",
        "        self.items = []\n",
        "\n",
        "    def add_item(self, item):\n",
        "        self.items.append(item)\n",
        "\n",
        "    def remove_item(self, item_id):\n",
        "        self.items = [item for item in self.items if item.get_id() != item_id]\n",
        "\n",
        "    def update_item(self, item_id, name=None, description=None, price=None, category=None):\n",
        "        for item in self.items:\n",
        "            if item.get_id() == item_id:\n",
        "                item.update_info(name, description, price, category)\n",
        "\n",
        "    def show_menu(self):\n",
        "        for item in self.items:\n",
        "            print(item)\n",
        "\n",
        "# Example usage:\n",
        "if __name__ == \"__main__\":\n",
        "    menu = Menu()\n",
        "\n",
        "    # Create some food and beverage items\n",
        "    pizza = FoodItem(\"Margherita Pizza\", \"Classic cheese and tomato pizza\", 8.99, \"Italian\")\n",
        "    coffee = BeverageItem(\"Espresso\", \"Strong black coffee\", 2.99, \"Coffee\")\n",
        "\n",
        "    # Add items to the menu\n",
        "    menu.add_item(pizza)\n",
        "    menu.add_item(coffee)\n",
        "\n",
        "    # Display the menu\n",
        "    print(\"Menu:\")\n",
        "    menu.show_menu()\n",
        "\n",
        "    # Update an item\n",
        "    menu.update_item(pizza.get_id(), price=9.99)\n",
        "    print(\"\\nUpdated Menu:\")\n",
        "    menu.show_menu()\n",
        "\n",
        "    # Remove an item\n",
        "    menu.remove_item(coffee.get_id())\n",
        "    print(\"\\nFinal Menu after removing coffee:\")\n",
        "    menu.show_menu()\n"
      ],
      "metadata": {
        "colab": {
          "base_uri": "https://localhost:8080/"
        },
        "id": "ZE58RpfF09BM",
        "outputId": "4ed15dd4-4568-4882-b96c-0e19f4c42841"
      },
      "execution_count": null,
      "outputs": [
        {
          "output_type": "stream",
          "name": "stdout",
          "text": [
            "Menu:\n",
            "Margherita Pizza - Food: Classic cheese and tomato pizza | Price: $8.99 | ID: 1 | Cuisine Type: Italian\n",
            "Espresso - Beverage: Strong black coffee | Price: $2.99 | ID: 2 | Beverage Type: Coffee\n",
            "\n",
            "Updated Menu:\n",
            "Margherita Pizza - Food: Classic cheese and tomato pizza | Price: $9.99 | ID: 1 | Cuisine Type: Italian\n",
            "Espresso - Beverage: Strong black coffee | Price: $2.99 | ID: 2 | Beverage Type: Coffee\n",
            "\n",
            "Final Menu after removing coffee:\n",
            "Margherita Pizza - Food: Classic cheese and tomato pizza | Price: $9.99 | ID: 1 | Cuisine Type: Italian\n"
          ]
        }
      ]
    },
    {
      "cell_type": "markdown",
      "source": [
        "# **7. Write code for a Hotel Management System using OOP:**\n",
        "\n"
      ],
      "metadata": {
        "id": "hJPRZJVp2V90"
      }
    },
    {
      "cell_type": "markdown",
      "source": [
        "**Create a Room class that has attributes such as room number, room type, rate, and availability (private).**"
      ],
      "metadata": {
        "id": "A2_LC6QI2fXP"
      }
    },
    {
      "cell_type": "code",
      "source": [
        "# 1. Create a Room class that has attributes such as room number, room type, rate, and availability (private).\n",
        "class Room:\n",
        "    __id_counter = 1  # Private class attribute to track unique ID for each room\n",
        "\n",
        "    def __init__(self, room_number, room_type, rate):\n",
        "        self.__id = Room.__id_counter  # Private instance attribute for room ID\n",
        "        Room.__id_counter += 1\n",
        "        self.room_number = room_number  # Public attribute for room number\n",
        "        self.room_type = room_type  # Public attribute for room type (e.g., Suite, Standard)\n",
        "        self.rate = rate  # Public attribute for room rate (price per night)\n",
        "        self.__available = True  # Private attribute to track room availability (True if available)\n",
        "\n"
      ],
      "metadata": {
        "id": "9c5EUo8w2ikV"
      },
      "execution_count": null,
      "outputs": []
    },
    {
      "cell_type": "markdown",
      "source": [
        "**2. Implement methods to book a room, check in a guest, and check out a guest.**"
      ],
      "metadata": {
        "id": "ixtLcWQF3GSD"
      }
    },
    {
      "cell_type": "code",
      "source": [
        "# 1. Create a Room class that has attributes such as room number, room type, rate, and availability (private).\n",
        "class Room:\n",
        "    __id_counter = 1  # Private class attribute to track unique ID for each room\n",
        "\n",
        "    def __init__(self, room_number, room_type, rate):\n",
        "        self.__id = Room.__id_counter  # Private instance attribute for room ID\n",
        "        Room.__id_counter += 1\n",
        "        self.room_number = room_number  # Public attribute for room number\n",
        "        self.room_type = room_type  # Public attribute for room type (e.g., Suite, Standard)\n",
        "        self.rate = rate  # Public attribute for room rate (price per night)\n",
        "        self.__available = True  # Private attribute to track room availability (True if available)\n",
        "\n",
        "    # 2. Implement methods to book a room, check in a guest, and check out a guest.\n",
        "    def book_room(self):\n",
        "        if self.__available:\n",
        "            self.__available = False  # Room is now booked, so it's no longer available\n",
        "            print(f\"Room {self.room_number} has been successfully booked.\")\n",
        "        else:\n",
        "            print(f\"Room {self.room_number} is already booked.\")\n",
        "\n",
        "    def check_in(self):\n",
        "        if not self.__available:\n",
        "            print(f\"Guest has successfully checked into Room {self.room_number}.\")\n",
        "        else:\n",
        "            print(f\"Room {self.room_number} is not yet booked, cannot check-in.\")\n",
        "\n",
        "    def check_out(self):\n",
        "        if not self.__available:\n",
        "            self.__available = True  # Room is now available after guest checks out\n",
        "            print(f\"Guest has checked out from Room {self.room_number}. It is now available.\")\n",
        "        else:\n",
        "            print(f\"Room {self.room_number} is already available.\")\n",
        "\n",
        "    # Method to check if the room is available\n",
        "    def is_available(self):\n",
        "        return self.__available\n",
        "\n"
      ],
      "metadata": {
        "id": "J_kvTCWU1JWI"
      },
      "execution_count": null,
      "outputs": []
    },
    {
      "cell_type": "markdown",
      "source": [
        "**3. Use encapsulation to hide the room's unique identification number.**"
      ],
      "metadata": {
        "id": "Em4kpj7i3Y-M"
      }
    },
    {
      "cell_type": "code",
      "source": [
        "# 1. Create a Room class that has attributes such as room number, room type, rate, and availability (private).\n",
        "class Room:\n",
        "    __id_counter = 1  # Private class attribute to track unique ID for each room\n",
        "\n",
        "    def __init__(self, room_number, room_type, rate):\n",
        "        self.__id = Room.__id_counter  # Private instance attribute for room ID\n",
        "        Room.__id_counter += 1\n",
        "        self.room_number = room_number  # Public attribute for room number\n",
        "        self.room_type = room_type  # Public attribute for room type (e.g., Suite, Standard)\n",
        "        self.rate = rate  # Public attribute for room rate (price per night)\n",
        "        self.__available = True  # Private attribute to track room availability (True if available)\n",
        "\n",
        "    # 2. Implement methods to book a room, check in a guest, and check out a guest.\n",
        "    def book_room(self):\n",
        "        if self.__available:\n",
        "            self.__available = False  # Room is now booked, so it's no longer available\n",
        "            print(f\"Room {self.room_number} has been successfully booked.\")\n",
        "        else:\n",
        "            print(f\"Room {self.room_number} is already booked.\")\n",
        "\n",
        "    def check_in(self):\n",
        "        if not self.__available:\n",
        "            print(f\"Guest has successfully checked into Room {self.room_number}.\")\n",
        "        else:\n",
        "            print(f\"Room {self.room_number} is not yet booked, cannot check-in.\")\n",
        "\n",
        "    def check_out(self):\n",
        "        if not self.__available:\n",
        "            self.__available = True  # Room is now available after guest checks out\n",
        "            print(f\"Guest has checked out from Room {self.room_number}. It is now available.\")\n",
        "        else:\n",
        "            print(f\"Room {self.room_number} is already available.\")\n",
        "\n",
        "    # Method to check if the room is available\n",
        "    def is_available(self):\n",
        "        return self.__available\n",
        "\n",
        "# 3. Use encapsulation to hide the room's unique identification number.\n",
        "    def get_id(self):\n",
        "        return self.__id  # Provide a method to access the private room ID\n",
        "\n",
        "    # Method to print room details, including availability status\n",
        "    def __str__(self):\n",
        "        availability = \"Available\" if self.__available else \"Not Available\"\n",
        "        return f\"Room {self.room_number} ({self.room_type}) - Rate: ${self.rate:.2f} | {availability} | ID: {self.__id}\"\n",
        "\n"
      ],
      "metadata": {
        "id": "p0kZirxX3Nga"
      },
      "execution_count": null,
      "outputs": []
    },
    {
      "cell_type": "markdown",
      "source": [
        "\n",
        "**4. Inherit from the Room class to create a SuiteRoom class and a StandardRoom class, each with their own specific attributes and methods.**\n"
      ],
      "metadata": {
        "id": "JvUZXHhO2f1o"
      }
    },
    {
      "cell_type": "code",
      "source": [
        "# 1. Create a Room class that has attributes such as room number, room type, rate, and availability (private).\n",
        "class Room:\n",
        "    __id_counter = 1  # Private class attribute to track unique ID for each room\n",
        "\n",
        "    def __init__(self, room_number, room_type, rate):\n",
        "        self.__id = Room.__id_counter  # Private instance attribute for room ID\n",
        "        Room.__id_counter += 1\n",
        "        self.room_number = room_number  # Public attribute for room number\n",
        "        self.room_type = room_type  # Public attribute for room type (e.g., Suite, Standard)\n",
        "        self.rate = rate  # Public attribute for room rate (price per night)\n",
        "        self.__available = True  # Private attribute to track room availability (True if available)\n",
        "\n",
        "    # 2. Implement methods to book a room, check in a guest, and check out a guest.\n",
        "    def book_room(self):\n",
        "        if self.__available:\n",
        "            self.__available = False  # Room is now booked, so it's no longer available\n",
        "            print(f\"Room {self.room_number} has been successfully booked.\")\n",
        "        else:\n",
        "            print(f\"Room {self.room_number} is already booked.\")\n",
        "\n",
        "    def check_in(self):\n",
        "        if not self.__available:\n",
        "            print(f\"Guest has successfully checked into Room {self.room_number}.\")\n",
        "        else:\n",
        "            print(f\"Room {self.room_number} is not yet booked, cannot check-in.\")\n",
        "\n",
        "    def check_out(self):\n",
        "        if not self.__available:\n",
        "            self.__available = True  # Room is now available after guest checks out\n",
        "            print(f\"Guest has checked out from Room {self.room_number}. It is now available.\")\n",
        "        else:\n",
        "            print(f\"Room {self.room_number} is already available.\")\n",
        "\n",
        "    # Method to check if the room is available\n",
        "    def is_available(self):\n",
        "        return self.__available\n",
        "\n",
        "    # 3. Use encapsulation to hide the room's unique identification number.\n",
        "    def get_id(self):\n",
        "        return self.__id  # Provide a method to access the private room ID\n",
        "\n",
        "    # Method to print room details, including availability status\n",
        "    def __str__(self):\n",
        "        availability = \"Available\" if self.__available else \"Not Available\"\n",
        "        return f\"Room {self.room_number} ({self.room_type}) - Rate: ${self.rate:.2f} | {availability} | ID: {self.__id}\"\n",
        "\n",
        "# 4. Inherit from the Room class to create a SuiteRoom class and a StandardRoom class, each with their own specific attributes and methods.\n",
        "class SuiteRoom(Room):\n",
        "    def __init__(self, room_number, rate, suite_type):\n",
        "        super().__init__(room_number, \"Suite\", rate)  # Call the constructor of the Room class\n",
        "        self.suite_type = suite_type  # Additional attribute specific to SuiteRoom\n",
        "\n",
        "    # Override __str__ method to include suite type information\n",
        "    def __str__(self):\n",
        "        return super().__str__() + f\" | Suite Type: {self.suite_type}\"\n",
        "\n",
        "class StandardRoom(Room):\n",
        "    def __init__(self, room_number, rate):\n",
        "        super().__init__(room_number, \"Standard\", rate)  # Call the constructor of the Room class\n",
        "\n",
        "# Managing hotel rooms using the Hotel class\n",
        "class Hotel:\n",
        "    def __init__(self):\n",
        "        self.rooms = []  # List to store all rooms in the hotel\n",
        "\n",
        "    # Method to add a room to the hotel\n",
        "    def add_room(self, room):\n",
        "        self.rooms.append(room)\n",
        "\n",
        "    # Method to find a room by its room number\n",
        "    def find_room(self, room_number):\n",
        "        for room in self.rooms:\n",
        "            if room.room_number == room_number:\n",
        "                return room\n",
        "        return None  # Return None if room not found\n",
        "\n",
        "    # Method to book a room by its room number\n",
        "    def book_room(self, room_number):\n",
        "        room = self.find_room(room_number)\n",
        "        if room:\n",
        "            room.book_room()  # Call the book_room method of the found room\n",
        "        else:\n",
        "            print(f\"Room {room_number} does not exist.\")\n",
        "\n",
        "    # Method to check-in to a room by its room number\n",
        "    def check_in(self, room_number):\n",
        "        room = self.find_room(room_number)\n",
        "        if room:\n",
        "            room.check_in()  # Call the check_in method of the found room\n",
        "        else:\n",
        "            print(f\"Room {room_number} does not exist.\")\n",
        "\n",
        "    # Method to check-out from a room by its room number\n",
        "    def check_out(self, room_number):\n",
        "        room = self.find_room(room_number)\n",
        "        if room:\n",
        "            room.check_out()  # Call the check_out method of the found room\n",
        "        else:\n",
        "            print(f\"Room {room_number} does not exist.\")\n",
        "\n",
        "    # Method to display all rooms in the hotel\n",
        "    def show_rooms(self):\n",
        "        for room in self.rooms:\n",
        "            print(room)\n",
        "\n",
        "# Example usage of the Hotel Management System\n",
        "if __name__ == \"__main__\":\n",
        "    hotel = Hotel()\n",
        "\n",
        "    # Create some rooms\n",
        "    suite_room = SuiteRoom(101, 300.00, \"Presidential\")  # Create a suite room\n",
        "    standard_room = StandardRoom(102, 120.00)  # Create a standard room\n",
        "\n",
        "    # Add rooms to the hotel\n",
        "    hotel.add_room(suite_room)\n",
        "    hotel.add_room(standard_room)\n",
        "\n",
        "    # Display all rooms in the hotel\n",
        "    print(\"All rooms in the hotel:\")\n",
        "    hotel.show_rooms()\n",
        "\n",
        "    # Book a room by room number\n",
        "    hotel.book_room(101)\n",
        "\n",
        "    # Try booking an already booked room\n",
        "    hotel.book_room(101)\n",
        "\n",
        "    # Check-in to a room by room number\n",
        "    hotel.check_in(101)\n",
        "\n",
        "    # Check-out from a room by room number\n",
        "    hotel.check_out(101)\n",
        "\n",
        "    # Try checking out an already available room\n",
        "    hotel.check_out(101)\n",
        "\n",
        "    # Try to book a room that does not exist\n",
        "    hotel.book_room(103)\n"
      ],
      "metadata": {
        "id": "gHpIUnzv3dvV",
        "colab": {
          "base_uri": "https://localhost:8080/"
        },
        "outputId": "cffe5af1-6271-4995-d8fa-52ef656f4487"
      },
      "execution_count": null,
      "outputs": [
        {
          "output_type": "stream",
          "name": "stdout",
          "text": [
            "All rooms in the hotel:\n",
            "Room 101 (Suite) - Rate: $300.00 | Available | ID: 1 | Suite Type: Presidential\n",
            "Room 102 (Standard) - Rate: $120.00 | Available | ID: 2\n",
            "Room 101 has been successfully booked.\n",
            "Room 101 is already booked.\n",
            "Guest has successfully checked into Room 101.\n",
            "Guest has checked out from Room 101. It is now available.\n",
            "Room 101 is already available.\n",
            "Room 103 does not exist.\n"
          ]
        }
      ]
    },
    {
      "cell_type": "markdown",
      "source": [
        "# 8 .Write a code for a Fitness Club Management System using OOPS:"
      ],
      "metadata": {
        "id": "UXu2BLnOL78l"
      }
    },
    {
      "cell_type": "markdown",
      "source": [
        "**Create a Member class that has attributes such as name, age, membership type, and membership status (private).**"
      ],
      "metadata": {
        "id": "2p4mjHFGMBsc"
      }
    },
    {
      "cell_type": "code",
      "source": [
        "# 1. Create a Member class that has attributes such as name, age, membership type, and membership status (private).\n",
        "class Member:\n",
        "    def __init__(self, name, age, membership_type):\n",
        "        self.name = name  # Public attribute to store the member's name\n",
        "        self.age = age  # Public attribute to store the member's age\n",
        "        self.membership_type = membership_type  # Public attribute for the type of membership\n",
        "        self.__membership_status = False  # Private attribute to store membership status\n",
        "        self.__id_number = None  # Private attribute to store the unique ID of the member\n"
      ],
      "metadata": {
        "id": "96dsn7kZLR4i"
      },
      "execution_count": null,
      "outputs": []
    },
    {
      "cell_type": "markdown",
      "source": [
        "**2. Implement methods to register a new member, renew a membership, and cancel a membership.**\n",
        "    "
      ],
      "metadata": {
        "id": "rNWRMAYpMHmB"
      }
    },
    {
      "cell_type": "code",
      "source": [
        "   # 2. Implement methods to register a new member, renew a membership, and cancel a membership.\n",
        "\n",
        "    # Method to register a new member\n",
        "    def register(self, id_number):\n",
        "        self.__id_number = id_number  # Assign a unique ID to the member\n",
        "        self.__membership_status = True  # Set the membership status to active\n",
        "        print(f\"Member {self.name} registered successfully with ID {self.__id_number}.\")\n",
        "\n",
        "    # Method to renew a membership\n",
        "    def renew_membership(self):\n",
        "        if self.__membership_status:\n",
        "            print(f\"Membership for {self.name} renewed.\")  # Renew the membership if the member is active\n",
        "        else:\n",
        "            print(f\"{self.name} is not an active member. Please register first.\")\n",
        "\n",
        "    # Method to cancel a membership\n",
        "    def cancel_membership(self):\n",
        "        if self.__membership_status:\n",
        "            self.__membership_status = False  # Set the membership status to inactive\n",
        "            print(f\"Membership for {self.name} cancelled.\")\n",
        "        else:\n",
        "            print(f\"{self.name} is not an active member. No action needed.\")"
      ],
      "metadata": {
        "id": "GO-FWX-uMJLn"
      },
      "execution_count": null,
      "outputs": []
    },
    {
      "cell_type": "markdown",
      "source": [
        "**3. Use encapsulation to hide the member's unique identification number.**"
      ],
      "metadata": {
        "id": "Bzm_1NqkMJwd"
      }
    },
    {
      "cell_type": "code",
      "source": [
        "# 3. Use encapsulation to hide the member's unique identification number.\n",
        "# The __id_number attribute is encapsulated (hidden) within the Member class.\n"
      ],
      "metadata": {
        "id": "vnPg78l7MH5V"
      },
      "execution_count": null,
      "outputs": []
    },
    {
      "cell_type": "markdown",
      "source": [
        "**4. Inherit from the Member class to create a FamilyMember class and an IndividualMember class, each with their own specific attributes and methods.**\n"
      ],
      "metadata": {
        "id": "NI5D_jmDMLjW"
      }
    },
    {
      "cell_type": "code",
      "source": [
        "# 1. Create a Member class that has attributes such as name, age, membership type, and membership status (private).\n",
        "class Member:\n",
        "    def __init__(self, name, age, membership_type):\n",
        "        self.name = name  # Public attribute to store the member's name\n",
        "        self.age = age  # Public attribute to store the member's age\n",
        "        self.membership_type = membership_type  # Public attribute for the type of membership\n",
        "        self.__membership_status = False  # Private attribute to store membership status\n",
        "        self.__id_number = None  # Private attribute to store the unique ID of the member\n",
        "\n",
        "    # 2. Implement methods to register a new member, renew a membership, and cancel a membership.\n",
        "\n",
        "    # Method to register a new member\n",
        "    def register(self, id_number):\n",
        "        self.__id_number = id_number  # Assign a unique ID to the member\n",
        "        self.__membership_status = True  # Set the membership status to active\n",
        "        print(f\"Member {self.name} registered successfully with ID {self.__id_number}.\")\n",
        "\n",
        "    # Method to renew a membership\n",
        "    def renew_membership(self):\n",
        "        if self.__membership_status:\n",
        "            print(f\"Membership for {self.name} renewed.\")  # Renew the membership if the member is active\n",
        "        else:\n",
        "            print(f\"{self.name} is not an active member. Please register first.\")\n",
        "\n",
        "    # Method to cancel a membership\n",
        "    def cancel_membership(self):\n",
        "        if self.__membership_status:\n",
        "            self.__membership_status = False  # Set the membership status to inactive\n",
        "            print(f\"Membership for {self.name} cancelled.\")\n",
        "        else:\n",
        "            print(f\"{self.name} is not an active member. No action needed.\")\n",
        "\n",
        "# 3. Use encapsulation to hide the member's unique identification number.\n",
        "# The __id_number attribute is encapsulated (hidden) within the Member class.\n",
        "\n",
        "# 4. Inherit from the Member class to create a FamilyMember class and an IndividualMember class, each with their own specific attributes and methods.\n",
        "\n",
        "# Class for Family Membership, inheriting from Member\n",
        "class FamilyMember(Member):\n",
        "    def __init__(self, name, age, membership_type, family_size):\n",
        "        super().__init__(name, age, membership_type)  # Initialize attributes from the base class (Member)\n",
        "        self.family_size = family_size  # Additional attribute for the size of the family\n",
        "\n",
        "    # Overriding the register method for family-specific logic\n",
        "    def register(self, id_number):\n",
        "        super().register(id_number)  # Call the register method from the base class\n",
        "        print(f\"Family membership registered for {self.family_size} members.\")\n",
        "\n",
        "# Class for Individual Membership, inheriting from Member\n",
        "class IndividualMember(Member):\n",
        "    def __init__(self, name, age, membership_type):\n",
        "        super().__init__(name, age, membership_type)  # Initialize attributes from the base class (Member)\n",
        "\n",
        "    # No additional methods, but specific methods for individual members can be added here\n",
        "\n",
        "# Demonstrating the functionality\n",
        "\n",
        "# Creating an instance of IndividualMember\n",
        "member1 = IndividualMember(\"John Doe\", 30, \"Individual\")\n",
        "member1.register(1001)  # Registering the individual member with a unique ID\n",
        "member1.renew_membership()  # Renewing the membership\n",
        "\n",
        "# Creating an instance of FamilyMember\n",
        "family_member = FamilyMember(\"Smith Family\", 40, \"Family\", 4)\n",
        "family_member.register(2001)  # Registering the family membership with a unique ID\n",
        "family_member.renew_membership()  # Renewing the family membership\n",
        "family_member.cancel_membership()  # Canceling the family membership\n"
      ],
      "metadata": {
        "colab": {
          "base_uri": "https://localhost:8080/"
        },
        "id": "vqZE6ThmMLJW",
        "outputId": "e961b301-f5f0-437e-d39f-788c8d3648db"
      },
      "execution_count": null,
      "outputs": [
        {
          "output_type": "stream",
          "name": "stdout",
          "text": [
            "Member John Doe registered successfully with ID 1001.\n",
            "Membership for John Doe renewed.\n",
            "Member Smith Family registered successfully with ID 2001.\n",
            "Family membership registered for 4 members.\n",
            "Membership for Smith Family renewed.\n",
            "Membership for Smith Family cancelled.\n"
          ]
        }
      ]
    },
    {
      "cell_type": "markdown",
      "source": [
        "# 9. Write a code for an Event Management System using OOPS:"
      ],
      "metadata": {
        "id": "lZ2zm16-ON0a"
      }
    },
    {
      "cell_type": "markdown",
      "source": [
        "**Create an Event class that has attributes such as name, date, time, location, and a list of attendees (private).**"
      ],
      "metadata": {
        "id": "anH2n8maOSSE"
      }
    },
    {
      "cell_type": "code",
      "source": [
        "# 1. Create an Event class that has attributes such as name, date, time, location, and a list of attendees (private).\n",
        "class Event:\n",
        "    def __init__(self, name, date, time, location):\n",
        "        self.name = name  # Public attribute for the event's name\n",
        "        self.date = date  # Public attribute for the event's date\n",
        "        self.time = time  # Public attribute for the event's time\n",
        "        self.location = location  # Public attribute for the event's location\n",
        "        self.__attendees = []  # Private attribute for storing the list of attendees\n",
        "        self.__event_id = None  # Private attribute for storing the unique ID of the event\n",
        "\n"
      ],
      "metadata": {
        "id": "uF5biu_ENF0e"
      },
      "execution_count": null,
      "outputs": []
    },
    {
      "cell_type": "markdown",
      "source": [
        "**2. Implement methods to create a new event, add or remove attendees, and get the total number of attendees.**"
      ],
      "metadata": {
        "id": "RsSQP3NeOri1"
      }
    },
    {
      "cell_type": "code",
      "source": [
        "# 1. Create an Event class that has attributes such as name, date, time, location, and a list of attendees (private).\n",
        "class Event:\n",
        "    def __init__(self, name, date, time, location):\n",
        "        self.name = name  # Public attribute for the event's name\n",
        "        self.date = date  # Public attribute for the event's date\n",
        "        self.time = time  # Public attribute for the event's time\n",
        "        self.location = location  # Public attribute for the event's location\n",
        "        self.__attendees = []  # Private attribute for storing the list of attendees\n",
        "        self.__event_id = None  # Private attribute for storing the unique ID of the event\n",
        "\n",
        "    # 2. Implement methods to create a new event, add or remove attendees, and get the total number of attendees.\n",
        "\n",
        "    # Method to create a new event with a unique ID\n",
        "    def create_event(self, event_id):\n",
        "        self.__event_id = event_id  # Assign a unique ID to the event\n",
        "        print(f\"Event '{self.name}' created successfully with ID {self.__event_id}.\")\n",
        "\n",
        "    # Method to add an attendee to the event\n",
        "    def add_attendee(self, attendee_name):\n",
        "        self.__attendees.append(attendee_name)  # Add the attendee to the list\n",
        "        print(f\"Attendee '{attendee_name}' added to the event '{self.name}'.\")\n",
        "\n",
        "    # Method to remove an attendee from the event\n",
        "    def remove_attendee(self, attendee_name):\n",
        "        if attendee_name in self.__attendees:\n",
        "            self.__attendees.remove(attendee_name)  # Remove the attendee from the list\n",
        "            print(f\"Attendee '{attendee_name}' removed from the event '{self.name}'.\")\n",
        "        else:\n",
        "            print(f\"Attendee '{attendee_name}' not found in the event '{self.name}'.\")\n",
        "\n",
        "    # Method to get the total number of attendees\n",
        "    def get_total_attendees(self):\n",
        "        return len(self.__attendees)  # Return the count of attendees\n"
      ],
      "metadata": {
        "id": "uW0PEhNAOl2u"
      },
      "execution_count": null,
      "outputs": []
    },
    {
      "cell_type": "markdown",
      "source": [
        "**3. Use encapsulation to hide the event's unique identification number.**"
      ],
      "metadata": {
        "id": "hDVkQdBOO0K_"
      }
    },
    {
      "cell_type": "code",
      "source": [
        "# 1. Create an Event class that has attributes such as name, date, time, location, and a list of attendees (private).\n",
        "class Event:\n",
        "    def __init__(self, name, date, time, location):\n",
        "        self.name = name  # Public attribute for the event's name\n",
        "        self.date = date  # Public attribute for the event's date\n",
        "        self.time = time  # Public attribute for the event's time\n",
        "        self.location = location  # Public attribute for the event's location\n",
        "        self.__attendees = []  # Private attribute for storing the list of attendees\n",
        "        self.__event_id = None  # Private attribute for storing the unique ID of the event\n",
        "\n",
        "    # 2. Implement methods to create a new event, add or remove attendees, and get the total number of attendees.\n",
        "\n",
        "    # Method to create a new event with a unique ID\n",
        "    def create_event(self, event_id):\n",
        "        self.__event_id = event_id  # Assign a unique ID to the event\n",
        "        print(f\"Event '{self.name}' created successfully with ID {self.__event_id}.\")\n",
        "\n",
        "    # Method to add an attendee to the event\n",
        "    def add_attendee(self, attendee_name):\n",
        "        self.__attendees.append(attendee_name)  # Add the attendee to the list\n",
        "        print(f\"Attendee '{attendee_name}' added to the event '{self.name}'.\")\n",
        "\n",
        "    # Method to remove an attendee from the event\n",
        "    def remove_attendee(self, attendee_name):\n",
        "        if attendee_name in self.__attendees:\n",
        "            self.__attendees.remove(attendee_name)  # Remove the attendee from the list\n",
        "            print(f\"Attendee '{attendee_name}' removed from the event '{self.name}'.\")\n",
        "        else:\n",
        "            print(f\"Attendee '{attendee_name}' not found in the event '{self.name}'.\")\n",
        "\n",
        "    # Method to get the total number of attendees\n",
        "    def get_total_attendees(self):\n",
        "        return len(self.__attendees)  # Return the count of attendees\n",
        "\n",
        "# 3. Use encapsulation to hide the event's unique identification number.\n",
        "# The __event_id attribute is encapsulated (hidden) within the Event class.\n",
        "class Event:\n",
        "    def __init__(self, name, date, time, location):\n",
        "        self.name = name  # Public attribute\n",
        "        self.date = date  # Public attribute\n",
        "        self.time = time  # Public attribute\n",
        "        self.location = location  # Public attribute\n",
        "        self.__attendees = []  # Private attribute (encapsulated)\n",
        "        self.__event_id = None  # Private attribute (encapsulated)\n",
        "\n",
        "    # Method to create a new event with a unique ID\n",
        "    def create_event(self, event_id):\n",
        "        self.__event_id = event_id  # Setting the private event ID\n",
        "        print(f\"Event '{self.name}' created successfully with ID {self.__event_id}.\")\n",
        "\n",
        "    # Method to get the event ID (controlled access)\n",
        "    def get_event_id(self):\n",
        "        return self.__event_id  # Returning the private event ID\n"
      ],
      "metadata": {
        "id": "FVNl9u9HOo57"
      },
      "execution_count": null,
      "outputs": []
    },
    {
      "cell_type": "markdown",
      "source": [
        "**4. Inherit from the Event class to create a PrivateEvent class and a PublicEvent class, each with their own specific attributes and methods.**"
      ],
      "metadata": {
        "id": "maika6v8PGmy"
      }
    },
    {
      "cell_type": "code",
      "source": [
        "# 1. Create an Event class that has attributes such as name, date, time, location, and a list of attendees (private).\n",
        "class Event:\n",
        "    def __init__(self, name, date, time, location):\n",
        "        self.name = name  # Public attribute for the event's name\n",
        "        self.date = date  # Public attribute for the event's date\n",
        "        self.time = time  # Public attribute for the event's time\n",
        "        self.location = location  # Public attribute for the event's location\n",
        "        self.__attendees = []  # Private attribute for storing the list of attendees\n",
        "        self.__event_id = None  # Private attribute for storing the unique ID of the event\n",
        "\n",
        "    # 2. Implement methods to create a new event, add or remove attendees, and get the total number of attendees.\n",
        "\n",
        "    # Method to create a new event with a unique ID\n",
        "    def create_event(self, event_id):\n",
        "        self.__event_id = event_id  # Assign a unique ID to the event\n",
        "        print(f\"Event '{self.name}' created successfully with ID {self.__event_id}.\")\n",
        "\n",
        "    # Method to add an attendee to the event\n",
        "    def add_attendee(self, attendee_name):\n",
        "        self.__attendees.append(attendee_name)  # Add the attendee to the list\n",
        "        print(f\"Attendee '{attendee_name}' added to the event '{self.name}'.\")\n",
        "\n",
        "    # Method to remove an attendee from the event\n",
        "    def remove_attendee(self, attendee_name):\n",
        "        if attendee_name in self.__attendees:\n",
        "            self.__attendees.remove(attendee_name)  # Remove the attendee from the list\n",
        "            print(f\"Attendee '{attendee_name}' removed from the event '{self.name}'.\")\n",
        "        else:\n",
        "            print(f\"Attendee '{attendee_name}' not found in the event '{self.name}'.\")\n",
        "\n",
        "    # Method to get the total number of attendees\n",
        "    def get_total_attendees(self):\n",
        "        return len(self.__attendees)  # Return the count of attendees\n",
        "\n",
        "# 3. Use encapsulation to hide the event's unique identification number.\n",
        "# The __event_id attribute is encapsulated (hidden) within the Event class.\n",
        "\n",
        "# 4. Inherit from the Event class to create a PrivateEvent class and a PublicEvent class, each with their own specific attributes and methods.\n",
        "\n",
        "# Class for Private Event, inheriting from Event\n",
        "class PrivateEvent(Event):\n",
        "    def __init__(self, name, date, time, location, guest_list):\n",
        "        super().__init__(name, date, time, location)  # Initialize attributes from the base class (Event)\n",
        "        self.guest_list = guest_list  # Additional attribute for the guest list in a private event\n",
        "\n",
        "    # Method specific to PrivateEvent to check if someone is on the guest list\n",
        "    def is_on_guest_list(self, attendee_name):\n",
        "        if attendee_name in self.guest_list:\n",
        "            print(f\"{attendee_name} is on the guest list for the private event '{self.name}'.\")\n",
        "        else:\n",
        "            print(f\"{attendee_name} is not on the guest list for the private event '{self.name}'.\")\n",
        "\n",
        "# Class for Public Event, inheriting from Event\n",
        "class PublicEvent(Event):\n",
        "    def __init__(self, name, date, time, location):\n",
        "        super().__init__(name, date, time, location)  # Initialize attributes from the base class (Event)\n",
        "\n",
        "    # Method specific to PublicEvent to announce the event publicly\n",
        "    def announce_event(self):\n",
        "        print(f\"The public event '{self.name}' will be held on {self.date} at {self.location}.\")\n",
        "\n",
        "# Demonstrating the functionality\n",
        "\n",
        "# Creating an instance of PublicEvent\n",
        "public_event = PublicEvent(\"Community Meetup\", \"2024-09-10\", \"10:00 AM\", \"Central Park\")\n",
        "public_event.create_event(3001)  # Creating the public event with a unique ID\n",
        "public_event.announce_event()  # Announcing the public event\n",
        "public_event.add_attendee(\"Alice\")  # Adding an attendee to the public event\n",
        "print(f\"Total attendees: {public_event.get_total_attendees()}\")  # Getting the total number of attendees\n",
        "\n",
        "# Creating an instance of PrivateEvent\n",
        "private_event = PrivateEvent(\"Corporate Retreat\", \"2024-09-12\", \"09:00 AM\", \"Mountain Resort\", [\"Bob\", \"Charlie\"])\n",
        "private_event.create_event(4001)  # Creating the private event with a unique ID\n",
        "private_event.add_attendee(\"Bob\")  # Adding an attendee to the private event\n",
        "private_event.is_on_guest_list(\"Charlie\")  # Checking if an attendee is on the guest list\n",
        "print(f\"Total attendees: {private_event.get_total_attendees()}\")  # Getting the total number of attendees\n"
      ],
      "metadata": {
        "colab": {
          "base_uri": "https://localhost:8080/"
        },
        "id": "PMe4fWVvPDJ2",
        "outputId": "2002e82c-81ff-4d1c-d04c-d616a8a3192c"
      },
      "execution_count": null,
      "outputs": [
        {
          "output_type": "stream",
          "name": "stdout",
          "text": [
            "Event 'Community Meetup' created successfully with ID 3001.\n",
            "The public event 'Community Meetup' will be held on 2024-09-10 at Central Park.\n",
            "Attendee 'Alice' added to the event 'Community Meetup'.\n",
            "Total attendees: 1\n",
            "Event 'Corporate Retreat' created successfully with ID 4001.\n",
            "Attendee 'Bob' added to the event 'Corporate Retreat'.\n",
            "Charlie is on the guest list for the private event 'Corporate Retreat'.\n",
            "Total attendees: 1\n"
          ]
        }
      ]
    },
    {
      "cell_type": "markdown",
      "source": [
        "# 10.Write code for an Airline Reservation System using OOPS:"
      ],
      "metadata": {
        "id": "Zxa6k7qfPvxk"
      }
    },
    {
      "cell_type": "markdown",
      "source": [
        "**Create a Flight class that has attributes such as flight number, departure and arrival airports, departure and arrival times, and available seats (private).**"
      ],
      "metadata": {
        "id": "JkJina0-P4zE"
      }
    },
    {
      "cell_type": "code",
      "source": [
        "# 1. Create a Flight class that has attributes such as flight number, departure and arrival airports, departure and arrival times, and available seats (private).\n",
        "class Flight:\n",
        "    def __init__(self, flight_number, departure_airport, arrival_airport, departure_time, arrival_time, total_seats):\n",
        "        self.flight_number = flight_number  # Public attribute for the flight number\n",
        "        self.departure_airport = departure_airport  # Public attribute for the departure airport\n",
        "        self.arrival_airport = arrival_airport  # Public attribute for the arrival airport\n",
        "        self.departure_time = departure_time  # Public attribute for the departure time\n",
        "        self.arrival_time = arrival_time  # Public attribute for the arrival time\n",
        "        self.__available_seats = total_seats  # Private attribute for the number of available seats\n",
        "        self.__flight_id = None  # Private attribute for the unique ID of the flight\n",
        "\n",
        "\n"
      ],
      "metadata": {
        "id": "r_CqSWMjPMDv"
      },
      "execution_count": null,
      "outputs": []
    },
    {
      "cell_type": "markdown",
      "source": [
        "**Implement methods to book a seat, cancel a reservation, and get the remaining available seats.**"
      ],
      "metadata": {
        "id": "_efconwRP71c"
      }
    },
    {
      "cell_type": "code",
      "source": [
        "# 1. Create a Flight class that has attributes such as flight number, departure and arrival airports, departure and arrival times, and available seats (private).\n",
        "class Flight:\n",
        "    def __init__(self, flight_number, departure_airport, arrival_airport, departure_time, arrival_time, total_seats):\n",
        "        self.flight_number = flight_number  # Public attribute for the flight number\n",
        "        self.departure_airport = departure_airport  # Public attribute for the departure airport\n",
        "        self.arrival_airport = arrival_airport  # Public attribute for the arrival airport\n",
        "        self.departure_time = departure_time  # Public attribute for the departure time\n",
        "        self.arrival_time = arrival_time  # Public attribute for the arrival time\n",
        "        self.__available_seats = total_seats  # Private attribute for the number of available seats\n",
        "        self.__flight_id = None  # Private attribute for the unique ID of the flight\n",
        "\n",
        "    # 2. Implement methods to book a seat, cancel a reservation, and get the remaining available seats.\n",
        "\n",
        "    # Method to book a seat on the flight\n",
        "    def book_seat(self):\n",
        "        if self.__available_seats > 0:\n",
        "            self.__available_seats -= 1  # Decrease the number of available seats\n",
        "            print(f\"Seat booked successfully on flight {self.flight_number}. Remaining seats: {self.__available_seats}.\")\n",
        "        else:\n",
        "            print(\"No seats available on this flight.\")\n",
        "\n",
        "    # Method to cancel a reservation on the flight\n",
        "    def cancel_reservation(self):\n",
        "        self.__available_seats += 1  # Increase the number of available seats\n",
        "        print(f\"Reservation cancelled on flight {self.flight_number}. Remaining seats: {self.__available_seats}.\")\n",
        "\n",
        "    # Method to get the remaining available seats\n",
        "    def get_remaining_seats(self):\n",
        "        return self.__available_seats  # Return the number of available seats\n",
        "\n"
      ],
      "metadata": {
        "id": "FzQ3-HVRP6_-"
      },
      "execution_count": null,
      "outputs": []
    },
    {
      "cell_type": "markdown",
      "source": [
        "**Use encapsulation to hide the flight's unique identification number.**"
      ],
      "metadata": {
        "id": "EvmM5brBP8PA"
      }
    },
    {
      "cell_type": "code",
      "source": [
        "# 1. Create a Flight class that has attributes such as flight number, departure and arrival airports, departure and arrival times, and available seats (private).\n",
        "class Flight:\n",
        "    def __init__(self, flight_number, departure_airport, arrival_airport, departure_time, arrival_time, total_seats):\n",
        "        self.flight_number = flight_number  # Public attribute for the flight number\n",
        "        self.departure_airport = departure_airport  # Public attribute for the departure airport\n",
        "        self.arrival_airport = arrival_airport  # Public attribute for the arrival airport\n",
        "        self.departure_time = departure_time  # Public attribute for the departure time\n",
        "        self.arrival_time = arrival_time  # Public attribute for the arrival time\n",
        "        self.__available_seats = total_seats  # Private attribute for the number of available seats\n",
        "        self.__flight_id = None  # Private attribute for the unique ID of the flight\n",
        "\n",
        "    # 2. Implement methods to book a seat, cancel a reservation, and get the remaining available seats.\n",
        "\n",
        "    # Method to book a seat on the flight\n",
        "    def book_seat(self):\n",
        "        if self.__available_seats > 0:\n",
        "            self.__available_seats -= 1  # Decrease the number of available seats\n",
        "            print(f\"Seat booked successfully on flight {self.flight_number}. Remaining seats: {self.__available_seats}.\")\n",
        "        else:\n",
        "            print(\"No seats available on this flight.\")\n",
        "\n",
        "    # Method to cancel a reservation on the flight\n",
        "    def cancel_reservation(self):\n",
        "        self.__available_seats += 1  # Increase the number of available seats\n",
        "        print(f\"Reservation cancelled on flight {self.flight_number}. Remaining seats: {self.__available_seats}.\")\n",
        "\n",
        "    # Method to get the remaining available seats\n",
        "    def get_remaining_seats(self):\n",
        "        return self.__available_seats  # Return the number of available seats\n",
        "\n",
        "# 3. Use encapsulation to hide the flight's unique identification number.\n",
        "# The __flight_id attribute is encapsulated (hidden) within the Flight class.\n",
        "\n",
        "class Flight:\n",
        "    def __init__(self, flight_number, departure_airport, arrival_airport, departure_time, arrival_time, total_seats):\n",
        "        self.flight_number = flight_number  # Public attribute for the flight number\n",
        "        self.departure_airport = departure_airport  # Public attribute for the departure airport\n",
        "        self.arrival_airport = arrival_airport  # Public attribute for the arrival airport\n",
        "        self.departure_time = departure_time  # Public attribute for the departure time\n",
        "        self.arrival_time = arrival_time  # Public attribute for the arrival time\n",
        "        self.__available_seats = total_seats  # Private attribute for the number of available seats\n",
        "        self.__flight_id = None  # Private attribute for the unique ID of the flight\n",
        "\n",
        "    # Method to create the flight with a unique ID\n",
        "    def create_flight(self, flight_id):\n",
        "        self.__flight_id = flight_id  # Assign a unique ID to the flight\n",
        "        print(f\"Flight {self.flight_number} created with ID {self.__flight_id}.\")\n",
        "\n",
        "    # Method to retrieve the flight ID (controlled access)\n",
        "    def get_flight_id(self):\n",
        "        return self.__flight_id  # Return the flight ID\n",
        "\n",
        "    # Method to book a seat on the flight\n",
        "    def book_seat(self):\n",
        "        if self.__available_seats > 0:\n",
        "            self.__available_seats -= 1  # Decrease the number of available seats\n",
        "            print(f\"Seat booked successfully on flight {self.flight_number}. Remaining seats: {self.__available_seats}.\")\n",
        "        else:\n",
        "            print(\"No seats available on this flight.\")\n"
      ],
      "metadata": {
        "id": "1jS5sWcwP7YG"
      },
      "execution_count": null,
      "outputs": []
    },
    {
      "cell_type": "markdown",
      "source": [
        "**Inherit from the Flight class to create a DomesticFlight class and an InternationalFlight class, each with their own specific attributes and methods.\"**\n"
      ],
      "metadata": {
        "id": "J1O-fPsNP9ru"
      }
    },
    {
      "cell_type": "code",
      "source": [
        "# 1. Create a Flight class that has attributes such as flight number, departure and arrival airports, departure and arrival times, and available seats (private).\n",
        "class Flight:\n",
        "    def __init__(self, flight_number, departure_airport, arrival_airport, departure_time, arrival_time, total_seats):\n",
        "        self.flight_number = flight_number  # Public attribute for the flight number\n",
        "        self.departure_airport = departure_airport  # Public attribute for the departure airport\n",
        "        self.arrival_airport = arrival_airport  # Public attribute for the arrival airport\n",
        "        self.departure_time = departure_time  # Public attribute for the departure time\n",
        "        self.arrival_time = arrival_time  # Public attribute for the arrival time\n",
        "        self.__available_seats = total_seats  # Private attribute for the number of available seats\n",
        "        self.__flight_id = None  # Private attribute for the unique ID of the flight\n",
        "\n",
        "    # 2. Implement methods to book a seat, cancel a reservation, and get the remaining available seats.\n",
        "\n",
        "    # Method to book a seat on the flight\n",
        "    def book_seat(self):\n",
        "        if self.__available_seats > 0:\n",
        "            self.__available_seats -= 1  # Decrease the number of available seats\n",
        "            print(f\"Seat booked successfully on flight {self.flight_number}. Remaining seats: {self.__available_seats}.\")\n",
        "        else:\n",
        "            print(\"No seats available on this flight.\")\n",
        "\n",
        "    # Method to cancel a reservation on the flight\n",
        "    def cancel_reservation(self):\n",
        "        self.__available_seats += 1  # Increase the number of available seats\n",
        "        print(f\"Reservation cancelled on flight {self.flight_number}. Remaining seats: {self.__available_seats}.\")\n",
        "\n",
        "    # Method to get the remaining available seats\n",
        "    def get_remaining_seats(self):\n",
        "        return self.__available_seats  # Return the number of available seats\n",
        "\n",
        "# 3. Use encapsulation to hide the flight's unique identification number.\n",
        "# The __flight_id attribute is encapsulated (hidden) within the Flight class.\n",
        "\n",
        "# 4. Inherit from the Flight class to create a DomesticFlight class and an InternationalFlight class, each with their own specific attributes and methods.\n",
        "\n",
        "# Class for Domestic Flights, inheriting from Flight\n",
        "class DomesticFlight(Flight):\n",
        "    def __init__(self, flight_number, departure_airport, arrival_airport, departure_time, arrival_time, total_seats, region):\n",
        "        super().__init__(flight_number, departure_airport, arrival_airport, departure_time, arrival_time, total_seats)  # Initialize attributes from the base class (Flight)\n",
        "        self.region = region  # Additional attribute specific to domestic flights\n",
        "\n",
        "    # Method specific to DomesticFlight\n",
        "    def domestic_info(self):\n",
        "        print(f\"Domestic flight {self.flight_number} covers the {self.region} region.\")\n",
        "\n",
        "# Class for International Flights, inheriting from Flight\n",
        "class InternationalFlight(Flight):\n",
        "    def __init__(self, flight_number, departure_airport, arrival_airport, departure_time, arrival_time, total_seats, country):\n",
        "        super().__init__(flight_number, departure_airport, arrival_airport, departure_time, arrival_time, total_seats)  # Initialize attributes from the base class (Flight)\n",
        "        self.country = country  # Additional attribute specific to international flights\n",
        "\n",
        "    # Method specific to InternationalFlight\n",
        "    def international_info(self):\n",
        "        print(f\"International flight {self.flight_number} arrives in {self.country}.\")\n",
        "\n",
        "# Demonstrating the functionality\n",
        "\n",
        "# Creating an instance of DomesticFlight\n",
        "domestic_flight = DomesticFlight(\"DF101\", \"JFK\", \"LAX\", \"08:00 AM\", \"11:00 AM\", 100, \"East Coast\")\n",
        "domestic_flight.book_seat()  # Booking a seat on the domestic flight\n",
        "print(f\"Remaining seats: {domestic_flight.get_remaining_seats()}\")  # Getting the remaining available seats\n",
        "domestic_flight.domestic_info()  # Displaying specific information for the domestic flight\n",
        "\n",
        "# Creating an instance of InternationalFlight\n",
        "international_flight = InternationalFlight(\"IF202\", \"JFK\", \"LHR\", \"09:00 AM\", \"09:00 PM\", 200, \"UK\")\n",
        "international_flight.book_seat()  # Booking a seat on the international flight\n",
        "international_flight.cancel_reservation()  # Cancelling a reservation on the international flight\n",
        "print(f\"Remaining seats: {international_flight.get_remaining_seats()}\")  # Getting the remaining available seats\n",
        "international_flight.international_info()  # Displaying specific information for the international flight\n"
      ],
      "metadata": {
        "colab": {
          "base_uri": "https://localhost:8080/"
        },
        "id": "oFya5xNkP9PI",
        "outputId": "89a7180a-f8c4-4381-a242-13f6a35de370"
      },
      "execution_count": null,
      "outputs": [
        {
          "output_type": "stream",
          "name": "stdout",
          "text": [
            "Seat booked successfully on flight DF101. Remaining seats: 99.\n",
            "Remaining seats: 99\n",
            "Domestic flight DF101 covers the East Coast region.\n",
            "Seat booked successfully on flight IF202. Remaining seats: 199.\n",
            "Reservation cancelled on flight IF202. Remaining seats: 200.\n",
            "Remaining seats: 200\n",
            "International flight IF202 arrives in UK.\n"
          ]
        }
      ]
    },
    {
      "cell_type": "markdown",
      "source": [
        "# 11. Define a Python module named constants.py containing constants like pi and the speed of light."
      ],
      "metadata": {
        "id": "xz0QwBxVRPxw"
      }
    },
    {
      "cell_type": "code",
      "source": [
        "# constants.py\n",
        "\n",
        "# Define the constant for Pi\n",
        "PI = 3.141592653589793\n"
      ],
      "metadata": {
        "id": "SdxKyhn2RWF1"
      },
      "execution_count": null,
      "outputs": []
    },
    {
      "cell_type": "code",
      "source": [
        "# Directly define constants in the same cell\n",
        "class Constants:\n",
        "    PI = 3.141592653589793\n",
        "\n",
        "# Use the constants in your calculations\n",
        "def calculate_circumference(radius):\n",
        "    return 2 * Constants.PI * radius\n",
        "\n",
        "# Example radius\n",
        "radius = 5  # in meters\n",
        "\n",
        "# Calculate the circumference\n",
        "circumference = calculate_circumference(radius)\n",
        "\n",
        "print(f\"The circumference of a circle with radius {radius} meters is: {circumference} meters.\")\n",
        "\n"
      ],
      "metadata": {
        "colab": {
          "base_uri": "https://localhost:8080/"
        },
        "id": "WQ0d_MtsRi75",
        "outputId": "ba2e499f-1e9d-408c-c678-70e4e5bb6c56"
      },
      "execution_count": null,
      "outputs": [
        {
          "output_type": "stream",
          "name": "stdout",
          "text": [
            "The circumference of a circle with radius 5 meters is: 31.41592653589793 meters.\n"
          ]
        }
      ]
    },
    {
      "cell_type": "markdown",
      "source": [
        "# 12. Write a Python module named calculator.py containing functions for addition, subtraction, multiplication, and division."
      ],
      "metadata": {
        "id": "6lsHzCjvSdi6"
      }
    },
    {
      "cell_type": "code",
      "source": [
        "# Define the functions in your script or notebook\n",
        "\n",
        "def add(x, y):\n",
        "    return x + y\n",
        "\n",
        "def subtract(x, y):\n",
        "    return x - y\n",
        "\n",
        "def multiply(x, y):\n",
        "    return x * y\n",
        "\n",
        "def divide(x, y):\n",
        "    if y == 0:\n",
        "        raise ValueError(\"Cannot divide by zero!\")\n",
        "    return x / y\n",
        "\n",
        "# Use the functions\n",
        "result_add = add(10, 5)\n",
        "result_subtract = subtract(10, 5)\n",
        "result_multiply = multiply(10, 5)\n",
        "result_divide = divide(10, 5)\n",
        "\n",
        "# Print the results\n",
        "print(f\"Addition: {result_add}\")\n",
        "print(f\"Subtraction: {result_subtract}\")\n",
        "print(f\"Multiplication: {result_multiply}\")\n",
        "print(f\"Division: {result_divide}\")\n"
      ],
      "metadata": {
        "colab": {
          "base_uri": "https://localhost:8080/"
        },
        "id": "KprYHjW9TFyi",
        "outputId": "402a297f-dd74-4e37-c310-c0aa3faf73f6"
      },
      "execution_count": null,
      "outputs": [
        {
          "output_type": "stream",
          "name": "stdout",
          "text": [
            "Addition: 15\n",
            "Subtraction: 5\n",
            "Multiplication: 50\n",
            "Division: 2.0\n"
          ]
        }
      ]
    },
    {
      "cell_type": "markdown",
      "source": [
        "# 13. Implement a Python package structure for a project named ecommerce, containing modules for product management and order processing."
      ],
      "metadata": {
        "id": "hiv5qyNHUHGH"
      }
    },
    {
      "cell_type": "code",
      "source": [
        "import os\n",
        "\n",
        "# Create the 'ecommerce' package directory\n",
        "os.makedirs('ecommerce/products', exist_ok=True)\n",
        "os.makedirs('ecommerce/orders', exist_ok=True)\n",
        "\n",
        "# Define the content of product_management.py\n",
        "product_management_code = '''\n",
        "def add_product(name, price):\n",
        "    \"\"\"Add a product to the inventory.\"\"\"\n",
        "    print(f\"Product '{name}' added with price {price}.\")\n",
        "\n",
        "def remove_product(name):\n",
        "    \"\"\"Remove a product from the inventory.\"\"\"\n",
        "    print(f\"Product '{name}' removed from the inventory.\")\n",
        "'''\n",
        "\n",
        "# Define the content of order_processing.py\n",
        "order_processing_code = '''\n",
        "def create_order(product, quantity):\n",
        "    \"\"\"Create an order for a product.\"\"\"\n",
        "    print(f\"Order created for {quantity} of '{product}'.\")\n",
        "\n",
        "def cancel_order(order_id):\n",
        "    \"\"\"Cancel an existing order.\"\"\"\n",
        "    print(f\"Order '{order_id}' has been canceled.\")\n",
        "'''\n",
        "\n",
        "# Write the code to the respective files\n",
        "with open('ecommerce/products/product_management.py', 'w') as file:\n",
        "    file.write(product_management_code)\n",
        "\n",
        "with open('ecommerce/orders/order_processing.py', 'w') as file:\n",
        "    file.write(order_processing_code)\n",
        "\n",
        "# Create __init__.py files\n",
        "open('ecommerce/__init__.py', 'w').close()\n",
        "open('ecommerce/products/__init__.py', 'w').close()\n",
        "open('ecommerce/orders/__init__.py', 'w').close()\n",
        "\n",
        "# Adjust the import path if running in a notebook or different environment\n",
        "import sys\n",
        "sys.path.append(os.path.abspath('ecommerce'))\n",
        "\n",
        "# Import the modules from the created package\n",
        "from ecommerce.products.product_management import add_product, remove_product\n",
        "from ecommerce.orders.order_processing import create_order, cancel_order\n",
        "\n",
        "# Use the functions from the modules\n",
        "add_product('Laptop', 1500)\n",
        "remove_product('Laptop')\n",
        "create_order('Laptop', 2)\n",
        "cancel_order('12345')\n"
      ],
      "metadata": {
        "colab": {
          "base_uri": "https://localhost:8080/"
        },
        "id": "8n-tNv2OVXRe",
        "outputId": "b798446e-47f4-4ab9-a6c5-d790ef7b9f96"
      },
      "execution_count": null,
      "outputs": [
        {
          "output_type": "stream",
          "name": "stdout",
          "text": [
            "Product 'Laptop' added with price 1500.\n",
            "Product 'Laptop' removed from the inventory.\n",
            "Order created for 2 of 'Laptop'.\n",
            "Order '12345' has been canceled.\n"
          ]
        }
      ]
    },
    {
      "cell_type": "markdown",
      "source": [
        "# 14. Implement a Python module named string_utils.py containing functions for string manipulation, such as reversing and capitalizing strings."
      ],
      "metadata": {
        "id": "3T0tVLJvLowc"
      }
    },
    {
      "cell_type": "code",
      "source": [
        "# string_utils.py\n",
        "\n",
        "def reverse_string(s):\n",
        "    \"\"\"\n",
        "    Reverses the given string.\n",
        "\n",
        "    Parameters:\n",
        "    s (str): The string to be reversed.\n",
        "\n",
        "    Returns:\n",
        "    str: The reversed string.\n",
        "    \"\"\"\n",
        "    return s[::-1]\n",
        "\n",
        "def capitalize_string(s):\n",
        "    \"\"\"\n",
        "    Capitalizes the first letter of the given string and converts the rest to lowercase.\n",
        "\n",
        "    Parameters:\n",
        "    s (str): The string to be capitalized.\n",
        "\n",
        "    Returns:\n",
        "    str: The capitalized string.\n",
        "    \"\"\"\n",
        "    return s.capitalize()\n",
        "\n",
        "# Example usage\n",
        "if __name__ == \"__main__\":\n",
        "    text = \"hello world\"\n",
        "    print(\"Original:\", text)\n",
        "    print(\"Reversed:\", reverse_string(text))\n",
        "    print(\"Capitalized:\", capitalize_string(text))\n"
      ],
      "metadata": {
        "id": "n3MyEmM8VX70",
        "colab": {
          "base_uri": "https://localhost:8080/"
        },
        "outputId": "46147224-0afc-400d-ea32-1454d4e64562"
      },
      "execution_count": null,
      "outputs": [
        {
          "output_type": "stream",
          "name": "stdout",
          "text": [
            "Original: hello world\n",
            "Reversed: dlrow olleh\n",
            "Capitalized: Hello world\n"
          ]
        }
      ]
    },
    {
      "cell_type": "markdown",
      "source": [
        "# 15. Write a Python module named file_operations.py with functions for reading, writing, and appending data to a file."
      ],
      "metadata": {
        "id": "sLBWCccVL88E"
      }
    },
    {
      "cell_type": "code",
      "source": [
        "# file_operations.py\n",
        "\n",
        "def read_file(file_path):\n",
        "    \"\"\"\n",
        "    Reads the contents of a file.\n",
        "\n",
        "    Parameters:\n",
        "    file_path (str): The path to the file to be read.\n",
        "\n",
        "    Returns:\n",
        "    str: The contents of the file.\n",
        "    \"\"\"\n",
        "    try:\n",
        "        with open(file_path, 'r') as file:\n",
        "            return file.read()\n",
        "    except FileNotFoundError:\n",
        "        return f\"File not found: {file_path}\"\n",
        "    except Exception as e:\n",
        "        return str(e)\n",
        "\n",
        "def write_file(file_path, data):\n",
        "    \"\"\"\n",
        "    Writes data to a file, overwriting existing content.\n",
        "\n",
        "    Parameters:\n",
        "    file_path (str): The path to the file to be written.\n",
        "    data (str): The data to write to the file.\n",
        "    \"\"\"\n",
        "    try:\n",
        "        with open(file_path, 'w') as file:\n",
        "            file.write(data)\n",
        "    except Exception as e:\n",
        "        return str(e)\n",
        "\n",
        "def append_to_file(file_path, data):\n",
        "    \"\"\"\n",
        "    Appends data to a file.\n",
        "\n",
        "    Parameters:\n",
        "    file_path (str): The path to the file to be appended to.\n",
        "    data (str): The data to append to the file.\n",
        "    \"\"\"\n",
        "    try:\n",
        "        with open(file_path, 'a') as file:\n",
        "            file.write(data)\n",
        "    except Exception as e:\n",
        "        return str(e)\n",
        "\n",
        "# Example usage\n",
        "if __name__ == \"__main__\":\n",
        "    file_path = 'example.txt'\n",
        "\n",
        "    # Writing to the file\n",
        "    write_file(file_path, \"Hello, world!\\n\")\n",
        "\n",
        "    # Appending to the file\n",
        "    append_to_file(file_path, \"Appending some text.\\n\")\n",
        "\n",
        "    # Reading from the file\n",
        "    content = read_file(file_path)\n",
        "    print(\"File contents:\")\n",
        "    print(content)\n"
      ],
      "metadata": {
        "colab": {
          "base_uri": "https://localhost:8080/"
        },
        "id": "X6PoIPREL6OP",
        "outputId": "a90d82f5-3cdc-4d42-814a-b775b49c78a6"
      },
      "execution_count": null,
      "outputs": [
        {
          "output_type": "stream",
          "name": "stdout",
          "text": [
            "File contents:\n",
            "Hello, world!\n",
            "Appending some text.\n",
            "\n"
          ]
        }
      ]
    },
    {
      "cell_type": "markdown",
      "source": [
        "# 16. Write a Python program to create a text file named \"employees.txt\" and write the details of employees, including their name, age, and salary, into the file."
      ],
      "metadata": {
        "id": "gBZoh6mbMlmV"
      }
    },
    {
      "cell_type": "code",
      "source": [
        "# Create a list of employee details\n",
        "employees = [\n",
        "    {\"name\": \"John Doe\", \"age\": 30, \"salary\": 50000},\n",
        "    {\"name\": \"Jane Smith\", \"age\": 25, \"salary\": 55000},\n",
        "    {\"name\": \"Emily Johnson\", \"age\": 35, \"salary\": 60000}\n",
        "]\n",
        "\n",
        "def write_employee_details(file_path, employee_list):\n",
        "    \"\"\"\n",
        "    Writes employee details to a file.\n",
        "\n",
        "    Parameters:\n",
        "    file_path (str): The path to the file where details will be written.\n",
        "    employee_list (list): A list of dictionaries containing employee details.\n",
        "    \"\"\"\n",
        "    try:\n",
        "        with open(file_path, 'w') as file:\n",
        "            for employee in employee_list:\n",
        "                file.write(f\"Name: {employee['name']}\\n\")\n",
        "                file.write(f\"Age: {employee['age']}\\n\")\n",
        "                file.write(f\"Salary: ${employee['salary']}\\n\")\n",
        "                file.write(\"\\n\")  # Add a blank line between employees\n",
        "    except Exception as e:\n",
        "        print(f\"An error occurred: {e}\")\n",
        "\n",
        "# Define the file path\n",
        "file_path = 'employees.txt'\n",
        "\n",
        "# Write the employee details to the file\n",
        "write_employee_details(file_path, employees)\n",
        "\n",
        "print(f\"Employee details have been written to {file_path}.\")\n"
      ],
      "metadata": {
        "colab": {
          "base_uri": "https://localhost:8080/"
        },
        "id": "WM05BK3nMdBk",
        "outputId": "3c0b7a8a-6693-40c0-ba30-6e3aca4c2bcf"
      },
      "execution_count": null,
      "outputs": [
        {
          "output_type": "stream",
          "name": "stdout",
          "text": [
            "Employee details have been written to employees.txt.\n"
          ]
        }
      ]
    },
    {
      "cell_type": "markdown",
      "source": [
        "#17. Develop a Python script that opens an existing text file named \"inventory.txt\" in read mode and displays the contents of the file line by line."
      ],
      "metadata": {
        "id": "6ntv_aSLM5qp"
      }
    },
    {
      "cell_type": "code",
      "source": [
        "def read_and_display_file(file_path):\n",
        "    \"\"\"\n",
        "    Reads and displays the contents of a file line by line.\n",
        "\n",
        "    Parameters:\n",
        "    file_path (str): The path to the file to be read.\n",
        "    \"\"\"\n",
        "    try:\n",
        "        with open(file_path, 'r') as file:\n",
        "            # Read and display each line\n",
        "            for line in file:\n",
        "                print(line, end='')  # `end=''` to avoid adding extra newlines\n",
        "    except FileNotFoundError:\n",
        "        print(f\"File not found: {file_path}\")\n",
        "    except Exception as e:\n",
        "        print(f\"An error occurred: {e}\")\n",
        "\n",
        "# Define the file path\n",
        "file_path = 'inventory.txt'\n",
        "\n",
        "# Read and display the file contents\n",
        "read_and_display_file(file_path)\n"
      ],
      "metadata": {
        "colab": {
          "base_uri": "https://localhost:8080/"
        },
        "id": "mO1H0leYMzDH",
        "outputId": "bd892c80-4e97-490c-d250-64321b54b343"
      },
      "execution_count": null,
      "outputs": [
        {
          "output_type": "stream",
          "name": "stdout",
          "text": [
            "File not found: inventory.txt\n"
          ]
        }
      ]
    },
    {
      "cell_type": "markdown",
      "source": [
        "#18. Create a Python script that reads a text file named \"expenses.txt\" and calculates the total amount spent on various expenses listed in the file."
      ],
      "metadata": {
        "id": "Cjjb4oDANRoj"
      }
    },
    {
      "cell_type": "code",
      "source": [
        "def calculate_total_expenses(file_path):\n",
        "    \"\"\"\n",
        "    Reads a file containing expense amounts and calculates the total amount spent.\n",
        "\n",
        "    Parameters:\n",
        "    file_path (str): The path to the file containing the expenses.\n",
        "\n",
        "    Returns:\n",
        "    float: The total amount spent.\n",
        "    \"\"\"\n",
        "    total_amount = 0.0\n",
        "    try:\n",
        "        with open(file_path, 'r') as file:\n",
        "            for line in file:\n",
        "                line = line.strip()  # Remove any leading/trailing whitespace\n",
        "                if line:\n",
        "                    try:\n",
        "                        amount = float(line)\n",
        "                        total_amount += amount\n",
        "                    except ValueError:\n",
        "                        print(f\"Warning: Skipping invalid amount '{line}'\")\n",
        "    except FileNotFoundError:\n",
        "        print(f\"File not found: {file_path}\")\n",
        "    except Exception as e:\n",
        "        print(f\"An error occurred: {e}\")\n",
        "\n",
        "    return total_amount\n",
        "\n",
        "# Define the path to the expenses file\n",
        "file_path = 'expenses.txt'\n",
        "\n",
        "# Calculate and display the total expenses\n",
        "total_expenses = calculate_total_expenses(file_path)\n",
        "print(f\"Total amount spent: ${total_expenses:.2f}\")\n"
      ],
      "metadata": {
        "colab": {
          "base_uri": "https://localhost:8080/"
        },
        "id": "mokCRFkRNL3m",
        "outputId": "4aeeea98-1127-4f1d-b5fc-bd7221ccc6ff"
      },
      "execution_count": null,
      "outputs": [
        {
          "output_type": "stream",
          "name": "stdout",
          "text": [
            "File not found: expenses.txt\n",
            "Total amount spent: $0.00\n"
          ]
        }
      ]
    },
    {
      "cell_type": "markdown",
      "source": [
        "# 19. Create a Python program that reads a text file named \"paragraph.txt\" and counts the occurrences of each word in the paragraph, displaying the results in alphabetical order."
      ],
      "metadata": {
        "id": "BfGMsM2_RTC1"
      }
    },
    {
      "cell_type": "code",
      "source": [
        "from collections import Counter\n",
        "import string\n",
        "\n",
        "def count_words_in_paragraph(file_path):\n",
        "    \"\"\"\n",
        "    Counts the occurrences of each word in the text file and displays the results in alphabetical order.\n",
        "\n",
        "    Parameters:\n",
        "    file_path (str): The path to the text file.\n",
        "\n",
        "    Returns:\n",
        "    dict: A dictionary of words and their counts.\n",
        "    \"\"\"\n",
        "    try:\n",
        "        with open(file_path, 'r') as file:\n",
        "            # Read the entire file content\n",
        "            text = file.read().lower()\n",
        "\n",
        "            # Remove punctuation using str.translate and str.maketrans\n",
        "            text = text.translate(str.maketrans(\"\", \"\", string.punctuation))\n",
        "\n",
        "            # Split the text into words\n",
        "            words = text.split()\n",
        "\n",
        "            # Count occurrences of each word using Counter\n",
        "            word_count = Counter(words)\n",
        "\n",
        "            # Sort the word count dictionary alphabetically by word\n",
        "            sorted_word_count = dict(sorted(word_count.items()))\n",
        "\n",
        "            return sorted_word_count\n",
        "    except FileNotFoundError:\n",
        "        print(f\"File not found: {file_path}\")\n",
        "        return {}\n",
        "    except Exception as e:\n",
        "        print(f\"An error occurred: {e}\")\n",
        "        return {}\n",
        "\n",
        "# Define the file path\n",
        "file_path = 'paragraph.txt'\n",
        "\n",
        "# Get the word counts\n",
        "word_counts = count_words_in_paragraph(file_path)\n",
        "\n",
        "# Display the results\n",
        "print(\"Word occurrences in alphabetical order:\")\n",
        "for word, count in word_counts.items():\n",
        "    print(f\"{word}: {count}\")\n"
      ],
      "metadata": {
        "colab": {
          "base_uri": "https://localhost:8080/"
        },
        "id": "Fgozx7TFNf20",
        "outputId": "d57ec34f-150c-4d84-dae2-a640582dfd89"
      },
      "execution_count": null,
      "outputs": [
        {
          "output_type": "stream",
          "name": "stdout",
          "text": [
            "File not found: paragraph.txt\n",
            "Word occurrences in alphabetical order:\n"
          ]
        }
      ]
    },
    {
      "cell_type": "markdown",
      "source": [
        "# 24. Calculate coefficient of correlation between the marks obtained by 10 students in Accountancy and statistics:"
      ],
      "metadata": {
        "id": "i9pPiwY-UzBG"
      }
    },
    {
      "cell_type": "code",
      "source": [
        "import numpy as np\n",
        "\n",
        "# Given data\n",
        "X = np.array([45, 70, 65, 30, 90, 40, 50, 75, 85, 60])  # Marks in Accountancy\n",
        "Y = np.array([35, 90, 70, 40, 95, 40, 60, 80, 80, 50])  # Marks in Statistics\n",
        "\n",
        "# Number of students\n",
        "n = len(X)\n",
        "\n",
        "# Calculate Pearson's correlation coefficient\n",
        "numerator = n * np.sum(X * Y) - np.sum(X) * np.sum(Y)\n",
        "denominator = np.sqrt((n * np.sum(X**2) - np.sum(X)**2) * (n * np.sum(Y**2) - np.sum(Y)**2))\n",
        "r = numerator / denominator\n",
        "\n",
        "r\n"
      ],
      "metadata": {
        "colab": {
          "base_uri": "https://localhost:8080/"
        },
        "id": "x167VrX9RYpT",
        "outputId": "3c1f8479-c783-4fcd-a19f-059f6c3da86e"
      },
      "execution_count": null,
      "outputs": [
        {
          "output_type": "execute_result",
          "data": {
            "text/plain": [
              "0.9031178882610624"
            ]
          },
          "metadata": {},
          "execution_count": 7
        }
      ]
    },
    {
      "cell_type": "code",
      "source": [],
      "metadata": {
        "id": "tD9SVKX4UsbM"
      },
      "execution_count": null,
      "outputs": []
    }
  ]
}