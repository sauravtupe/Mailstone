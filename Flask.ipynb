{
  "cells": [
    {
      "cell_type": "markdown",
      "metadata": {
        "id": "-WvdOcY_nr_R"
      },
      "source": [
        "# 39.How would you create a basic Flask route that displays \"Hello, World!\" on the homepage?"
      ]
    },
    {
      "cell_type": "code",
      "execution_count": null,
      "metadata": {
        "colab": {
          "base_uri": "https://localhost:8080/"
        },
        "id": "_lItdIdYniaB",
        "outputId": "158b8d08-5073-4f1b-aba0-213f913451fd"
      },
      "outputs": [
        {
          "name": "stdout",
          "output_type": "stream",
          "text": [
            "Requirement already satisfied: Flask in /usr/local/lib/python3.10/dist-packages (2.2.5)\n",
            "Requirement already satisfied: Werkzeug>=2.2.2 in /usr/local/lib/python3.10/dist-packages (from Flask) (3.0.3)\n",
            "Requirement already satisfied: Jinja2>=3.0 in /usr/local/lib/python3.10/dist-packages (from Flask) (3.1.4)\n",
            "Requirement already satisfied: itsdangerous>=2.0 in /usr/local/lib/python3.10/dist-packages (from Flask) (2.2.0)\n",
            "Requirement already satisfied: click>=8.0 in /usr/local/lib/python3.10/dist-packages (from Flask) (8.1.7)\n",
            "Requirement already satisfied: MarkupSafe>=2.0 in /usr/local/lib/python3.10/dist-packages (from Jinja2>=3.0->Flask) (2.1.5)\n"
          ]
        }
      ],
      "source": [
        "pip install Flask"
      ]
    },
    {
      "cell_type": "code",
      "execution_count": null,
      "metadata": {
        "colab": {
          "background_save": true,
          "base_uri": "https://localhost:8080/"
        },
        "id": "r9cFZPIEn5ZH",
        "outputId": "3fb19fbc-204c-420e-9289-0bf57b2371d6"
      },
      "outputs": [
        {
          "name": "stdout",
          "output_type": "stream",
          "text": [
            " * Serving Flask app '__main__'\n",
            " * Debug mode: on\n"
          ]
        },
        {
          "name": "stderr",
          "output_type": "stream",
          "text": [
            "INFO:werkzeug:\u001b[31m\u001b[1mWARNING: This is a development server. Do not use it in a production deployment. Use a production WSGI server instead.\u001b[0m\n",
            " * Running on http://127.0.0.1:5000\n",
            "INFO:werkzeug:\u001b[33mPress CTRL+C to quit\u001b[0m\n",
            "INFO:werkzeug: * Restarting with stat\n"
          ]
        }
      ],
      "source": [
        "from flask import Flask\n",
        "\n",
        "# Create an instance of the Flask class\n",
        "app = Flask(__name__)\n",
        "\n",
        "# Define the route for the homepage\n",
        "@app.route('/')\n",
        "def hello_world():\n",
        "    return 'Hello, World!'\n",
        "\n",
        "# Run the application\n",
        "if __name__ == '__main__':\n",
        "    app.run(debug=True)\n"
      ]
    },
    {
      "cell_type": "markdown",
      "metadata": {
        "id": "peJFtfMiorBj"
      },
      "source": [
        "# 40.Explain how to set up a Flask application to handle form submissions using POST requests."
      ]
    },
    {
      "cell_type": "code",
      "execution_count": null,
      "metadata": {
        "id": "usH4d6aSoMMP"
      },
      "outputs": [],
      "source": [
        "from flask import Flask, render_template, request\n",
        "\n",
        "# Initialize the Flask application\n",
        "app = Flask(__name__)\n",
        "\n",
        "# Route to display the form and handle the form submission\n",
        "@app.route('/', methods=['GET', 'POST'])\n",
        "def form_handler():\n",
        "    if request.method == 'POST':\n",
        "        # Retrieve form data\n",
        "        name = request.form['name']\n",
        "        email = request.form['email']\n",
        "\n",
        "        # Process the data (for now, just return it)\n",
        "        return f\"Name: {name}, Email: {email}\"\n",
        "\n",
        "    # Render the form on GET request\n",
        "    return render_template('form.html')\n",
        "\n",
        "# Run the application\n",
        "if __name__ == '__main__':\n",
        "    app.run(debug=True)\n"
      ]
    },
    {
      "cell_type": "markdown",
      "metadata": {
        "id": "m0LqztETpCEc"
      },
      "source": [
        "# 41.Write a Flask route that accepts a parameter in the URL and displays it on the page."
      ]
    },
    {
      "cell_type": "code",
      "execution_count": null,
      "metadata": {
        "id": "goHO0ZV_ouGt"
      },
      "outputs": [],
      "source": [
        "from flask import Flask\n",
        "\n",
        "app = Flask(__name__)\n",
        "\n",
        "@app.route('/display/<parameter>')\n",
        "def display_parameter(parameter):\n",
        "    return f\"You entered: {parameter}\"\n",
        "\n",
        "if __name__ == '__main__':\n",
        "    app.run(debug=True)\n"
      ]
    },
    {
      "cell_type": "markdown",
      "metadata": {
        "id": "6HppIT4lppVl"
      },
      "source": [
        "# 42.How can you implement user authentication in a Flask application?"
      ]
    },
    {
      "cell_type": "code",
      "execution_count": null,
      "metadata": {
        "id": "TUAr2DxSpGKS"
      },
      "outputs": [],
      "source": [
        "from flask import Flask, render_template, redirect, url_for, request, flash\n",
        "from flask_sqlalchemy import SQLAlchemy\n",
        "from flask_login import LoginManager, UserMixin, login_user, login_required, logout_user, current_user\n",
        "from werkzeug.security import generate_password_hash, check_password_hash\n",
        "\n",
        "app = Flask(__name__)\n",
        "app.config['SECRET_KEY'] = 'your_secret_key'\n",
        "app.config['SQLALCHEMY_DATABASE_URI'] = 'sqlite:///users.db'\n",
        "db = SQLAlchemy(app)\n",
        "login_manager = LoginManager(app)\n",
        "login_manager.login_view = 'login'\n",
        "\n",
        "# User model\n",
        "class User(UserMixin, db.Model):\n",
        "    id = db.Column(db.Integer, primary_key=True)\n",
        "    username = db.Column(db.String(150), unique=True, nullable=False)\n",
        "    password = db.Column(db.String(150), nullable=False)\n",
        "\n",
        "# Load user function\n",
        "@login_manager.user_loader\n",
        "def load_user(user_id):\n",
        "    return User.query.get(int(user_id))\n",
        "\n",
        "# Route for registration\n",
        "@app.route('/register', methods=['GET', 'POST'])\n",
        "def register():\n",
        "    if request.method == 'POST':\n",
        "        username = request.form.get('username')\n",
        "        password = request.form.get('password')\n",
        "        hashed_password = generate_password_hash(password, method='sha256')\n",
        "\n",
        "        new_user = User(username=username, password=hashed_password)\n",
        "        db.session.add(new_user)\n",
        "        db.session.commit()\n",
        "\n",
        "        flash('Registration successful! Please log in.')\n",
        "        return redirect(url_for('login'))\n",
        "\n",
        "    return render_template('register.html')\n",
        "\n",
        "# Route for login\n",
        "@app.route('/login', methods=['GET', 'POST'])\n",
        "def login():\n",
        "    if request.method == 'POST':\n",
        "        username = request.form.get('username')\n",
        "        password = request.form.get('password')\n",
        "\n",
        "        user = User.query.filter_by(username=username).first()\n",
        "        if user and check_password_hash(user.password, password):\n",
        "            login_user(user)\n",
        "            return redirect(url_for('dashboard'))\n",
        "        else:\n",
        "            flash('Login failed. Please check your username and password.')\n",
        "\n",
        "    return render_template('login.html')\n",
        "\n",
        "# Protected dashboard route\n",
        "@app.route('/dashboard')\n",
        "@login_required\n",
        "def dashboard():\n",
        "    return f\"Hello, {current_user.username}! Welcome to your dashboard.\"\n",
        "\n",
        "# Logout route\n",
        "@app.route('/logout')\n",
        "@login_required\n",
        "def logout():\n",
        "    logout_user()\n",
        "    return redirect(url_for('login'))\n",
        "\n",
        "if __name__ == '__main__':\n",
        "    db.create_all()\n",
        "    app.run(debug=True)\n"
      ]
    },
    {
      "cell_type": "markdown",
      "metadata": {
        "id": "fvoaSClJqXsw"
      },
      "source": [
        "# 43.Describe the process of connecting a Flask app to a SQLite database using SQLAlchemy."
      ]
    },
    {
      "cell_type": "code",
      "execution_count": null,
      "metadata": {
        "id": "hN1BJ5pKqP5L"
      },
      "outputs": [],
      "source": [
        "pip install Flask SQLAlchemy"
      ]
    },
    {
      "cell_type": "code",
      "execution_count": null,
      "metadata": {
        "id": "u8aCv4JXqxvI"
      },
      "outputs": [],
      "source": [
        "from flask import Flask\n",
        "from flask_sqlalchemy import SQLAlchemy\n",
        "\n",
        "app = Flask(__name__)\n",
        "\n",
        "# Configure the SQLite database\n",
        "app.config['SQLALCHEMY_DATABASE_URI'] = 'sqlite:///your_database_name.db'\n",
        "app.config['SQLALCHEMY_TRACK_MODIFICATIONS'] = False\n",
        "\n",
        "# Initialize the SQLAlchemy instance\n",
        "db = SQLAlchemy(app)\n"
      ]
    },
    {
      "cell_type": "code",
      "execution_count": null,
      "metadata": {
        "id": "k92dsa-Zqzs3"
      },
      "outputs": [],
      "source": [
        "class User(db.Model):\n",
        "    id = db.Column(db.Integer, primary_key=True)\n",
        "    username = db.Column(db.String(80), unique=True, nullable=False)\n",
        "    email = db.Column(db.String(120), unique=True, nullable=False)\n",
        "\n",
        "    def __repr__(self):\n",
        "        return f'<User {self.username}>'\n"
      ]
    },
    {
      "cell_type": "markdown",
      "metadata": {
        "id": "lLEaAZxiq6s7"
      },
      "source": [
        "# 44.How would you create a RESTful API endpoint in Flask that returns JSON data?"
      ]
    },
    {
      "cell_type": "code",
      "execution_count": null,
      "metadata": {
        "id": "don0zgf0q2r2"
      },
      "outputs": [],
      "source": [
        "from flask import Flask, jsonify\n",
        "\n",
        "app = Flask(__name__)"
      ]
    },
    {
      "cell_type": "code",
      "execution_count": null,
      "metadata": {
        "id": "w9vynX3XrBXf"
      },
      "outputs": [],
      "source": [
        "@app.route('/api/data', methods=['GET'])\n",
        "def get_data():\n",
        "    data = {\n",
        "        \"name\": \"Sourav\",\n",
        "        \"age\": 25,\n",
        "        \"profession\": \"Data Scientist\"\n",
        "    }\n",
        "    return jsonify(data)\n"
      ]
    },
    {
      "cell_type": "code",
      "execution_count": null,
      "metadata": {
        "id": "mpKMcx6irCss"
      },
      "outputs": [],
      "source": [
        "@app.route('/api/users', methods=['GET'])\n",
        "def get_users():\n",
        "    users = [\n",
        "        {\"id\": 1, \"name\": \"Sourav\", \"profession\": \"Data Scientist\"},\n",
        "        {\"id\": 2, \"name\": \"Rahul\", \"profession\": \"Software Engineer\"},\n",
        "        {\"id\": 3, \"name\": \"Priya\", \"profession\": \"Product Manager\"}\n",
        "    ]\n",
        "    return jsonify(users)\n"
      ]
    },
    {
      "cell_type": "markdown",
      "metadata": {
        "id": "zJspFjCSrMvb"
      },
      "source": [
        "# 45.Explain how to use Flask-WTF to create and validate forms in a Flask application."
      ]
    },
    {
      "cell_type": "code",
      "execution_count": null,
      "metadata": {
        "id": "DWtkhalLrHmY"
      },
      "outputs": [],
      "source": [
        "pip install Flask-WTF"
      ]
    },
    {
      "cell_type": "code",
      "execution_count": null,
      "metadata": {
        "id": "wpE2RHchrPpB"
      },
      "outputs": [],
      "source": [
        "from flask import Flask, render_template, redirect, url_for, flash\n",
        "from flask_wtf import FlaskForm\n",
        "from wtforms import StringField, PasswordField, SubmitField\n",
        "from wtforms.validators import DataRequired, Email, Length\n",
        "\n",
        "app = Flask(__name__)\n",
        "app.config['SECRET_KEY'] = 'your_secret_key'  # Required for CSRF protection\n"
      ]
    },
    {
      "cell_type": "code",
      "execution_count": null,
      "metadata": {
        "id": "YmZwlY1grT9U"
      },
      "outputs": [],
      "source": [
        "class LoginForm(FlaskForm):\n",
        "    username = StringField('Username', validators=[DataRequired(), Length(min=4, max=20)])\n",
        "    email = StringField('Email', validators=[DataRequired(), Email()])\n",
        "    password = PasswordField('Password', validators=[DataRequired(), Length(min=6)])\n",
        "    submit = SubmitField('Login')\n"
      ]
    },
    {
      "cell_type": "code",
      "execution_count": null,
      "metadata": {
        "id": "m_wS29nzrWSt"
      },
      "outputs": [],
      "source": [
        "@app.route('/login', methods=['GET', 'POST'])\n",
        "def login():\n",
        "    form = LoginForm()\n",
        "    if form.validate_on_submit():\n",
        "        # Process the form data here\n",
        "        username = form.username.data\n",
        "        email = form.email.data\n",
        "        password = form.password.data\n",
        "        flash('Form submitted successfully!', 'success')\n",
        "        return redirect(url_for('login'))\n",
        "\n",
        "    return render_template('login.html', form=form)\n"
      ]
    },
    {
      "cell_type": "markdown",
      "metadata": {
        "id": "VRrVDyfPrjio"
      },
      "source": [
        "# 46.How can you implement file uploads in a Flask application?"
      ]
    },
    {
      "cell_type": "code",
      "execution_count": null,
      "metadata": {
        "id": "ySH4zBS2rXpK"
      },
      "outputs": [],
      "source": [
        "from flask import Flask, request, redirect, url_for, render_template, flash\n",
        "import os\n",
        "\n",
        "app = Flask(__name__)\n",
        "app.config['SECRET_KEY'] = 'your_secret_key'\n",
        "app.config['UPLOAD_FOLDER'] = 'uploads'  # Directory to save uploaded files\n",
        "app.config['ALLOWED_EXTENSIONS'] = {'png', 'jpg', 'jpeg', 'gif'}  # Allowed file extensions\n",
        "\n",
        "if not os.path.exists(app.config['UPLOAD_FOLDER']):\n",
        "    os.makedirs(app.config['UPLOAD_FOLDER'])\n"
      ]
    },
    {
      "cell_type": "code",
      "execution_count": null,
      "metadata": {
        "id": "111RCYXarm4_"
      },
      "outputs": [],
      "source": [
        "def allowed_file(filename):\n",
        "    return '.' in filename and \\\n",
        "           filename.rsplit('.', 1)[1].lower() in app.config['ALLOWED_EXTENSIONS']\n"
      ]
    },
    {
      "cell_type": "code",
      "execution_count": null,
      "metadata": {
        "id": "vi6eBAx8rpJP"
      },
      "outputs": [],
      "source": [
        "@app.route('/upload', methods=['GET', 'POST'])\n",
        "def upload_file():\n",
        "    if request.method == 'POST':\n",
        "        if 'file' not in request.files:\n",
        "            flash('No file part')\n",
        "            return redirect(request.url)\n",
        "        file = request.files['file']\n",
        "        if file.filename == '':\n",
        "            flash('No selected file')\n",
        "            return redirect(request.url)\n",
        "        if file and allowed_file(file.filename):\n",
        "            filename = secure_filename(file.filename)\n",
        "            file.save(os.path.join(app.config['UPLOAD_FOLDER'], filename))\n",
        "            flash('File successfully uploaded')\n",
        "            return redirect(url_for('upload_file'))\n",
        "    return render_template('upload.html')\n"
      ]
    },
    {
      "cell_type": "markdown",
      "metadata": {
        "id": "wSTcDCsZrvti"
      },
      "source": [
        "# 47.Describe the steps to create a Flask blueprint and why you might use one."
      ]
    },
    {
      "cell_type": "code",
      "execution_count": null,
      "metadata": {
        "id": "wY4QPjkerq6h"
      },
      "outputs": [],
      "source": [
        "from flask import Flask\n",
        "\n",
        "app = Flask(__name__)\n",
        "\n",
        "if __name__ == '__main__':\n",
        "    app.run(debug=True)\n"
      ]
    },
    {
      "cell_type": "code",
      "execution_count": null,
      "metadata": {
        "id": "sO-VQ-SOsR_z"
      },
      "outputs": [],
      "source": [
        "from flask import Blueprint, render_template\n",
        "\n",
        "# Define the blueprint\n",
        "users_bp = Blueprint('users', __name__)\n",
        "\n",
        "# Define routes for the blueprint\n",
        "@users_bp.route('/profile')\n",
        "def profile():\n",
        "    return render_template('profile.html')\n",
        "\n",
        "@users_bp.route('/settings')\n",
        "def settings():\n",
        "    return render_template('settings.html')\n"
      ]
    },
    {
      "cell_type": "code",
      "execution_count": null,
      "metadata": {
        "id": "LfefZakqsWxb"
      },
      "outputs": [],
      "source": [
        "from flask import Blueprint, render_template\n",
        "\n",
        "# Define the blueprint\n",
        "users_bp = Blueprint('users', __name__)\n",
        "\n",
        "# Define routes for the blueprint\n",
        "@users_bp.route('/profile')\n",
        "def profile():\n",
        "    return render_template('profile.html')\n",
        "\n",
        "@users_bp.route('/settings')\n",
        "def settings():\n",
        "    return render_template('settings.html')\n"
      ]
    },
    {
      "cell_type": "markdown",
      "metadata": {
        "id": "dLIFtK2CsqGn"
      },
      "source": [
        "# 48.How would you deploy a Flask application to a production server using Gunicorn and Nginx?"
      ]
    },
    {
      "cell_type": "code",
      "execution_count": null,
      "metadata": {
        "id": "6wYfM_Pqscnr"
      },
      "outputs": [],
      "source": [
        "[Unit]\n",
        "Description=Gunicorn instance to serve myapp\n",
        "After=network.target\n",
        "\n",
        "[Service]\n",
        "User=your_username\n",
        "Group=www-data\n",
        "WorkingDirectory=/path/to/your/app\n",
        "Environment=\"PATH=/path/to/your/app/venv/bin\"\n",
        "ExecStart=/path/to/your/app/venv/bin/gunicorn -w 4 -b 0.0.0.0:8000 app:app\n",
        "\n",
        "[Install]\n",
        "WantedBy=multi-user.target\n"
      ]
    },
    {
      "cell_type": "markdown",
      "metadata": {
        "id": "ZUwAvT54tLSn"
      },
      "source": [
        "# 49. Make a fully functional web application using flask, Mangodb. Signup,Signin page.And after successfully login .Say hello Geeks message at webpage.\n",
        "\n",
        "\n",
        "\n"
      ]
    },
    {
      "cell_type": "code",
      "execution_count": null,
      "metadata": {
        "id": "X27Sdssps-Pe"
      },
      "outputs": [],
      "source": [
        "from flask import Flask, render_template, request, redirect, url_for, flash, session\n",
        "from flask_pymongo import PyMongo\n",
        "from werkzeug.security import generate_password_hash, check_password_hash\n",
        "\n",
        "app = Flask(__name__)\n",
        "app.config['SECRET_KEY'] = 'your_secret_key'  # Change this to a random secret key\n",
        "app.config['MONGO_URI'] = 'mongodb://localhost:27017/mydatabase'  # MongoDB URI\n",
        "\n",
        "mongo = PyMongo(app)\n",
        "\n",
        "@app.route('/')\n",
        "def home():\n",
        "    if 'username' in session:\n",
        "        return render_template('home.html', username=session['username'])\n",
        "    return redirect(url_for('signin'))\n",
        "\n",
        "@app.route('/signup', methods=['GET', 'POST'])\n",
        "def signup():\n",
        "    if request.method == 'POST':\n",
        "        username = request.form['username']\n",
        "        password = request.form['password']\n",
        "        hashed_password = generate_password_hash(password, method='sha256')\n",
        "\n",
        "        users = mongo.db.users\n",
        "        if users.find_one({'username': username}):\n",
        "            flash('Username already exists')\n",
        "            return redirect(url_for('signup'))\n",
        "\n",
        "        users.insert_one({'username': username, 'password': hashed_password})\n",
        "        flash('Signup successful! Please sign in.')\n",
        "        return redirect(url_for('signin'))\n",
        "\n",
        "    return render_template('signup.html')\n",
        "\n",
        "@app.route('/signin', methods=['GET', 'POST'])\n",
        "def signin():\n",
        "    if request.method == 'POST':\n",
        "        username = request.form['username']\n",
        "        password = request.form['password']\n",
        "\n",
        "        users = mongo.db.users\n",
        "        user = users.find_one({'username': username})\n",
        "\n",
        "        if user and check_password_hash(user['password'], password):\n",
        "            session['username'] = username\n",
        "            return redirect(url_for('home'))\n",
        "        else:\n",
        "            flash('Invalid username or password')\n",
        "\n",
        "    return render_template('signin.html')\n",
        "\n",
        "@app.route('/logout')\n",
        "def logout():\n",
        "    session.pop('username', None)\n",
        "    return redirect(url_for('signin'))\n",
        "\n",
        "if __name__ == '__main__':\n",
        "    app.run(debug=True)\n"
      ]
    },
    {
      "cell_type": "code",
      "execution_count": null,
      "metadata": {
        "id": "69tGa_BjtVvI"
      },
      "outputs": [],
      "source": []
    }
  ],
  "metadata": {
    "colab": {
      "provenance": []
    },
    "kernelspec": {
      "display_name": "Python 3",
      "name": "python3"
    },
    "language_info": {
      "name": "python"
    }
  },
  "nbformat": 4,
  "nbformat_minor": 0
}